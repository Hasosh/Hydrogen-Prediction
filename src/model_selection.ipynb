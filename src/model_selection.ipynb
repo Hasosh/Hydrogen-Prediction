{
 "cells": [
  {
   "cell_type": "code",
   "execution_count": 1,
   "id": "4de7a182-4edf-493a-a853-5de2f7f0e432",
   "metadata": {},
   "outputs": [],
   "source": [
    "import numpy as np\n",
    "import pandas as pd\n",
    "from sklearn.model_selection import train_test_split\n",
    "import pickle\n",
    "from sklearn.multioutput import MultiOutputRegressor\n",
    "import matplotlib.pyplot as plt\n",
    "%matplotlib inline"
   ]
  },
  {
   "cell_type": "code",
   "execution_count": 2,
   "id": "700f4df3-106a-40ad-8567-0d997a76dc00",
   "metadata": {},
   "outputs": [],
   "source": [
    "train_data = np.load('../data/dataset-C4-depth1/training-validation.npz')"
   ]
  },
  {
   "cell_type": "code",
   "execution_count": 3,
   "id": "d334c47f-4656-4cb1-8a79-591e6d57a93f",
   "metadata": {},
   "outputs": [],
   "source": [
    "X_train, y_train = train_data['X_train'], train_data['y_train']"
   ]
  },
  {
   "cell_type": "code",
   "execution_count": 4,
   "id": "317f743a-0fef-47ae-80bc-ecbceee19d0d",
   "metadata": {},
   "outputs": [
    {
     "data": {
      "text/plain": [
       "(56288, 33)"
      ]
     },
     "execution_count": 4,
     "metadata": {},
     "output_type": "execute_result"
    }
   ],
   "source": [
    "X_train.shape"
   ]
  },
  {
   "cell_type": "code",
   "execution_count": 5,
   "id": "6ad86814-0210-42a2-8dab-8f43408ce429",
   "metadata": {},
   "outputs": [
    {
     "data": {
      "text/plain": [
       "(56288, 3)"
      ]
     },
     "execution_count": 5,
     "metadata": {},
     "output_type": "execute_result"
    }
   ],
   "source": [
    "y_train.shape"
   ]
  },
  {
   "cell_type": "code",
   "execution_count": 6,
   "id": "b17e7ed5-9033-442b-ba81-564f0b2f9a51",
   "metadata": {},
   "outputs": [],
   "source": [
    "# Split the data to training - validation (not testing yet!)\n",
    "X_train, X_val, y_train, y_val = train_test_split(X_train, y_train, test_size=0.2, random_state=42)"
   ]
  },
  {
   "cell_type": "code",
   "execution_count": 7,
   "id": "596d7c6f-20ae-4646-b0d4-e2cd8f8a3fd6",
   "metadata": {},
   "outputs": [
    {
     "data": {
      "text/plain": [
       "(45030, 33)"
      ]
     },
     "execution_count": 7,
     "metadata": {},
     "output_type": "execute_result"
    }
   ],
   "source": [
    "X_train.shape"
   ]
  },
  {
   "cell_type": "code",
   "execution_count": 8,
   "id": "4d858ea9-b1c7-490b-8680-fca367a2d50a",
   "metadata": {},
   "outputs": [
    {
     "data": {
      "text/plain": [
       "(11258, 33)"
      ]
     },
     "execution_count": 8,
     "metadata": {},
     "output_type": "execute_result"
    }
   ],
   "source": [
    "X_val.shape"
   ]
  },
  {
   "cell_type": "markdown",
   "id": "f3a04354-249d-4494-a705-52231a8f5fc5",
   "metadata": {},
   "source": [
    "# Extract relative coordinates from input vector"
   ]
  },
  {
   "cell_type": "code",
   "execution_count": 11,
   "id": "77c8aa8b-18cd-4d8d-b29b-d13fe2337aa7",
   "metadata": {},
   "outputs": [],
   "source": [
    "X_val_coords = extract_relative_coordinates(X_val)"
   ]
  },
  {
   "cell_type": "code",
   "execution_count": 33,
   "id": "c3fec0bb-43c8-42ca-9d64-b77246910ff9",
   "metadata": {},
   "outputs": [
    {
     "data": {
      "text/plain": [
       "array([ 0.   ,  1.   ,  0.   ,  0.   ,  0.   ,  1.   ,  0.   ,  0.   ,\n",
       "       -1.329,  0.148, -0.242,  0.   ,  1.   ,  0.   ,  0.   ,  0.   ,\n",
       "        1.   ,  0.   ,  0.   ,  0.514, -1.416, -0.026,  0.   ,  0.   ,\n",
       "        0.   ,  1.   ,  0.   ,  1.   ,  0.   ,  0.   ,  0.73 ,  0.66 ,\n",
       "       -1.098])"
      ]
     },
     "execution_count": 33,
     "metadata": {},
     "output_type": "execute_result"
    }
   ],
   "source": [
    "X_val[0]"
   ]
  },
  {
   "cell_type": "code",
   "execution_count": 35,
   "id": "bc8af173-ec7d-4cdb-b786-20d507a9f9a6",
   "metadata": {},
   "outputs": [
    {
     "data": {
      "text/plain": [
       "[[-1.3289999999999997, 0.1479999999999997, -0.2419999999999991],\n",
       " [0.5139999999999998, -1.4160000000000004, -0.0259999999999998],\n",
       " [0.73, 0.6600000000000001, -1.0980000000000008]]"
      ]
     },
     "execution_count": 35,
     "metadata": {},
     "output_type": "execute_result"
    }
   ],
   "source": [
    "X_val_coords[0]"
   ]
  },
  {
   "cell_type": "markdown",
   "id": "53c2c3e2-7282-4d7d-8df6-b38b0f0c6e5d",
   "metadata": {},
   "source": [
    "# Evaluation scheme for regression\n",
    "- uses methods from ```evaluation.py```"
   ]
  },
  {
   "cell_type": "code",
   "execution_count": 9,
   "id": "c48ef86b-62cb-471c-a25e-721a73ff481b",
   "metadata": {},
   "outputs": [],
   "source": [
    "from evaluation import *\n",
    "from sklearn.metrics import mean_absolute_error, mean_squared_error, r2_score"
   ]
  },
  {
   "cell_type": "code",
   "execution_count": 10,
   "id": "2d24337a-b4fb-4a86-8ad0-7c89484134fd",
   "metadata": {},
   "outputs": [],
   "source": [
    "def eval_regression(y_test, y_pred):\n",
    "    print(\"Alle folgenden Metriken sind H zu H'\")\n",
    "    # absoluter Abstand H zu H' (MSE Score)\n",
    "    mse = mean_squared_error(y_test, y_pred)\n",
    "    print(\"Mittlerer Abstand: \", mse)\n",
    "\n",
    "    # R2 Bestimmtheitskoeffizient\n",
    "    r2 = r2_score(y_test, y_pred)\n",
    "    print(\"R2 Bestimmtheitsmaß: \", r2)\n",
    "\n",
    "    # Durchschnittliche Cosine Similarity (kann ignoriert werden) und durchschnittliche Winkel\n",
    "    avg_cosine_similarity, avg_angle = metric_cosine_similarity_and_angle(y_test, y_pred)\n",
    "    print(\"Average Cosine Similarity: \", avg_cosine_similarity)\n",
    "    print(\"Average Angle (degrees): \", avg_angle)\n",
    "\n",
    "    # Duchschnittliche Bindungslängendifferenz\n",
    "    avg_bindugslänge_diff = metric_bindungslänge_differenz(y_test, y_pred)\n",
    "    print(\"Durschnittliche Bindungslänge Differenz: \", avg_bindugslänge_diff)\n",
    "\n",
    "    return mse, r2, avg_angle, avg_bindugslänge_diff"
   ]
  },
  {
   "cell_type": "markdown",
   "id": "6d98a8d1-9d6d-4f42-852d-721dc932f7cd",
   "metadata": {},
   "source": [
    "# Linear regression models\n",
    "- <span style=\"color:red\">worse than all results of tree-based models / bagging and boosting models</span>"
   ]
  },
  {
   "cell_type": "code",
   "execution_count": 93,
   "id": "0050feb4-2743-47b4-a0bb-14dc74589ce2",
   "metadata": {},
   "outputs": [],
   "source": [
    "from sklearn.linear_model import LinearRegression, Ridge, Lasso\n",
    "from sklearn.multioutput import MultiOutputRegressor"
   ]
  },
  {
   "cell_type": "markdown",
   "id": "05022e2d-781f-4686-aaa1-4233415d4efe",
   "metadata": {},
   "source": [
    "## Normal linear regression"
   ]
  },
  {
   "cell_type": "code",
   "execution_count": 113,
   "id": "24456b48-a698-4108-bd09-82275bd50bc6",
   "metadata": {},
   "outputs": [],
   "source": [
    "# Create and train the model\n",
    "model = LinearRegression()\n",
    "model.fit(X_train, y_train)\n",
    "\n",
    "# Make predictions\n",
    "y_pred = model.predict(X_val)"
   ]
  },
  {
   "cell_type": "code",
   "execution_count": 114,
   "id": "3a328e0f-5925-4139-a9d3-c6a24d41360f",
   "metadata": {},
   "outputs": [
    {
     "name": "stdout",
     "output_type": "stream",
     "text": [
      "Alle folgenden Metriken sind H zu H'\n",
      "Mittlerer Abstand:  0.01850408424793057\n",
      "R2 Bestimmtheitsmaß:  0.9542518778589825\n",
      "Average Cosine Similarity:  0.9867936578433114\n",
      "Average Angle (degrees):  5.370116450524072\n",
      "Durschnittliche Bindungslänge Differenz:  0.03732114580310908\n"
     ]
    }
   ],
   "source": [
    "metrics = eval_regression(y_val, y_pred)"
   ]
  },
  {
   "cell_type": "markdown",
   "id": "152db1fd-a2f6-4f67-8fe8-5ef6a8c98f03",
   "metadata": {},
   "source": [
    "### mit vorsicht zu genießen, da die Größe der LG coefficients nicht unbedingt was über wichtigkeit aussagt"
   ]
  },
  {
   "cell_type": "code",
   "execution_count": 116,
   "id": "509bdbee-6f6b-407d-92f3-b5da41dab3b6",
   "metadata": {},
   "outputs": [
    {
     "data": {
      "image/png": "[encoded data removed]",
      "text/plain": [
       "<Figure size 1200x800 with 1 Axes>"
      ]
     },
     "metadata": {},
     "output_type": "display_data"
    }
   ],
   "source": [
    "# Get feature importances (coefficients)\n",
    "coefficients = model.coef_\n",
    "\n",
    "# If y_train is multidimensional (multi-output regression), average the coefficients\n",
    "if coefficients.ndim > 1:\n",
    "    coefficients = np.mean(coefficients, axis=0)\n",
    "\n",
    "# Create a DataFrame for plotting\n",
    "feature_importances_df = pd.DataFrame({\n",
    "    'Feature': range(X_train.shape[1]),\n",
    "    'Importance': coefficients\n",
    "})\n",
    "\n",
    "# Sort the DataFrame by importance\n",
    "feature_importances_df = feature_importances_df.sort_values(by='Importance', ascending=False)\n",
    "\n",
    "# Plot feature importances\n",
    "plt.figure(figsize=(12, 8))\n",
    "plt.barh(feature_importances_df['Feature'], abs(feature_importances_df['Importance']), color='b')\n",
    "plt.xlabel('Absolute Importance')\n",
    "plt.ylabel('Feature')\n",
    "plt.title('Feature Importances from Linear Regression')\n",
    "plt.gca().invert_yaxis()  # Invert y-axis to have the most important feature on top\n",
    "plt.show()"
   ]
  },
  {
   "cell_type": "markdown",
   "id": "6ec128a2-6f82-465d-b292-dfc262e77b21",
   "metadata": {},
   "source": [
    "## Ridge"
   ]
  },
  {
   "cell_type": "code",
   "execution_count": 98,
   "id": "dd416cb8-18cc-4eaf-a9a3-c2a2d48bff33",
   "metadata": {},
   "outputs": [],
   "source": [
    "# Initialize the base Ridge model\n",
    "ridge_base = Ridge(alpha=0.001)\n",
    "\n",
    "# Wrap the Ridge model with MultiOutputRegressor\n",
    "ridge_model = MultiOutputRegressor(ridge_base)\n",
    "\n",
    "# Train the model\n",
    "ridge_model.fit(X_train, y_train)\n",
    "\n",
    "# Predict on the test set\n",
    "y_pred = ridge_model.predict(X_val)"
   ]
  },
  {
   "cell_type": "code",
   "execution_count": 99,
   "id": "d163c2d8-c6c2-4f9a-952b-9c1340b69f84",
   "metadata": {},
   "outputs": [
    {
     "name": "stdout",
     "output_type": "stream",
     "text": [
      "Alle folgenden Metriken sind H zu H'\n",
      "Mittlerer Abstand:  0.01850433739103999\n",
      "R2 Bestimmtheitsmaß:  0.954251329913477\n",
      "Average Cosine Similarity:  0.9867918813288328\n",
      "Average Angle (degrees):  5.369337271273761\n",
      "Durschnittliche Bindungslänge Differenz:  0.03736686440193582\n"
     ]
    }
   ],
   "source": [
    "metrics = eval_regression(y_val, y_pred)"
   ]
  },
  {
   "cell_type": "markdown",
   "id": "4b062ce5-d907-4922-89e5-ad07e47a7f3f",
   "metadata": {},
   "source": [
    "## Lasso"
   ]
  },
  {
   "cell_type": "code",
   "execution_count": 104,
   "id": "a4f12f5e-458a-407e-9892-7b978946374d",
   "metadata": {},
   "outputs": [],
   "source": [
    "# Initialize the base Lasso model\n",
    "lasso_base = Lasso(alpha=0.001)\n",
    "\n",
    "# Wrap the Lasso model with MultiOutputRegressor\n",
    "lasso_model = MultiOutputRegressor(lasso_base)\n",
    "\n",
    "# Train the model\n",
    "lasso_model.fit(X_train, y_train)\n",
    "\n",
    "# Predict on the test set\n",
    "y_pred = lasso_model.predict(X_val)"
   ]
  },
  {
   "cell_type": "code",
   "execution_count": 105,
   "id": "eda5e394-03c5-4744-80d5-c9fe29a709ba",
   "metadata": {},
   "outputs": [
    {
     "name": "stdout",
     "output_type": "stream",
     "text": [
      "Alle folgenden Metriken sind H zu H'\n",
      "Mittlerer Abstand:  0.018489429116966747\n",
      "R2 Bestimmtheitsmaß:  0.9542883606452217\n",
      "Average Cosine Similarity:  0.9869930715935334\n",
      "Average Angle (degrees):  5.358137591046367\n",
      "Durschnittliche Bindungslänge Differenz:  0.043479056657394155\n"
     ]
    }
   ],
   "source": [
    "metrics = eval_regression(y_val, y_pred)"
   ]
  },
  {
   "cell_type": "markdown",
   "id": "c7ff32b0-fd00-4082-9c79-849c1ac26749",
   "metadata": {},
   "source": [
    "## Polynomial Regression (does not make sense for our features and is not good neither)"
   ]
  },
  {
   "cell_type": "code",
   "execution_count": 120,
   "id": "72cff3c8-73cd-474f-a8cb-ea27e41c6534",
   "metadata": {},
   "outputs": [],
   "source": [
    "from sklearn.preprocessing import PolynomialFeatures\n",
    "\n",
    "# Polynomial regression of order 2\n",
    "poly2 = PolynomialFeatures(degree=2)\n",
    "X_train_poly2 = poly2.fit_transform(X_train)\n",
    "X_val_poly2 = poly2.transform(X_val)"
   ]
  },
  {
   "cell_type": "markdown",
   "id": "8b8339a1-219f-4034-b5cb-593ef96ab7e1",
   "metadata": {},
   "source": [
    "#### interesting: does not work at all for LinearRegression only"
   ]
  },
  {
   "cell_type": "code",
   "execution_count": 129,
   "id": "e4f40558-4efb-42db-a1d0-3537d39668a3",
   "metadata": {},
   "outputs": [],
   "source": [
    "# Wrap the Lasso model with MultiOutputRegressor\n",
    "model_poly2 = LinearRegression()\n",
    "\n",
    "# Fit the model\n",
    "model_poly2.fit(X_train_poly2, y_train)\n",
    "\n",
    "# Predict on the test set\n",
    "y_pred = model_poly2.predict(X_val_poly2)"
   ]
  },
  {
   "cell_type": "code",
   "execution_count": 130,
   "id": "dbe76b4e-761a-4075-a5d0-4d57edeeccd1",
   "metadata": {},
   "outputs": [
    {
     "name": "stdout",
     "output_type": "stream",
     "text": [
      "Alle folgenden Metriken sind H zu H'\n",
      "Mittlerer Abstand:  3.2592404282219663e+19\n",
      "R2 Bestimmtheitsmaß:  -8.002710306781071e+19\n",
      "Average Cosine Similarity:  0.9876282643453544\n",
      "Average Angle (degrees):  4.896006928406466\n",
      "Durschnittliche Bindungslänge Differenz:  142273033.87208986\n"
     ]
    }
   ],
   "source": [
    "metrics = eval_regression(y_val, y_pred)"
   ]
  },
  {
   "cell_type": "code",
   "execution_count": 127,
   "id": "9dc8daed-5315-4f85-a186-0deb2a84f36d",
   "metadata": {},
   "outputs": [],
   "source": [
    "# Initialize the base Lasso model\n",
    "lasso_base = Lasso(alpha=0.001)\n",
    "\n",
    "# Wrap the Lasso model with MultiOutputRegressor\n",
    "model_poly2 = MultiOutputRegressor(lasso_base)\n",
    "\n",
    "# Fit the model\n",
    "model_poly2.fit(X_train_poly2, y_train)\n",
    "\n",
    "# Predict on the test set\n",
    "y_pred = model_poly2.predict(X_val_poly2)"
   ]
  },
  {
   "cell_type": "code",
   "execution_count": 128,
   "id": "d07af712-8130-4efd-92bd-3b41ce956cd1",
   "metadata": {},
   "outputs": [
    {
     "name": "stdout",
     "output_type": "stream",
     "text": [
      "Alle folgenden Metriken sind H zu H'\n",
      "Mittlerer Abstand:  0.01746251415934664\n",
      "R2 Bestimmtheitsmaß:  0.9568367436662428\n",
      "Average Cosine Similarity:  0.9879329365784332\n",
      "Average Angle (degrees):  4.9001554450168765\n",
      "Durschnittliche Bindungslänge Differenz:  0.04195485269520716\n"
     ]
    }
   ],
   "source": [
    "metrics = eval_regression(y_val, y_pred)"
   ]
  },
  {
   "cell_type": "code",
   "execution_count": 123,
   "id": "4c3c9b21-964d-40d6-8985-528ca4fe3ad9",
   "metadata": {},
   "outputs": [],
   "source": [
    "# Initialize the base Lasso model\n",
    "ridge_base = Ridge(alpha=0.01)\n",
    "\n",
    "# Wrap the Lasso model with MultiOutputRegressor\n",
    "model_poly2 = MultiOutputRegressor(ridge_base)\n",
    "\n",
    "# Fit the model\n",
    "model_poly2.fit(X_train_poly2, y_train)\n",
    "\n",
    "# Predict on the test set\n",
    "y_pred = model_poly2.predict(X_val_poly2)"
   ]
  },
  {
   "cell_type": "code",
   "execution_count": 124,
   "id": "8e34a48f-e845-4f3d-927d-e1817c051c1d",
   "metadata": {},
   "outputs": [
    {
     "name": "stdout",
     "output_type": "stream",
     "text": [
      "Alle folgenden Metriken sind H zu H'\n",
      "Mittlerer Abstand:  0.017086957440561597\n",
      "R2 Bestimmtheitsmaß:  0.9577686052821512\n",
      "Average Cosine Similarity:  0.9880569372890391\n",
      "Average Angle (degrees):  4.861379552318352\n",
      "Durschnittliche Bindungslänge Differenz:  0.034469559827688734\n"
     ]
    }
   ],
   "source": [
    "metrics = eval_regression(y_val, y_pred)"
   ]
  },
  {
   "cell_type": "markdown",
   "id": "8ce736b9-5063-4c05-a581-ec3d009bbdfb",
   "metadata": {},
   "source": [
    "# Tree-based models / Bagging and boosing models"
   ]
  },
  {
   "cell_type": "markdown",
   "id": "cfd99d64-9d1b-45f8-8dc5-5100ed48a568",
   "metadata": {},
   "source": [
    "## Random Forest regressor"
   ]
  },
  {
   "cell_type": "code",
   "execution_count": 68,
   "id": "73489af3-10c6-468f-9bc4-abbbf8018b88",
   "metadata": {},
   "outputs": [],
   "source": [
    "from sklearn.ensemble import RandomForestRegressor\n",
    "\n",
    "# Initialize the model\n",
    "rf_model = RandomForestRegressor(n_estimators=100, random_state=42)\n",
    "\n",
    "# Train the model\n",
    "rf_model.fit(X_train, y_train)\n",
    "\n",
    "# Predict on the test set\n",
    "y_pred = rf_model.predict(X_val)"
   ]
  },
  {
   "cell_type": "code",
   "execution_count": 27,
   "id": "3395621f-d2ca-43b7-85df-f726c00ac9a7",
   "metadata": {},
   "outputs": [
    {
     "name": "stdout",
     "output_type": "stream",
     "text": [
      "Mittlerer Abstand H zu H':  0.008104933891924198\n",
      "R2 Bestimmtheitsmaß H zu H':  0.9799739308777223\n",
      "Average Cosine Similarity:  0.9894434180138568\n",
      "Average Angle (degrees):  4.002159264523007\n",
      "Durschnittliche Bindungslänge Differenz:  0.04858697825523639\n"
     ]
    }
   ],
   "source": [
    "metrics = eval_regression(y_val, y_pred)"
   ]
  },
  {
   "cell_type": "code",
   "execution_count": 75,
   "id": "58984710-e508-408d-823f-55a9f1a7cf67",
   "metadata": {},
   "outputs": [
    {
     "data": {
      "image/png": "[encoded data removed]",
      "text/plain": [
       "<Figure size 1200x800 with 1 Axes>"
      ]
     },
     "metadata": {},
     "output_type": "display_data"
    }
   ],
   "source": [
    "# Get feature importances\n",
    "feature_importances = rf_model.feature_importances_\n",
    "\n",
    "# Create a DataFrame for plotting\n",
    "feature_importances_df = pd.DataFrame({\n",
    "    'Feature': range(X_train.shape[1]),\n",
    "    'Importance': feature_importances\n",
    "})\n",
    "\n",
    "# Sort the DataFrame by importance\n",
    "# feature_importances_df = feature_importances_df.sort_values(by='Importance', ascending=False)\n",
    "\n",
    "# Plot feature importances\n",
    "plt.figure(figsize=(12, 8))\n",
    "plt.barh(feature_importances_df['Feature'], feature_importances_df['Importance'], color='b')\n",
    "plt.xlabel('Importance')\n",
    "plt.ylabel('Feature')\n",
    "plt.title('Feature Importances')\n",
    "plt.gca().invert_yaxis()  # Invert y-axis to have the most important feature on top\n",
    "plt.show()"
   ]
  },
  {
   "cell_type": "markdown",
   "id": "6c002fa4-3fb7-4011-97ca-813d5fb090fc",
   "metadata": {},
   "source": [
    "## Gradient Boosting regressor\n",
    "- old: Gradient Boosting Multi-Output R² score: 0.8516877707002646"
   ]
  },
  {
   "cell_type": "code",
   "execution_count": 76,
   "id": "df3e09a7-abce-4131-95c4-226aa0c4d5f5",
   "metadata": {},
   "outputs": [],
   "source": [
    "from sklearn.ensemble import GradientBoostingRegressor\n",
    "\n",
    "# Initialize the base model\n",
    "base_gb_model = GradientBoostingRegressor(n_estimators=100, random_state=42)\n",
    "\n",
    "# Wrap the base model with MultiOutputRegressor\n",
    "multi_gb_model = MultiOutputRegressor(base_gb_model)\n",
    "\n",
    "# Train the model\n",
    "multi_gb_model.fit(X_train, y_train)\n",
    "\n",
    "# Predict on the test set\n",
    "y_pred = multi_gb_model.predict(X_val)"
   ]
  },
  {
   "cell_type": "code",
   "execution_count": 48,
   "id": "f46795e8-a184-4537-9aa8-b495b02cad03",
   "metadata": {},
   "outputs": [
    {
     "name": "stdout",
     "output_type": "stream",
     "text": [
      "Alle folgenden Metriken sind H zu H'\n",
      "Mittlerer Abstand:  0.015167419744276253\n",
      "R2 Bestimmtheitsmaß:  0.9625185675012967\n",
      "Average Cosine Similarity:  0.9857761591756972\n",
      "Average Angle (degrees):  6.666454965357968\n",
      "Durschnittliche Bindungslänge Differenz:  0.04240796404098801\n"
     ]
    }
   ],
   "source": [
    "metrics = eval_regression(y_val, y_pred)"
   ]
  },
  {
   "cell_type": "code",
   "execution_count": 36,
   "id": "be0e47fc-8413-419a-83cd-ec251cc2c4f9",
   "metadata": {},
   "outputs": [],
   "source": [
    "all_angles = all_angles_H_central_neighbor(X_val_coords, y_pred)"
   ]
  },
  {
   "cell_type": "code",
   "execution_count": 46,
   "id": "10d3b076-ad90-4ec9-a7b8-021497e51d7b",
   "metadata": {},
   "outputs": [
    {
     "name": "stdout",
     "output_type": "stream",
     "text": [
      "Single Gaussian parameters: mu=109.06204176926043, sigma=7.448510072185309\n"
     ]
    }
   ],
   "source": [
    "# Fit a Gaussian (normal distribution) to the data\n",
    "mu, std = norm.fit(all_angles)\n",
    "print(f\"Single Gaussian parameters: mu={mu}, sigma={std}\")"
   ]
  },
  {
   "cell_type": "code",
   "execution_count": 43,
   "id": "b4d1b8c2-51de-45b2-950c-5bd76c3ac65a",
   "metadata": {},
   "outputs": [
    {
     "data": {
      "image/png": "[encoded data removed]",
      "text/plain": [
       "<Figure size 640x480 with 1 Axes>"
      ]
     },
     "metadata": {},
     "output_type": "display_data"
    }
   ],
   "source": [
    "# Plot histogram of angles\n",
    "count, bins, ignored = plt.hist(all_angles, bins=100, density=True, alpha=0.6, color='g')\n",
    "\n",
    "# Plot the Gaussian curve\n",
    "xmin, xmax = plt.xlim()\n",
    "x = np.linspace(xmin, xmax, 100)\n",
    "p = norm.pdf(x, mu, std)\n",
    "plt.plot(x, p, 'k', linewidth=2)\n",
    "\n",
    "# Add labels and title\n",
    "plt.xlabel('Angle')\n",
    "plt.ylabel('Density')\n",
    "plt.title('Histogram of Angles with Fitted Gaussian Curve')\n",
    "\n",
    "# Show plot\n",
    "plt.show()"
   ]
  },
  {
   "cell_type": "code",
   "execution_count": 85,
   "id": "c01bd711-0e34-47ba-958b-4c891070b183",
   "metadata": {},
   "outputs": [
    {
     "data": {
      "image/png": "[encoded data removed]",
      "text/plain": [
       "<Figure size 1200x800 with 1 Axes>"
      ]
     },
     "metadata": {},
     "output_type": "display_data"
    }
   ],
   "source": [
    "# Get feature importances from each model\n",
    "feature_importances_list = []\n",
    "for model in multi_gb_model.estimators_:\n",
    "    feature_importances_list.append(model.feature_importances_)\n",
    "\n",
    "# Convert to DataFrame for easier manipulation\n",
    "feature_importances_df = pd.DataFrame(feature_importances_list, columns=range(X_train.shape[1]))\n",
    "\n",
    "# Calculate mean feature importance across all output models\n",
    "mean_feature_importances = feature_importances_df.mean(axis=0)\n",
    "\n",
    "# Create a DataFrame for plotting\n",
    "plot_df = pd.DataFrame({\n",
    "    'Feature': range(X_train.shape[1]),\n",
    "    'Importance': mean_feature_importances\n",
    "})\n",
    "\n",
    "# Sort the DataFrame by importance\n",
    "#plot_df = plot_df.sort_values(by='Importance', ascending=False)\n",
    "\n",
    "# Plot feature importances\n",
    "plt.figure(figsize=(12, 8))\n",
    "plt.barh(plot_df['Feature'], plot_df['Importance'], color='b')\n",
    "plt.xlabel('Importance')\n",
    "plt.ylabel('Feature')\n",
    "plt.title('Mean Feature Importances Across All Outputs')\n",
    "plt.gca().invert_yaxis()  # Invert y-axis to have the most important feature on top\n",
    "plt.show()"
   ]
  },
  {
   "cell_type": "markdown",
   "id": "9ca96124-ef16-49da-92b3-2cc0b9445fab",
   "metadata": {},
   "source": [
    "## Support Vector Regressor (SVR)\n",
    "- <span style=\"color:red\">a bit slower than the other methods</span>\n",
    "- <span style=\"color:green\">but very good results</span>"
   ]
  },
  {
   "cell_type": "code",
   "execution_count": 86,
   "id": "856beec0-e00b-4f3e-a5e9-7021b7cd9221",
   "metadata": {},
   "outputs": [],
   "source": [
    "from sklearn.svm import SVR\n",
    "\n",
    "# Initialize the base model\n",
    "base_svr_model = SVR(kernel='rbf', C=1.0, epsilon=0.1)\n",
    "\n",
    "# Wrap the base model with MultiOutputRegressor\n",
    "multi_svr_model = MultiOutputRegressor(base_svr_model)\n",
    "\n",
    "# Train the model\n",
    "multi_svr_model.fit(X_train, y_train)\n",
    "\n",
    "# Predict on the test set\n",
    "y_pred = multi_svr_model.predict(X_val)"
   ]
  },
  {
   "cell_type": "code",
   "execution_count": 55,
   "id": "49c50f68-9ae3-4f72-91f9-9dd0f6f6f383",
   "metadata": {},
   "outputs": [
    {
     "name": "stdout",
     "output_type": "stream",
     "text": [
      "Alle folgenden Metriken sind H zu H'\n",
      "Mittlerer Abstand:  0.008767961680048111\n",
      "R2 Bestimmtheitsmaß:  0.9783272645585465\n",
      "Average Cosine Similarity:  0.9922471131639724\n",
      "Average Angle (degrees):  3.546587404512347\n",
      "Durschnittliche Bindungslänge Differenz:  0.023396826801598936\n"
     ]
    }
   ],
   "source": [
    "metrics = eval_regression(y_val, y_pred)"
   ]
  },
  {
   "cell_type": "code",
   "execution_count": 56,
   "id": "320d3d0e-2daf-406e-a863-6f2d9bf72e9e",
   "metadata": {},
   "outputs": [],
   "source": [
    "all_angles = all_angles_H_central_neighbor(X_val_coords, y_pred)"
   ]
  },
  {
   "cell_type": "code",
   "execution_count": 57,
   "id": "9c500d5c-1215-412a-996c-89ca5bac03fa",
   "metadata": {},
   "outputs": [
    {
     "name": "stdout",
     "output_type": "stream",
     "text": [
      "Single Gaussian parameters: mu=109.02432860660356, sigma=5.7018650621644635\n"
     ]
    }
   ],
   "source": [
    "# Fit a Gaussian (normal distribution) to the data\n",
    "mu, std = norm.fit(all_angles)\n",
    "print(f\"Single Gaussian parameters: mu={mu}, sigma={std}\")"
   ]
  },
  {
   "cell_type": "code",
   "execution_count": 58,
   "id": "c33c9f06-4144-4aba-b62c-87c10b504943",
   "metadata": {},
   "outputs": [
    {
     "data": {
      "image/png": "[encoded data removed]",
      "text/plain": [
       "<Figure size 640x480 with 1 Axes>"
      ]
     },
     "metadata": {},
     "output_type": "display_data"
    }
   ],
   "source": [
    "# Plot histogram of angles\n",
    "count, bins, ignored = plt.hist(all_angles, bins=100, density=True, alpha=0.6, color='g')\n",
    "\n",
    "# Plot the Gaussian curve\n",
    "xmin, xmax = plt.xlim()\n",
    "x = np.linspace(xmin, xmax, 100)\n",
    "p = norm.pdf(x, mu, std)\n",
    "plt.plot(x, p, 'k', linewidth=2)\n",
    "\n",
    "# Add labels and title\n",
    "plt.xlabel('Angle')\n",
    "plt.ylabel('Density')\n",
    "plt.title('Histogram of Angles with Fitted Gaussian Curve')\n",
    "\n",
    "# Show plot\n",
    "plt.show()"
   ]
  },
  {
   "cell_type": "markdown",
   "id": "58b6c6a5-22fd-43be-bd30-9aec7775d746",
   "metadata": {},
   "source": [
    "## XGBoost Regressor\n",
    "- <span style=\"color:green\">extremely fast</span>\n",
    "- <span style=\"color:red\">not the best results</span>"
   ]
  },
  {
   "cell_type": "code",
   "execution_count": null,
   "id": "6861a4c0-8cca-40ce-b2bf-f3e89b220742",
   "metadata": {},
   "outputs": [],
   "source": [
    "#!pip install xgboost"
   ]
  },
  {
   "cell_type": "code",
   "execution_count": 87,
   "id": "fc66b3cd-1069-42af-b75a-9e93145f6edc",
   "metadata": {},
   "outputs": [],
   "source": [
    "import xgboost as xgb\n",
    "\n",
    "# Initialize the model\n",
    "xgb_model = xgb.XGBRegressor(n_estimators=100, random_state=42)\n",
    "\n",
    "# Train the model\n",
    "xgb_model.fit(X_train, y_train)\n",
    "\n",
    "# Predict on the test set\n",
    "y_pred = xgb_model.predict(X_val)"
   ]
  },
  {
   "cell_type": "code",
   "execution_count": 88,
   "id": "40213f33-bba3-4921-b94c-19e495de7d7a",
   "metadata": {},
   "outputs": [
    {
     "name": "stdout",
     "output_type": "stream",
     "text": [
      "Alle folgenden Metriken sind H zu H'\n",
      "Mittlerer Abstand:  0.010391334037374573\n",
      "R2 Bestimmtheitsmaß:  0.9743202092950858\n",
      "Average Cosine Similarity:  0.986642742938355\n",
      "Average Angle (degrees):  5.345542813998934\n",
      "Durschnittliche Bindungslänge Differenz:  0.014871523978634116\n"
     ]
    }
   ],
   "source": [
    "metrics = eval_regression(y_val, y_pred)"
   ]
  },
  {
   "cell_type": "code",
   "execution_count": 89,
   "id": "20e28c28-04d7-417c-983b-f39cc6244918",
   "metadata": {},
   "outputs": [
    {
     "data": {
      "image/png": "[encoded data removed]",
      "text/plain": [
       "<Figure size 1200x800 with 1 Axes>"
      ]
     },
     "metadata": {},
     "output_type": "display_data"
    }
   ],
   "source": [
    "# Get feature importances\n",
    "feature_importances = xgb_model.feature_importances_\n",
    "\n",
    "# Create a DataFrame for plotting\n",
    "feature_importances_df = pd.DataFrame({\n",
    "    'Feature': range(X_train.shape[1]),\n",
    "    'Importance': feature_importances\n",
    "})\n",
    "\n",
    "# Sort the DataFrame by importance\n",
    "# feature_importances_df = feature_importances_df.sort_values(by='Importance', ascending=False)\n",
    "\n",
    "# Plot feature importances\n",
    "plt.figure(figsize=(12, 8))\n",
    "plt.barh(feature_importances_df['Feature'], feature_importances_df['Importance'], color='b')\n",
    "plt.xlabel('Importance')\n",
    "plt.ylabel('Feature')\n",
    "plt.title('Feature Importances')\n",
    "plt.gca().invert_yaxis()  # Invert y-axis to have the most important feature on top\n",
    "plt.show()"
   ]
  },
  {
   "cell_type": "markdown",
   "id": "229f16d1-311f-41fb-b4f3-94f0c338b5f1",
   "metadata": {},
   "source": [
    "## CatBoost Regressor\n",
    "- <span style=\"color:green\">extremely fast</span>\n",
    "- <span style=\"color:red\">not the best results</span>"
   ]
  },
  {
   "cell_type": "code",
   "execution_count": 14,
   "id": "67d127a9-38a0-4c46-a21d-bc673391e739",
   "metadata": {},
   "outputs": [
    {
     "name": "stdout",
     "output_type": "stream",
     "text": [
      "Collecting catboost\n",
      "  Downloading catboost-1.2.5-cp311-cp311-win_amd64.whl.metadata (1.2 kB)\n",
      "Collecting graphviz (from catboost)\n",
      "  Downloading graphviz-0.20.3-py3-none-any.whl.metadata (12 kB)\n",
      "Requirement already satisfied: matplotlib in c:\\users\\hasan\\anaconda3\\envs\\hydrogen\\lib\\site-packages (from catboost) (3.8.4)\n",
      "Requirement already satisfied: numpy>=1.16.0 in c:\\users\\hasan\\anaconda3\\envs\\hydrogen\\lib\\site-packages (from catboost) (1.26.4)\n",
      "Requirement already satisfied: pandas>=0.24 in c:\\users\\hasan\\anaconda3\\envs\\hydrogen\\lib\\site-packages (from catboost) (2.1.4)\n",
      "Requirement already satisfied: scipy in c:\\users\\hasan\\anaconda3\\envs\\hydrogen\\lib\\site-packages (from catboost) (1.13.0)\n",
      "Requirement already satisfied: plotly in c:\\users\\hasan\\anaconda3\\envs\\hydrogen\\lib\\site-packages (from catboost) (5.19.0)\n",
      "Requirement already satisfied: six in c:\\users\\hasan\\anaconda3\\envs\\hydrogen\\lib\\site-packages (from catboost) (1.16.0)\n",
      "Requirement already satisfied: python-dateutil>=2.8.2 in c:\\users\\hasan\\anaconda3\\envs\\hydrogen\\lib\\site-packages (from pandas>=0.24->catboost) (2.8.2)\n",
      "Requirement already satisfied: pytz>=2020.1 in c:\\users\\hasan\\anaconda3\\envs\\hydrogen\\lib\\site-packages (from pandas>=0.24->catboost) (2024.1)\n",
      "Requirement already satisfied: tzdata>=2022.1 in c:\\users\\hasan\\anaconda3\\envs\\hydrogen\\lib\\site-packages (from pandas>=0.24->catboost) (2023.3)\n",
      "Requirement already satisfied: contourpy>=1.0.1 in c:\\users\\hasan\\anaconda3\\envs\\hydrogen\\lib\\site-packages (from matplotlib->catboost) (1.2.0)\n",
      "Requirement already satisfied: cycler>=0.10 in c:\\users\\hasan\\anaconda3\\envs\\hydrogen\\lib\\site-packages (from matplotlib->catboost) (0.11.0)\n",
      "Requirement already satisfied: fonttools>=4.22.0 in c:\\users\\hasan\\anaconda3\\envs\\hydrogen\\lib\\site-packages (from matplotlib->catboost) (4.51.0)\n",
      "Requirement already satisfied: kiwisolver>=1.3.1 in c:\\users\\hasan\\anaconda3\\envs\\hydrogen\\lib\\site-packages (from matplotlib->catboost) (1.4.4)\n",
      "Requirement already satisfied: packaging>=20.0 in c:\\users\\hasan\\anaconda3\\envs\\hydrogen\\lib\\site-packages (from matplotlib->catboost) (23.2)\n",
      "Requirement already satisfied: pillow>=8 in c:\\users\\hasan\\anaconda3\\envs\\hydrogen\\lib\\site-packages (from matplotlib->catboost) (10.2.0)\n",
      "Requirement already satisfied: pyparsing>=2.3.1 in c:\\users\\hasan\\anaconda3\\envs\\hydrogen\\lib\\site-packages (from matplotlib->catboost) (3.0.9)\n",
      "Requirement already satisfied: tenacity>=6.2.0 in c:\\users\\hasan\\anaconda3\\envs\\hydrogen\\lib\\site-packages (from plotly->catboost) (8.2.2)\n",
      "Downloading catboost-1.2.5-cp311-cp311-win_amd64.whl (101.1 MB)\n",
      "   ---------------------------------------- 0.0/101.1 MB ? eta -:--:--\n",
      "   ---------------------------------------- 0.0/101.1 MB ? eta -:--:--\n",
      "   ---------------------------------------- 0.0/101.1 MB 435.7 kB/s eta 0:03:53\n",
      "   ---------------------------------------- 0.1/101.1 MB 1.0 MB/s eta 0:01:39\n",
      "   ---------------------------------------- 0.4/101.1 MB 2.6 MB/s eta 0:00:39\n",
      "   ---------------------------------------- 0.8/101.1 MB 3.9 MB/s eta 0:00:26\n",
      "    --------------------------------------- 1.3/101.1 MB 5.3 MB/s eta 0:00:19\n",
      "    --------------------------------------- 1.9/101.1 MB 6.5 MB/s eta 0:00:16\n",
      "   - -------------------------------------- 2.6/101.1 MB 7.4 MB/s eta 0:00:14\n",
      "   - -------------------------------------- 3.2/101.1 MB 8.0 MB/s eta 0:00:13\n",
      "   - -------------------------------------- 3.8/101.1 MB 8.6 MB/s eta 0:00:12\n",
      "   - -------------------------------------- 4.4/101.1 MB 9.0 MB/s eta 0:00:11\n",
      "   - -------------------------------------- 5.0/101.1 MB 9.4 MB/s eta 0:00:11\n",
      "   -- ------------------------------------- 5.6/101.1 MB 9.7 MB/s eta 0:00:10\n",
      "   -- ------------------------------------- 6.2/101.1 MB 9.9 MB/s eta 0:00:10\n",
      "   -- ------------------------------------- 6.2/101.1 MB 9.9 MB/s eta 0:00:10\n",
      "   -- ------------------------------------- 6.2/101.1 MB 8.8 MB/s eta 0:00:11\n",
      "   -- ------------------------------------- 6.7/101.1 MB 8.7 MB/s eta 0:00:11\n",
      "   --- ------------------------------------ 8.2/101.1 MB 10.0 MB/s eta 0:00:10\n",
      "   --- ------------------------------------ 8.7/101.1 MB 10.2 MB/s eta 0:00:10\n",
      "   --- ------------------------------------ 9.4/101.1 MB 10.3 MB/s eta 0:00:09\n",
      "   --- ------------------------------------ 10.0/101.1 MB 10.4 MB/s eta 0:00:09\n",
      "   ---- ----------------------------------- 10.6/101.1 MB 11.9 MB/s eta 0:00:08\n",
      "   ---- ----------------------------------- 11.2/101.1 MB 12.4 MB/s eta 0:00:08\n",
      "   ---- ----------------------------------- 11.8/101.1 MB 12.4 MB/s eta 0:00:08\n",
      "   ---- ----------------------------------- 12.4/101.1 MB 12.4 MB/s eta 0:00:08\n",
      "   ----- ---------------------------------- 13.0/101.1 MB 12.4 MB/s eta 0:00:08\n",
      "   ----- ---------------------------------- 13.6/101.1 MB 12.4 MB/s eta 0:00:08\n",
      "   ----- ---------------------------------- 14.2/101.1 MB 12.4 MB/s eta 0:00:08\n",
      "   ----- ---------------------------------- 14.8/101.1 MB 12.3 MB/s eta 0:00:07\n",
      "   ------ --------------------------------- 15.4/101.1 MB 12.4 MB/s eta 0:00:07\n",
      "   ------ --------------------------------- 16.0/101.1 MB 12.4 MB/s eta 0:00:07\n",
      "   ------ --------------------------------- 16.6/101.1 MB 14.2 MB/s eta 0:00:06\n",
      "   ------ --------------------------------- 17.2/101.1 MB 13.9 MB/s eta 0:00:07\n",
      "   ------- -------------------------------- 17.8/101.1 MB 13.6 MB/s eta 0:00:07\n",
      "   ------- -------------------------------- 18.4/101.1 MB 12.8 MB/s eta 0:00:07\n",
      "   ------- -------------------------------- 19.0/101.1 MB 12.8 MB/s eta 0:00:07\n",
      "   ------- -------------------------------- 19.6/101.1 MB 12.8 MB/s eta 0:00:07\n",
      "   -------- ------------------------------- 20.2/101.1 MB 12.9 MB/s eta 0:00:07\n",
      "   -------- ------------------------------- 20.8/101.1 MB 12.8 MB/s eta 0:00:07\n",
      "   -------- ------------------------------- 21.5/101.1 MB 12.8 MB/s eta 0:00:07\n",
      "   -------- ------------------------------- 22.1/101.1 MB 12.8 MB/s eta 0:00:07\n",
      "   -------- ------------------------------- 22.7/101.1 MB 13.1 MB/s eta 0:00:06\n",
      "   --------- ------------------------------ 23.3/101.1 MB 13.1 MB/s eta 0:00:06\n",
      "   --------- ------------------------------ 23.9/101.1 MB 13.1 MB/s eta 0:00:06\n",
      "   --------- ------------------------------ 24.5/101.1 MB 13.1 MB/s eta 0:00:06\n",
      "   --------- ------------------------------ 25.1/101.1 MB 13.1 MB/s eta 0:00:06\n",
      "   ---------- ----------------------------- 25.7/101.1 MB 13.1 MB/s eta 0:00:06\n",
      "   ---------- ----------------------------- 26.3/101.1 MB 13.1 MB/s eta 0:00:06\n",
      "   ---------- ----------------------------- 26.9/101.1 MB 13.1 MB/s eta 0:00:06\n",
      "   ---------- ----------------------------- 27.5/101.1 MB 13.1 MB/s eta 0:00:06\n",
      "   ----------- ---------------------------- 28.1/101.1 MB 13.1 MB/s eta 0:00:06\n",
      "   ----------- ---------------------------- 28.7/101.1 MB 13.1 MB/s eta 0:00:06\n",
      "   ----------- ---------------------------- 29.3/101.1 MB 13.1 MB/s eta 0:00:06\n",
      "   ----------- ---------------------------- 29.9/101.1 MB 13.1 MB/s eta 0:00:06\n",
      "   ------------ --------------------------- 30.5/101.1 MB 13.1 MB/s eta 0:00:06\n",
      "   ------------ --------------------------- 31.1/101.1 MB 13.1 MB/s eta 0:00:06\n",
      "   ------------ --------------------------- 31.7/101.1 MB 13.1 MB/s eta 0:00:06\n",
      "   ------------ --------------------------- 32.3/101.1 MB 13.1 MB/s eta 0:00:06\n",
      "   ------------- -------------------------- 32.9/101.1 MB 13.1 MB/s eta 0:00:06\n",
      "   ------------- -------------------------- 33.5/101.1 MB 13.1 MB/s eta 0:00:06\n",
      "   ------------- -------------------------- 34.1/101.1 MB 13.1 MB/s eta 0:00:06\n",
      "   ------------- -------------------------- 34.7/101.1 MB 13.1 MB/s eta 0:00:06\n",
      "   ------------- -------------------------- 35.3/101.1 MB 13.1 MB/s eta 0:00:06\n",
      "   -------------- ------------------------- 36.0/101.1 MB 13.1 MB/s eta 0:00:05\n",
      "   -------------- ------------------------- 36.6/101.1 MB 13.1 MB/s eta 0:00:05\n",
      "   -------------- ------------------------- 37.2/101.1 MB 13.1 MB/s eta 0:00:05\n",
      "   -------------- ------------------------- 37.8/101.1 MB 13.1 MB/s eta 0:00:05\n",
      "   --------------- ------------------------ 38.4/101.1 MB 13.1 MB/s eta 0:00:05\n",
      "   --------------- ------------------------ 39.0/101.1 MB 13.1 MB/s eta 0:00:05\n",
      "   --------------- ------------------------ 39.6/101.1 MB 13.1 MB/s eta 0:00:05\n",
      "   --------------- ------------------------ 40.2/101.1 MB 13.1 MB/s eta 0:00:05\n",
      "   ---------------- ----------------------- 40.8/101.1 MB 13.1 MB/s eta 0:00:05\n",
      "   ---------------- ----------------------- 41.5/101.1 MB 13.1 MB/s eta 0:00:05\n",
      "   ---------------- ----------------------- 42.0/101.1 MB 13.1 MB/s eta 0:00:05\n",
      "   ---------------- ----------------------- 42.6/101.1 MB 13.1 MB/s eta 0:00:05\n",
      "   ----------------- ---------------------- 43.3/101.1 MB 13.1 MB/s eta 0:00:05\n",
      "   ----------------- ---------------------- 43.8/101.1 MB 13.1 MB/s eta 0:00:05\n",
      "   ----------------- ---------------------- 44.4/101.1 MB 13.1 MB/s eta 0:00:05\n",
      "   ----------------- ---------------------- 45.1/101.1 MB 13.1 MB/s eta 0:00:05\n",
      "   ------------------ --------------------- 45.6/101.1 MB 13.1 MB/s eta 0:00:05\n",
      "   ------------------ --------------------- 46.2/101.1 MB 13.1 MB/s eta 0:00:05\n",
      "   ------------------ --------------------- 46.8/101.1 MB 13.1 MB/s eta 0:00:05\n",
      "   ------------------ --------------------- 47.4/101.1 MB 12.8 MB/s eta 0:00:05\n",
      "   ------------------- -------------------- 48.0/101.1 MB 12.8 MB/s eta 0:00:05\n",
      "   ------------------- -------------------- 48.7/101.1 MB 13.1 MB/s eta 0:00:05\n",
      "   ------------------- -------------------- 49.3/101.1 MB 12.8 MB/s eta 0:00:05\n",
      "   ------------------- -------------------- 49.9/101.1 MB 12.8 MB/s eta 0:00:04\n",
      "   ------------------- -------------------- 50.5/101.1 MB 12.8 MB/s eta 0:00:04\n",
      "   -------------------- ------------------- 51.1/101.1 MB 12.9 MB/s eta 0:00:04\n",
      "   -------------------- ------------------- 51.7/101.1 MB 12.8 MB/s eta 0:00:04\n",
      "   -------------------- ------------------- 52.3/101.1 MB 12.8 MB/s eta 0:00:04\n",
      "   -------------------- ------------------- 52.9/101.1 MB 12.8 MB/s eta 0:00:04\n",
      "   --------------------- ------------------ 53.5/101.1 MB 12.8 MB/s eta 0:00:04\n",
      "   --------------------- ------------------ 54.1/101.1 MB 12.8 MB/s eta 0:00:04\n",
      "   --------------------- ------------------ 54.7/101.1 MB 12.8 MB/s eta 0:00:04\n",
      "   --------------------- ------------------ 55.3/101.1 MB 12.8 MB/s eta 0:00:04\n",
      "   ---------------------- ----------------- 55.9/101.1 MB 12.9 MB/s eta 0:00:04\n",
      "   ---------------------- ----------------- 56.5/101.1 MB 12.8 MB/s eta 0:00:04\n",
      "   ---------------------- ----------------- 57.1/101.1 MB 12.8 MB/s eta 0:00:04\n",
      "   ---------------------- ----------------- 57.7/101.1 MB 12.8 MB/s eta 0:00:04\n",
      "   ----------------------- ---------------- 58.3/101.1 MB 12.8 MB/s eta 0:00:04\n",
      "   ----------------------- ---------------- 58.9/101.1 MB 12.8 MB/s eta 0:00:04\n",
      "   ----------------------- ---------------- 59.5/101.1 MB 12.8 MB/s eta 0:00:04\n",
      "   ----------------------- ---------------- 60.1/101.1 MB 12.8 MB/s eta 0:00:04\n",
      "   ------------------------ --------------- 60.7/101.1 MB 12.9 MB/s eta 0:00:04\n",
      "   ------------------------ --------------- 61.3/101.1 MB 12.8 MB/s eta 0:00:04\n",
      "   ------------------------ --------------- 61.9/101.1 MB 12.8 MB/s eta 0:00:04\n",
      "   ------------------------ --------------- 62.5/101.1 MB 12.8 MB/s eta 0:00:04\n",
      "   ------------------------ --------------- 63.1/101.1 MB 12.8 MB/s eta 0:00:03\n",
      "   ------------------------- -------------- 63.7/101.1 MB 12.8 MB/s eta 0:00:03\n",
      "   ------------------------- -------------- 64.3/101.1 MB 12.8 MB/s eta 0:00:03\n",
      "   ------------------------- -------------- 64.9/101.1 MB 12.8 MB/s eta 0:00:03\n",
      "   ------------------------- -------------- 65.5/101.1 MB 12.9 MB/s eta 0:00:03\n",
      "   -------------------------- ------------- 66.2/101.1 MB 12.8 MB/s eta 0:00:03\n",
      "   -------------------------- ------------- 66.8/101.1 MB 12.8 MB/s eta 0:00:03\n",
      "   -------------------------- ------------- 67.4/101.1 MB 12.8 MB/s eta 0:00:03\n",
      "   -------------------------- ------------- 68.0/101.1 MB 12.8 MB/s eta 0:00:03\n",
      "   --------------------------- ------------ 68.6/101.1 MB 12.8 MB/s eta 0:00:03\n",
      "   --------------------------- ------------ 69.2/101.1 MB 13.1 MB/s eta 0:00:03\n",
      "   --------------------------- ------------ 69.8/101.1 MB 12.8 MB/s eta 0:00:03\n",
      "   --------------------------- ------------ 70.4/101.1 MB 13.1 MB/s eta 0:00:03\n",
      "   ---------------------------- ----------- 71.0/101.1 MB 13.1 MB/s eta 0:00:03\n",
      "   ---------------------------- ----------- 71.6/101.1 MB 13.1 MB/s eta 0:00:03\n",
      "   ---------------------------- ----------- 72.2/101.1 MB 12.8 MB/s eta 0:00:03\n",
      "   ---------------------------- ----------- 72.8/101.1 MB 12.8 MB/s eta 0:00:03\n",
      "   ----------------------------- ---------- 73.4/101.1 MB 12.8 MB/s eta 0:00:03\n",
      "   ----------------------------- ---------- 74.0/101.1 MB 12.8 MB/s eta 0:00:03\n",
      "   ----------------------------- ---------- 74.7/101.1 MB 12.8 MB/s eta 0:00:03\n",
      "   ----------------------------- ---------- 75.2/101.1 MB 12.9 MB/s eta 0:00:03\n",
      "   ------------------------------ --------- 75.9/101.1 MB 12.8 MB/s eta 0:00:02\n",
      "   ------------------------------ --------- 76.5/101.1 MB 12.8 MB/s eta 0:00:02\n",
      "   ------------------------------ --------- 77.1/101.1 MB 12.8 MB/s eta 0:00:02\n",
      "   ------------------------------ --------- 77.7/101.1 MB 12.8 MB/s eta 0:00:02\n",
      "   ------------------------------ --------- 78.3/101.1 MB 12.8 MB/s eta 0:00:02\n",
      "   ------------------------------- -------- 78.9/101.1 MB 12.8 MB/s eta 0:00:02\n",
      "   ------------------------------- -------- 79.5/101.1 MB 12.8 MB/s eta 0:00:02\n",
      "   ------------------------------- -------- 80.1/101.1 MB 12.9 MB/s eta 0:00:02\n",
      "   ------------------------------- -------- 80.7/101.1 MB 12.8 MB/s eta 0:00:02\n",
      "   -------------------------------- ------- 81.3/101.1 MB 12.8 MB/s eta 0:00:02\n",
      "   -------------------------------- ------- 82.0/101.1 MB 12.8 MB/s eta 0:00:02\n",
      "   -------------------------------- ------- 82.6/101.1 MB 12.8 MB/s eta 0:00:02\n",
      "   -------------------------------- ------- 83.1/101.1 MB 12.8 MB/s eta 0:00:02\n",
      "   --------------------------------- ------ 83.7/101.1 MB 12.8 MB/s eta 0:00:02\n",
      "   --------------------------------- ------ 84.3/101.1 MB 12.8 MB/s eta 0:00:02\n",
      "   --------------------------------- ------ 84.9/101.1 MB 13.1 MB/s eta 0:00:02\n",
      "   --------------------------------- ------ 85.6/101.1 MB 13.1 MB/s eta 0:00:02\n",
      "   ---------------------------------- ----- 86.1/101.1 MB 13.1 MB/s eta 0:00:02\n",
      "   ---------------------------------- ----- 86.8/101.1 MB 13.1 MB/s eta 0:00:02\n",
      "   ---------------------------------- ----- 87.4/101.1 MB 13.1 MB/s eta 0:00:02\n",
      "   ---------------------------------- ----- 88.0/101.1 MB 13.1 MB/s eta 0:00:02\n",
      "   ----------------------------------- ---- 88.6/101.1 MB 13.1 MB/s eta 0:00:01\n",
      "   ----------------------------------- ---- 89.2/101.1 MB 13.1 MB/s eta 0:00:01\n",
      "   ----------------------------------- ---- 89.8/101.1 MB 12.9 MB/s eta 0:00:01\n",
      "   ----------------------------------- ---- 90.4/101.1 MB 12.8 MB/s eta 0:00:01\n",
      "   ------------------------------------ --- 91.0/101.1 MB 12.8 MB/s eta 0:00:01\n",
      "   ------------------------------------ --- 91.6/101.1 MB 12.8 MB/s eta 0:00:01\n",
      "   ------------------------------------ --- 92.2/101.1 MB 13.1 MB/s eta 0:00:01\n",
      "   ------------------------------------ --- 92.8/101.1 MB 13.1 MB/s eta 0:00:01\n",
      "   ------------------------------------ --- 93.4/101.1 MB 13.1 MB/s eta 0:00:01\n",
      "   ------------------------------------- -- 94.0/101.1 MB 13.1 MB/s eta 0:00:01\n",
      "   ------------------------------------- -- 94.6/101.1 MB 13.1 MB/s eta 0:00:01\n",
      "   ------------------------------------- -- 95.2/101.1 MB 13.1 MB/s eta 0:00:01\n",
      "   ------------------------------------- -- 95.8/101.1 MB 13.1 MB/s eta 0:00:01\n",
      "   -------------------------------------- - 96.4/101.1 MB 13.1 MB/s eta 0:00:01\n",
      "   -------------------------------------- - 97.0/101.1 MB 13.1 MB/s eta 0:00:01\n",
      "   -------------------------------------- - 97.6/101.1 MB 13.1 MB/s eta 0:00:01\n",
      "   -------------------------------------- - 98.2/101.1 MB 13.1 MB/s eta 0:00:01\n",
      "   ---------------------------------------  98.8/101.1 MB 12.8 MB/s eta 0:00:01\n",
      "   ---------------------------------------  99.4/101.1 MB 13.1 MB/s eta 0:00:01\n",
      "   --------------------------------------  100.0/101.1 MB 13.1 MB/s eta 0:00:01\n",
      "   --------------------------------------  100.6/101.1 MB 13.1 MB/s eta 0:00:01\n",
      "   --------------------------------------  101.1/101.1 MB 13.1 MB/s eta 0:00:01\n",
      "   --------------------------------------  101.1/101.1 MB 13.1 MB/s eta 0:00:01\n",
      "   --------------------------------------  101.1/101.1 MB 13.1 MB/s eta 0:00:01\n",
      "   --------------------------------------  101.1/101.1 MB 13.1 MB/s eta 0:00:01\n",
      "   --------------------------------------  101.1/101.1 MB 13.1 MB/s eta 0:00:01\n",
      "   --------------------------------------  101.1/101.1 MB 13.1 MB/s eta 0:00:01\n",
      "   --------------------------------------  101.1/101.1 MB 13.1 MB/s eta 0:00:01\n",
      "   --------------------------------------  101.1/101.1 MB 13.1 MB/s eta 0:00:01\n",
      "   ---------------------------------------- 101.1/101.1 MB 9.0 MB/s eta 0:00:00\n",
      "Downloading graphviz-0.20.3-py3-none-any.whl (47 kB)\n",
      "   ---------------------------------------- 0.0/47.1 kB ? eta -:--:--\n",
      "   ---------------------------------------- 47.1/47.1 kB 2.3 MB/s eta 0:00:00\n",
      "Installing collected packages: graphviz, catboost\n",
      "Successfully installed catboost-1.2.5 graphviz-0.20.3\n"
     ]
    }
   ],
   "source": [
    "#!pip install catboost"
   ]
  },
  {
   "cell_type": "code",
   "execution_count": 90,
   "id": "4511b1e8-3f05-4b0e-ad8a-523b044ed4aa",
   "metadata": {},
   "outputs": [],
   "source": [
    "from catboost import CatBoostRegressor\n",
    "\n",
    "# Initialize the base model\n",
    "base_cat_model = CatBoostRegressor(iterations=100, random_state=42, verbose=0)\n",
    "\n",
    "# Wrap the base model with MultiOutputRegressor\n",
    "multi_cat_model = MultiOutputRegressor(base_cat_model)\n",
    "\n",
    "# Train the model\n",
    "multi_cat_model.fit(X_train, y_train)\n",
    "\n",
    "# Predict on the test set\n",
    "y_pred = multi_cat_model.predict(X_val)"
   ]
  },
  {
   "cell_type": "code",
   "execution_count": 65,
   "id": "c1bc4e4d-1da5-4058-b59d-1c53c9f480bb",
   "metadata": {},
   "outputs": [
    {
     "name": "stdout",
     "output_type": "stream",
     "text": [
      "Alle folgenden Metriken sind H zu H'\n",
      "Mittlerer Abstand:  0.011555635133231124\n",
      "R2 Bestimmtheitsmaß:  0.9714355294284159\n",
      "Average Cosine Similarity:  0.9874308047610587\n",
      "Average Angle (degrees):  5.400434357790016\n",
      "Durschnittliche Bindungslänge Differenz:  0.018880497356522197\n"
     ]
    }
   ],
   "source": [
    "metrics = eval_regression(y_val, y_pred)"
   ]
  },
  {
   "cell_type": "code",
   "execution_count": 66,
   "id": "d837f445-2482-475b-b53c-f6987aeb93ff",
   "metadata": {},
   "outputs": [],
   "source": [
    "all_angles = all_angles_H_central_neighbor(X_val_coords, y_pred)"
   ]
  },
  {
   "cell_type": "code",
   "execution_count": 67,
   "id": "33855f4b-734a-4d9c-8b5f-c35940ed2d90",
   "metadata": {},
   "outputs": [
    {
     "name": "stdout",
     "output_type": "stream",
     "text": [
      "Single Gaussian parameters: mu=109.05001059064347, sigma=6.874995082375959\n"
     ]
    }
   ],
   "source": [
    "# Fit a Gaussian (normal distribution) to the data\n",
    "mu, std = norm.fit(all_angles)\n",
    "print(f\"Single Gaussian parameters: mu={mu}, sigma={std}\")"
   ]
  },
  {
   "cell_type": "code",
   "execution_count": 91,
   "id": "c8798aaa-ccd8-41a5-ab56-ebf953eeb6a2",
   "metadata": {},
   "outputs": [
    {
     "data": {
      "image/png": "[encoded data removed]",
      "text/plain": [
       "<Figure size 1200x800 with 1 Axes>"
      ]
     },
     "metadata": {},
     "output_type": "display_data"
    }
   ],
   "source": [
    "# Get feature importances from each model\n",
    "feature_importances_list = []\n",
    "for model in multi_cat_model.estimators_:\n",
    "    feature_importances_list.append(model.feature_importances_)\n",
    "\n",
    "# Convert to DataFrame for easier manipulation\n",
    "feature_importances_df = pd.DataFrame(feature_importances_list, columns=range(X_train.shape[1]))\n",
    "\n",
    "# Calculate mean feature importance across all output models\n",
    "mean_feature_importances = feature_importances_df.mean(axis=0)\n",
    "\n",
    "# Create a DataFrame for plotting\n",
    "plot_df = pd.DataFrame({\n",
    "    'Feature': range(X_train.shape[1]),\n",
    "    'Importance': mean_feature_importances\n",
    "})\n",
    "\n",
    "# Sort the DataFrame by importance\n",
    "#plot_df = plot_df.sort_values(by='Importance', ascending=False)\n",
    "\n",
    "# Plot feature importances\n",
    "plt.figure(figsize=(12, 8))\n",
    "plt.barh(plot_df['Feature'], plot_df['Importance'], color='b')\n",
    "plt.xlabel('Importance')\n",
    "plt.ylabel('Feature')\n",
    "plt.title('Mean Feature Importances Across All Outputs')\n",
    "plt.gca().invert_yaxis()  # Invert y-axis to have the most important feature on top\n",
    "plt.show()"
   ]
  },
  {
   "cell_type": "markdown",
   "id": "0d331337-1946-4a72-ac42-bbce2c8db016",
   "metadata": {},
   "source": [
    "# Bayesian Regression "
   ]
  },
  {
   "cell_type": "code",
   "execution_count": 132,
   "id": "ad83d56e-4e33-4894-823b-23b29ff712c1",
   "metadata": {},
   "outputs": [],
   "source": [
    "from sklearn.linear_model import BayesianRidge\n",
    "\n",
    "bayesian_ridge_model = BayesianRidge()\n",
    "multi_bayesian_ridge_model = MultiOutputRegressor(bayesian_ridge_model)\n",
    "multi_bayesian_ridge_model.fit(X_train, y_train)\n",
    "y_pred = multi_bayesian_ridge_model.predict(X_val)"
   ]
  },
  {
   "cell_type": "code",
   "execution_count": 133,
   "id": "17a5dc76-0d31-4a5e-9528-2c5eb3e07bbf",
   "metadata": {},
   "outputs": [
    {
     "name": "stdout",
     "output_type": "stream",
     "text": [
      "Alle folgenden Metriken sind H zu H'\n",
      "Mittlerer Abstand:  0.018500848334653226\n",
      "R2 Bestimmtheitsmaß:  0.9542599542441482\n",
      "Average Cosine Similarity:  0.986794279623379\n",
      "Average Angle (degrees):  5.369067241073015\n",
      "Durschnittliche Bindungslänge Differenz:  0.037390724066073355\n"
     ]
    }
   ],
   "source": [
    "metrics = eval_regression(y_val, y_pred)"
   ]
  },
  {
   "cell_type": "markdown",
   "id": "d0da0954-bfcf-4c26-925d-82d1d2416ae4",
   "metadata": {},
   "source": [
    "# Neural Networks"
   ]
  },
  {
   "cell_type": "code",
   "execution_count": null,
   "id": "c747c37b-95f1-49f7-898a-727a22b0f1f4",
   "metadata": {},
   "outputs": [],
   "source": [
    "# For GPU users\n",
    "#pip install tensorflow[and-cuda]"
   ]
  },
  {
   "cell_type": "markdown",
   "id": "ee858c17-bddf-43b1-93a8-5a2cb5309022",
   "metadata": {},
   "source": [
    "## Simple MLP"
   ]
  },
  {
   "cell_type": "code",
   "execution_count": null,
   "id": "c9613ec3-c9f7-41dd-85fc-3b51f53eac16",
   "metadata": {},
   "outputs": [],
   "source": [
    "from tensorflow.keras.models import Sequential\n",
    "from tensorflow.keras.layers import Dense\n",
    "from tensorflow.keras.callbacks import EarlyStopping"
   ]
  },
  {
   "cell_type": "code",
   "execution_count": 12,
   "id": "94c3063f-315f-4ee0-b3fa-0f370226521c",
   "metadata": {},
   "outputs": [],
   "source": [
    "input_dim = X_train.shape[1]\n",
    "output_dim = y_train.shape[1]"
   ]
  },
  {
   "cell_type": "code",
   "execution_count": 27,
   "id": "4ff14091-2b3d-47b3-8925-6dc705991b39",
   "metadata": {},
   "outputs": [],
   "source": [
    "model = Sequential()\n",
    "model.add(Dense(input_dim, activation='relu', input_shape=(X_train.shape[1],)))\n",
    "model.add(Dense(16, activation='relu'))\n",
    "model.add(Dense(8, activation='relu'))\n",
    "model.add(Dense(output_dim))"
   ]
  },
  {
   "cell_type": "code",
   "execution_count": 28,
   "id": "6302c65d-5a66-43c8-928a-1fe68f8a9740",
   "metadata": {},
   "outputs": [
    {
     "name": "stdout",
     "output_type": "stream",
     "text": [
      "Model: \"sequential_3\"\n",
      "_________________________________________________________________\n",
      " Layer (type)                Output Shape              Param #   \n",
      "=================================================================\n",
      " dense_12 (Dense)            (None, 33)                1122      \n",
      "                                                                 \n",
      " dense_13 (Dense)            (None, 16)                544       \n",
      "                                                                 \n",
      " dense_14 (Dense)            (None, 8)                 136       \n",
      "                                                                 \n",
      " dense_15 (Dense)            (None, 3)                 27        \n",
      "                                                                 \n",
      "=================================================================\n",
      "Total params: 1829 (7.14 KB)\n",
      "Trainable params: 1829 (7.14 KB)\n",
      "Non-trainable params: 0 (0.00 Byte)\n",
      "_________________________________________________________________\n"
     ]
    }
   ],
   "source": [
    "model.compile(optimizer='adam', loss='mean_squared_error')\n",
    "model.summary()"
   ]
  },
  {
   "cell_type": "code",
   "execution_count": 29,
   "id": "f0bef53d-be5d-46c5-8311-4553d53cd766",
   "metadata": {},
   "outputs": [
    {
     "name": "stdout",
     "output_type": "stream",
     "text": [
      "Epoch 1/100\n",
      "1126/1126 [==============================] - 2s 1ms/step - loss: 0.0649 - val_loss: 0.0161\n",
      "Epoch 2/100\n",
      "1126/1126 [==============================] - 1s 1ms/step - loss: 0.0162 - val_loss: 0.0150\n",
      "Epoch 3/100\n",
      "1126/1126 [==============================] - 1s 1ms/step - loss: 0.0151 - val_loss: 0.0140\n",
      "Epoch 4/100\n",
      "1126/1126 [==============================] - 1s 1ms/step - loss: 0.0144 - val_loss: 0.0133\n",
      "Epoch 5/100\n",
      "1126/1126 [==============================] - 1s 1ms/step - loss: 0.0136 - val_loss: 0.0123\n",
      "Epoch 6/100\n",
      "1126/1126 [==============================] - 1s 1ms/step - loss: 0.0128 - val_loss: 0.0117\n",
      "Epoch 7/100\n",
      "1126/1126 [==============================] - 1s 1ms/step - loss: 0.0122 - val_loss: 0.0114\n",
      "Epoch 8/100\n",
      "1126/1126 [==============================] - 1s 1ms/step - loss: 0.0119 - val_loss: 0.0115\n",
      "Epoch 9/100\n",
      "1126/1126 [==============================] - 1s 1ms/step - loss: 0.0116 - val_loss: 0.0111\n",
      "Epoch 10/100\n",
      "1126/1126 [==============================] - 1s 1ms/step - loss: 0.0113 - val_loss: 0.0110\n",
      "Epoch 11/100\n",
      "1126/1126 [==============================] - 1s 1ms/step - loss: 0.0111 - val_loss: 0.0112\n",
      "Epoch 12/100\n",
      "1126/1126 [==============================] - 1s 1ms/step - loss: 0.0109 - val_loss: 0.0103\n",
      "Epoch 13/100\n",
      "1126/1126 [==============================] - 1s 1ms/step - loss: 0.0108 - val_loss: 0.0102\n",
      "Epoch 14/100\n",
      "1126/1126 [==============================] - 1s 1ms/step - loss: 0.0106 - val_loss: 0.0108\n",
      "Epoch 15/100\n",
      "1126/1126 [==============================] - 1s 1ms/step - loss: 0.0105 - val_loss: 0.0104\n",
      "Epoch 16/100\n",
      "1126/1126 [==============================] - 1s 1ms/step - loss: 0.0105 - val_loss: 0.0102\n",
      "Epoch 17/100\n",
      "1126/1126 [==============================] - 1s 1ms/step - loss: 0.0103 - val_loss: 0.0102\n",
      "Epoch 18/100\n",
      "1126/1126 [==============================] - 1s 1ms/step - loss: 0.0101 - val_loss: 0.0097\n",
      "Epoch 19/100\n",
      "1126/1126 [==============================] - 1s 1ms/step - loss: 0.0100 - val_loss: 0.0097\n",
      "Epoch 20/100\n",
      "1126/1126 [==============================] - 1s 1ms/step - loss: 0.0099 - val_loss: 0.0095\n",
      "Epoch 21/100\n",
      "1126/1126 [==============================] - 1s 1ms/step - loss: 0.0099 - val_loss: 0.0099\n",
      "Epoch 22/100\n",
      "1126/1126 [==============================] - 1s 1ms/step - loss: 0.0098 - val_loss: 0.0096\n",
      "Epoch 23/100\n",
      "1126/1126 [==============================] - 1s 1ms/step - loss: 0.0098 - val_loss: 0.0092\n",
      "Epoch 24/100\n",
      "1126/1126 [==============================] - 1s 1ms/step - loss: 0.0097 - val_loss: 0.0095\n",
      "Epoch 25/100\n",
      "1126/1126 [==============================] - 1s 1ms/step - loss: 0.0096 - val_loss: 0.0094\n",
      "Epoch 26/100\n",
      "1126/1126 [==============================] - 1s 1ms/step - loss: 0.0096 - val_loss: 0.0093\n",
      "Epoch 27/100\n",
      "1126/1126 [==============================] - 1s 1ms/step - loss: 0.0095 - val_loss: 0.0096\n",
      "Epoch 28/100\n",
      "1126/1126 [==============================] - 1s 1ms/step - loss: 0.0095 - val_loss: 0.0091\n",
      "Epoch 29/100\n",
      "1126/1126 [==============================] - 1s 1ms/step - loss: 0.0094 - val_loss: 0.0097\n",
      "Epoch 30/100\n",
      "1126/1126 [==============================] - 1s 1ms/step - loss: 0.0094 - val_loss: 0.0089\n",
      "Epoch 31/100\n",
      "1126/1126 [==============================] - 1s 1ms/step - loss: 0.0093 - val_loss: 0.0088\n",
      "Epoch 32/100\n",
      "1126/1126 [==============================] - 1s 1ms/step - loss: 0.0093 - val_loss: 0.0090\n",
      "Epoch 33/100\n",
      "1126/1126 [==============================] - 1s 1ms/step - loss: 0.0092 - val_loss: 0.0093\n",
      "Epoch 34/100\n",
      "1126/1126 [==============================] - 1s 1ms/step - loss: 0.0092 - val_loss: 0.0088\n",
      "Epoch 35/100\n",
      "1126/1126 [==============================] - 1s 1ms/step - loss: 0.0092 - val_loss: 0.0092\n",
      "Epoch 36/100\n",
      "1126/1126 [==============================] - 1s 1ms/step - loss: 0.0091 - val_loss: 0.0087\n",
      "Epoch 37/100\n",
      "1126/1126 [==============================] - 1s 1ms/step - loss: 0.0091 - val_loss: 0.0090\n",
      "Epoch 38/100\n",
      "1126/1126 [==============================] - 1s 1ms/step - loss: 0.0090 - val_loss: 0.0091\n",
      "Epoch 39/100\n",
      "1126/1126 [==============================] - 1s 1ms/step - loss: 0.0090 - val_loss: 0.0088\n",
      "Epoch 40/100\n",
      "1126/1126 [==============================] - 1s 1ms/step - loss: 0.0090 - val_loss: 0.0091\n",
      "Epoch 41/100\n",
      "1126/1126 [==============================] - 1s 1ms/step - loss: 0.0090 - val_loss: 0.0088\n"
     ]
    },
    {
     "data": {
      "text/plain": [
       "<keras.src.callbacks.History at 0x23a6366dc10>"
      ]
     },
     "execution_count": 29,
     "metadata": {},
     "output_type": "execute_result"
    }
   ],
   "source": [
    "# Set up early stopping\n",
    "early_stopping = EarlyStopping(monitor='val_loss', patience=5, restore_best_weights=True)\n",
    "\n",
    "# Train the model with early stopping\n",
    "model.fit(X_train, y_train, epochs=100, batch_size=32, validation_split=0.2, callbacks=[early_stopping])"
   ]
  },
  {
   "cell_type": "code",
   "execution_count": 30,
   "id": "09c167fd-f5cc-4172-a069-9ee202f486e4",
   "metadata": {},
   "outputs": [
    {
     "name": "stdout",
     "output_type": "stream",
     "text": [
      "352/352 [==============================] - 0s 647us/step\n"
     ]
    }
   ],
   "source": [
    "y_pred = model.predict(X_val)"
   ]
  },
  {
   "cell_type": "code",
   "execution_count": 31,
   "id": "e3d8d83b-3fc2-4330-89c3-c71065b9aeab",
   "metadata": {},
   "outputs": [
    {
     "name": "stdout",
     "output_type": "stream",
     "text": [
      "Alle folgenden Metriken sind H zu H'\n",
      "Mittlerer Abstand:  0.009175664931207429\n",
      "R2 Bestimmtheitsmaß:  0.9773140256006667\n",
      "Average Cosine Similarity:  0.9882459584295611\n",
      "Average Angle (degrees):  5.4183325635103925\n",
      "Durschnittliche Bindungslänge Differenz:  0.014626668097896811\n"
     ]
    }
   ],
   "source": [
    "metrics = eval_regression(y_val, y_pred)"
   ]
  },
  {
   "cell_type": "markdown",
   "id": "4688e0e3-2ab6-4b0d-8581-bd1e8261d84f",
   "metadata": {},
   "source": [
    "## Complex MLP"
   ]
  },
  {
   "cell_type": "code",
   "execution_count": 32,
   "id": "c2d8d456-2bb3-4c7f-abc9-78b2b1262173",
   "metadata": {},
   "outputs": [],
   "source": [
    "from tensorflow.keras.models import Sequential\n",
    "from tensorflow.keras.layers import Dense, Dropout, BatchNormalization\n",
    "from tensorflow.keras.regularizers import l2\n",
    "from tensorflow.keras.callbacks import EarlyStopping, ReduceLROnPlateau"
   ]
  },
  {
   "cell_type": "code",
   "execution_count": 33,
   "id": "5a431646-2bf2-4e99-91b2-68d28621b5cb",
   "metadata": {},
   "outputs": [],
   "source": [
    "input_dim = X_train.shape[1]\n",
    "output_dim = y_train.shape[1]"
   ]
  },
  {
   "cell_type": "code",
   "execution_count": 39,
   "id": "95253397-7858-446c-8c6b-7aa06cc3b6a4",
   "metadata": {},
   "outputs": [],
   "source": [
    "model = Sequential()\n",
    "model.add(Dense(64, activation='relu', input_shape=(input_dim,), kernel_regularizer=l2(0.01)))\n",
    "model.add(BatchNormalization())\n",
    "model.add(Dropout(0.2))\n",
    "model.add(Dense(32, activation='relu', kernel_regularizer=l2(0.01)))\n",
    "model.add(BatchNormalization())\n",
    "model.add(Dropout(0.2))\n",
    "model.add(Dense(16, activation='relu', kernel_regularizer=l2(0.01)))\n",
    "model.add(BatchNormalization())\n",
    "model.add(Dropout(0.2))\n",
    "model.add(Dense(output_dim))"
   ]
  },
  {
   "cell_type": "code",
   "execution_count": 40,
   "id": "2abf08ad-b653-4d15-824e-5cc4b264fc72",
   "metadata": {},
   "outputs": [
    {
     "name": "stdout",
     "output_type": "stream",
     "text": [
      "Model: \"sequential_5\"\n",
      "_________________________________________________________________\n",
      " Layer (type)                Output Shape              Param #   \n",
      "=================================================================\n",
      " dense_20 (Dense)            (None, 64)                2176      \n",
      "                                                                 \n",
      " batch_normalization_3 (Bat  (None, 64)                256       \n",
      " chNormalization)                                                \n",
      "                                                                 \n",
      " dropout_3 (Dropout)         (None, 64)                0         \n",
      "                                                                 \n",
      " dense_21 (Dense)            (None, 32)                2080      \n",
      "                                                                 \n",
      " batch_normalization_4 (Bat  (None, 32)                128       \n",
      " chNormalization)                                                \n",
      "                                                                 \n",
      " dropout_4 (Dropout)         (None, 32)                0         \n",
      "                                                                 \n",
      " dense_22 (Dense)            (None, 16)                528       \n",
      "                                                                 \n",
      " batch_normalization_5 (Bat  (None, 16)                64        \n",
      " chNormalization)                                                \n",
      "                                                                 \n",
      " dropout_5 (Dropout)         (None, 16)                0         \n",
      "                                                                 \n",
      " dense_23 (Dense)            (None, 3)                 51        \n",
      "                                                                 \n",
      "=================================================================\n",
      "Total params: 5283 (20.64 KB)\n",
      "Trainable params: 5059 (19.76 KB)\n",
      "Non-trainable params: 224 (896.00 Byte)\n",
      "_________________________________________________________________\n"
     ]
    }
   ],
   "source": [
    "model.compile(optimizer='adam', loss='mean_squared_error')\n",
    "model.summary()"
   ]
  },
  {
   "cell_type": "code",
   "execution_count": 41,
   "id": "d2f49791-28d3-4d0d-9a7b-d8e015bd7de6",
   "metadata": {},
   "outputs": [
    {
     "name": "stdout",
     "output_type": "stream",
     "text": [
      "Epoch 1/100\n",
      "1126/1126 [==============================] - 3s 2ms/step - loss: 0.9192 - val_loss: 0.2902 - lr: 0.0010\n",
      "Epoch 2/100\n",
      "1126/1126 [==============================] - 2s 1ms/step - loss: 0.1798 - val_loss: 0.0566 - lr: 0.0010\n",
      "Epoch 3/100\n",
      "1126/1126 [==============================] - 2s 1ms/step - loss: 0.0727 - val_loss: 0.0262 - lr: 0.0010\n",
      "Epoch 4/100\n",
      "1126/1126 [==============================] - 2s 1ms/step - loss: 0.0647 - val_loss: 0.0348 - lr: 0.0010\n",
      "Epoch 5/100\n",
      "1126/1126 [==============================] - 2s 1ms/step - loss: 0.0655 - val_loss: 0.0290 - lr: 0.0010\n",
      "Epoch 6/100\n",
      "1126/1126 [==============================] - 2s 1ms/step - loss: 0.0655 - val_loss: 0.0255 - lr: 0.0010\n",
      "Epoch 7/100\n",
      "1126/1126 [==============================] - 2s 1ms/step - loss: 0.0650 - val_loss: 0.0441 - lr: 0.0010\n",
      "Epoch 8/100\n",
      "1126/1126 [==============================] - 2s 1ms/step - loss: 0.0645 - val_loss: 0.0243 - lr: 0.0010\n",
      "Epoch 9/100\n",
      "1126/1126 [==============================] - 2s 1ms/step - loss: 0.0644 - val_loss: 0.0302 - lr: 0.0010\n",
      "Epoch 10/100\n",
      "1126/1126 [==============================] - 2s 1ms/step - loss: 0.0651 - val_loss: 0.0446 - lr: 0.0010\n",
      "Epoch 11/100\n",
      "1126/1126 [==============================] - 2s 1ms/step - loss: 0.0650 - val_loss: 0.0293 - lr: 0.0010\n",
      "Epoch 12/100\n",
      "1126/1126 [==============================] - 2s 1ms/step - loss: 0.0641 - val_loss: 0.0303 - lr: 0.0010\n",
      "Epoch 13/100\n",
      "1126/1126 [==============================] - 2s 1ms/step - loss: 0.0645 - val_loss: 0.0288 - lr: 0.0010\n",
      "Epoch 14/100\n",
      "1126/1126 [==============================] - 2s 1ms/step - loss: 0.0580 - val_loss: 0.0190 - lr: 2.0000e-04\n",
      "Epoch 15/100\n",
      "1126/1126 [==============================] - 2s 1ms/step - loss: 0.0565 - val_loss: 0.0192 - lr: 2.0000e-04\n",
      "Epoch 16/100\n",
      "1126/1126 [==============================] - 2s 1ms/step - loss: 0.0566 - val_loss: 0.0176 - lr: 2.0000e-04\n",
      "Epoch 17/100\n",
      "1126/1126 [==============================] - 2s 1ms/step - loss: 0.0567 - val_loss: 0.0202 - lr: 2.0000e-04\n",
      "Epoch 18/100\n",
      "1126/1126 [==============================] - 2s 1ms/step - loss: 0.0563 - val_loss: 0.0211 - lr: 2.0000e-04\n",
      "Epoch 19/100\n",
      "1126/1126 [==============================] - 2s 1ms/step - loss: 0.0557 - val_loss: 0.0205 - lr: 2.0000e-04\n",
      "Epoch 20/100\n",
      "1126/1126 [==============================] - 2s 1ms/step - loss: 0.0556 - val_loss: 0.0174 - lr: 2.0000e-04\n",
      "Epoch 21/100\n",
      "1126/1126 [==============================] - 2s 1ms/step - loss: 0.0547 - val_loss: 0.0174 - lr: 2.0000e-04\n",
      "Epoch 22/100\n",
      "1126/1126 [==============================] - 2s 1ms/step - loss: 0.0552 - val_loss: 0.0171 - lr: 2.0000e-04\n",
      "Epoch 23/100\n",
      "1126/1126 [==============================] - 2s 1ms/step - loss: 0.0547 - val_loss: 0.0170 - lr: 2.0000e-04\n",
      "Epoch 24/100\n",
      "1126/1126 [==============================] - 2s 1ms/step - loss: 0.0557 - val_loss: 0.0164 - lr: 2.0000e-04\n",
      "Epoch 25/100\n",
      "1126/1126 [==============================] - 2s 1ms/step - loss: 0.0556 - val_loss: 0.0166 - lr: 2.0000e-04\n",
      "Epoch 26/100\n",
      "1126/1126 [==============================] - 2s 1ms/step - loss: 0.0552 - val_loss: 0.0192 - lr: 2.0000e-04\n",
      "Epoch 27/100\n",
      "1126/1126 [==============================] - 2s 1ms/step - loss: 0.0554 - val_loss: 0.0163 - lr: 2.0000e-04\n",
      "Epoch 28/100\n",
      "1126/1126 [==============================] - 2s 1ms/step - loss: 0.0552 - val_loss: 0.0165 - lr: 2.0000e-04\n",
      "Epoch 29/100\n",
      "1126/1126 [==============================] - 2s 1ms/step - loss: 0.0555 - val_loss: 0.0169 - lr: 2.0000e-04\n",
      "Epoch 30/100\n",
      "1126/1126 [==============================] - 2s 1ms/step - loss: 0.0537 - val_loss: 0.0157 - lr: 1.0000e-04\n",
      "Epoch 31/100\n",
      "1126/1126 [==============================] - 2s 1ms/step - loss: 0.0540 - val_loss: 0.0154 - lr: 1.0000e-04\n",
      "Epoch 32/100\n",
      "1126/1126 [==============================] - 2s 1ms/step - loss: 0.0539 - val_loss: 0.0145 - lr: 1.0000e-04\n",
      "Epoch 33/100\n",
      "1126/1126 [==============================] - 2s 1ms/step - loss: 0.0529 - val_loss: 0.0145 - lr: 1.0000e-04\n",
      "Epoch 34/100\n",
      "1126/1126 [==============================] - 2s 1ms/step - loss: 0.0535 - val_loss: 0.0147 - lr: 1.0000e-04\n",
      "Epoch 35/100\n",
      "1126/1126 [==============================] - 2s 1ms/step - loss: 0.0535 - val_loss: 0.0153 - lr: 1.0000e-04\n",
      "Epoch 36/100\n",
      "1126/1126 [==============================] - 2s 1ms/step - loss: 0.0527 - val_loss: 0.0143 - lr: 1.0000e-04\n",
      "Epoch 37/100\n",
      "1126/1126 [==============================] - 2s 1ms/step - loss: 0.0524 - val_loss: 0.0168 - lr: 1.0000e-04\n",
      "Epoch 38/100\n",
      "1126/1126 [==============================] - 2s 1ms/step - loss: 0.0531 - val_loss: 0.0164 - lr: 1.0000e-04\n",
      "Epoch 39/100\n",
      "1126/1126 [==============================] - 2s 1ms/step - loss: 0.0529 - val_loss: 0.0168 - lr: 1.0000e-04\n",
      "Epoch 40/100\n",
      "1126/1126 [==============================] - 2s 1ms/step - loss: 0.0531 - val_loss: 0.0144 - lr: 1.0000e-04\n",
      "Epoch 41/100\n",
      "1126/1126 [==============================] - 2s 1ms/step - loss: 0.0532 - val_loss: 0.0146 - lr: 1.0000e-04\n",
      "Epoch 42/100\n",
      "1126/1126 [==============================] - 2s 1ms/step - loss: 0.0529 - val_loss: 0.0170 - lr: 1.0000e-04\n",
      "Epoch 43/100\n",
      "1126/1126 [==============================] - 2s 1ms/step - loss: 0.0527 - val_loss: 0.0154 - lr: 1.0000e-04\n",
      "Epoch 44/100\n",
      "1126/1126 [==============================] - 2s 1ms/step - loss: 0.0528 - val_loss: 0.0147 - lr: 1.0000e-04\n",
      "Epoch 45/100\n",
      "1126/1126 [==============================] - 2s 1ms/step - loss: 0.0533 - val_loss: 0.0152 - lr: 1.0000e-04\n",
      "Epoch 46/100\n",
      "1126/1126 [==============================] - 2s 1ms/step - loss: 0.0525 - val_loss: 0.0153 - lr: 1.0000e-04\n"
     ]
    },
    {
     "data": {
      "text/plain": [
       "<keras.src.callbacks.History at 0x23a69f75cd0>"
      ]
     },
     "execution_count": 41,
     "metadata": {},
     "output_type": "execute_result"
    }
   ],
   "source": [
    "# Callbacks for early stopping and learning rate reduction\n",
    "early_stopping = EarlyStopping(monitor='val_loss', patience=10, restore_best_weights=True)\n",
    "reduce_lr = ReduceLROnPlateau(monitor='val_loss', factor=0.2, patience=5, min_lr=0.0001)\n",
    "\n",
    "model.fit(X_train, y_train, epochs=100, batch_size=32, validation_split=0.2, \n",
    "          callbacks=[early_stopping, reduce_lr])"
   ]
  },
  {
   "cell_type": "code",
   "execution_count": 42,
   "id": "ef796b53-51e9-44c6-993f-ac766177ad2d",
   "metadata": {},
   "outputs": [
    {
     "name": "stdout",
     "output_type": "stream",
     "text": [
      "352/352 [==============================] - 0s 710us/step\n"
     ]
    }
   ],
   "source": [
    "y_pred = model.predict(X_val)"
   ]
  },
  {
   "cell_type": "code",
   "execution_count": 43,
   "id": "3f5ba187-3cfd-4b7c-baed-e54cef54841b",
   "metadata": {},
   "outputs": [
    {
     "name": "stdout",
     "output_type": "stream",
     "text": [
      "Alle folgenden Metriken sind H zu H'\n",
      "Mittlerer Abstand:  0.012929316129895384\n",
      "R2 Bestimmtheitsmaß:  0.9680354944233661\n",
      "Average Cosine Similarity:  0.985193195949547\n",
      "Average Angle (degrees):  6.450211049920056\n",
      "Durschnittliche Bindungslänge Differenz:  0.07909576714269662\n"
     ]
    }
   ],
   "source": [
    "metrics = eval_regression(y_val, y_pred)"
   ]
  },
  {
   "cell_type": "code",
   "execution_count": null,
   "id": "cb2aac8e-da54-4087-b93c-b0a250639e74",
   "metadata": {},
   "outputs": [],
   "source": []
  }
 ],
 "metadata": {
  "kernelspec": {
   "display_name": "Python 3 (ipykernel)",
   "language": "python",
   "name": "python3"
  },
  "language_info": {
   "codemirror_mode": {
    "name": "ipython",
    "version": 3
   },
   "file_extension": ".py",
   "mimetype": "text/x-python",
   "name": "python",
   "nbconvert_exporter": "python",
   "pygments_lexer": "ipython3",
   "version": "3.11.9"
  }
 },
 "nbformat": 4,
 "nbformat_minor": 5
}
