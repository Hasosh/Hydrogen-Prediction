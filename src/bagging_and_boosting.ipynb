{
 "cells": [
  {
   "cell_type": "code",
   "execution_count": 141,
   "id": "4de7a182-4edf-493a-a853-5de2f7f0e432",
   "metadata": {},
   "outputs": [],
   "source": [
    "import numpy as np\n",
    "from sklearn.model_selection import train_test_split\n",
    "from sklearn.metrics import mean_absolute_error, mean_squared_error, r2_score\n",
    "import pickle\n",
    "from sklearn.multioutput import MultiOutputRegressor\n",
    "import matplotlib.pyplot as plt\n",
    "%matplotlib inline"
   ]
  },
  {
   "cell_type": "code",
   "execution_count": 105,
   "id": "700f4df3-106a-40ad-8567-0d997a76dc00",
   "metadata": {},
   "outputs": [],
   "source": [
    "with open(\"../data/centralatom-C_numhydrogens-1_numneighbors-3_depth-1/training-validation.pkl\", 'rb') as file: # no_descriptor_approach_sorted_and_descriptor.pkl\n",
    "    data = pickle.load(file)"
   ]
  },
  {
   "cell_type": "code",
   "execution_count": 106,
   "id": "d334c47f-4656-4cb1-8a79-591e6d57a93f",
   "metadata": {},
   "outputs": [],
   "source": [
    "X, y = data"
   ]
  },
  {
   "cell_type": "code",
   "execution_count": 107,
   "id": "a68244bb-5328-4834-8460-5881ed835f4f",
   "metadata": {},
   "outputs": [],
   "source": [
    "X = np.asarray(X)\n",
    "y = np.asarray(y)"
   ]
  },
  {
   "cell_type": "code",
   "execution_count": 108,
   "id": "317f743a-0fef-47ae-80bc-ecbceee19d0d",
   "metadata": {},
   "outputs": [
    {
     "data": {
      "text/plain": [
       "(63324, 47)"
      ]
     },
     "execution_count": 108,
     "metadata": {},
     "output_type": "execute_result"
    }
   ],
   "source": [
    "X.shape"
   ]
  },
  {
   "cell_type": "code",
   "execution_count": 109,
   "id": "6ad86814-0210-42a2-8dab-8f43408ce429",
   "metadata": {},
   "outputs": [
    {
     "data": {
      "text/plain": [
       "(63324, 3)"
      ]
     },
     "execution_count": 109,
     "metadata": {},
     "output_type": "execute_result"
    }
   ],
   "source": [
    "y.shape"
   ]
  },
  {
   "cell_type": "code",
   "execution_count": 110,
   "id": "b17e7ed5-9033-442b-ba81-564f0b2f9a51",
   "metadata": {},
   "outputs": [],
   "source": [
    "# Split the data\n",
    "X_train, X_test, y_train, y_test = train_test_split(X, y, test_size=0.1, random_state=42)"
   ]
  },
  {
   "cell_type": "markdown",
   "id": "cfd99d64-9d1b-45f8-8dc5-5100ed48a568",
   "metadata": {},
   "source": [
    "# Random Forest regressor\n",
    "- old: Random Forest R² score: 0.8214503501551021"
   ]
  },
  {
   "cell_type": "code",
   "execution_count": 8,
   "id": "73489af3-10c6-468f-9bc4-abbbf8018b88",
   "metadata": {},
   "outputs": [
    {
     "name": "stdout",
     "output_type": "stream",
     "text": [
      "Starting training\n",
      "Done\n",
      "Random Forest R² score: 0.9644756120988189\n"
     ]
    }
   ],
   "source": [
    "from sklearn.ensemble import RandomForestRegressor\n",
    "\n",
    "# Initialize the model\n",
    "rf_model = RandomForestRegressor(n_estimators=100, random_state=42)\n",
    "\n",
    "# Train the model\n",
    "print(\"Starting training\")\n",
    "rf_model.fit(X_train[:10000], y_train[:10000])\n",
    "print(\"Done\")\n",
    "\n",
    "# Predict on the test set\n",
    "y_pred_rf = rf_model.predict(X_test)\n",
    "\n",
    "# Compute R² score\n",
    "r2_rf = r2_score(y_test, y_pred_rf)\n",
    "print(f'Random Forest R² score: {r2_rf}')"
   ]
  },
  {
   "cell_type": "markdown",
   "id": "6c002fa4-3fb7-4011-97ca-813d5fb090fc",
   "metadata": {},
   "source": [
    "# Gradient Boosting regressor\n",
    "- old: Gradient Boosting Multi-Output R² score: 0.8516877707002646"
   ]
  },
  {
   "cell_type": "code",
   "execution_count": null,
   "id": "ed1bae7c-f337-49c2-8faa-19087657a51a",
   "metadata": {},
   "outputs": [],
   "source": [
    "from sklearn.ensemble import GradientBoostingRegressor\n",
    "\n",
    "# Initialize the model\n",
    "gb_model = GradientBoostingRegressor(n_estimators=100, random_state=42)\n",
    "\n",
    "# Train the model\n",
    "gb_model.fit(X_train[:10000], y_train[:10000])\n",
    "\n",
    "# Predict on the test set\n",
    "y_pred_gb = gb_model.predict(X_test)\n",
    "\n",
    "# Compute R² score\n",
    "r2_gb = r2_score(y_test, y_pred_gb)\n",
    "print(f'Gradient Boosting R² score: {r2_gb}')"
   ]
  },
  {
   "cell_type": "code",
   "execution_count": 9,
   "id": "df3e09a7-abce-4131-95c4-226aa0c4d5f5",
   "metadata": {},
   "outputs": [
    {
     "name": "stdout",
     "output_type": "stream",
     "text": [
      "Gradient Boosting Multi-Output R² score: 0.9624929920023501\n"
     ]
    }
   ],
   "source": [
    "from sklearn.ensemble import GradientBoostingRegressor\n",
    "from sklearn.multioutput import MultiOutputRegressor\n",
    "from sklearn.metrics import r2_score\n",
    "\n",
    "# Initialize the base model\n",
    "base_gb_model = GradientBoostingRegressor(n_estimators=100, random_state=42)\n",
    "\n",
    "# Wrap the base model with MultiOutputRegressor\n",
    "multi_gb_model = MultiOutputRegressor(base_gb_model)\n",
    "\n",
    "# Train the model\n",
    "multi_gb_model.fit(X_train[:10000], y_train[:10000])\n",
    "\n",
    "# Predict on the test set\n",
    "y_pred_gb = multi_gb_model.predict(X_test)\n",
    "\n",
    "# Compute R² score\n",
    "r2_gb = r2_score(y_test, y_pred_gb)\n",
    "print(f'Gradient Boosting Multi-Output R² score: {r2_gb}')"
   ]
  },
  {
   "cell_type": "markdown",
   "id": "9ca96124-ef16-49da-92b3-2cc0b9445fab",
   "metadata": {},
   "source": [
    "# Support Vector Regressor (SVR)\n",
    "- <span style=\"color:red\">very slow and does not work well!</span>"
   ]
  },
  {
   "cell_type": "code",
   "execution_count": null,
   "id": "bd74d12b-4d0b-4e45-9dbe-4da3a979565c",
   "metadata": {},
   "outputs": [],
   "source": [
    "from sklearn.svm import SVR\n",
    "\n",
    "# Initialize the model\n",
    "svr_model = SVR(kernel='rbf', C=1.0, epsilon=0.1)\n",
    "\n",
    "# Train the model\n",
    "svr_model.fit(X_train[:10000], y_train[:10000])\n",
    "\n",
    "# Predict on the test set\n",
    "y_pred_svr = svr_model.predict(X_test)\n",
    "\n",
    "# Compute R² score\n",
    "r2_svr = r2_score(y_test, y_pred_svr)\n",
    "print(f'Support Vector Regressor R² score: {r2_svr}')"
   ]
  },
  {
   "cell_type": "code",
   "execution_count": 10,
   "id": "856beec0-e00b-4f3e-a5e9-7021b7cd9221",
   "metadata": {},
   "outputs": [
    {
     "name": "stdout",
     "output_type": "stream",
     "text": [
      "Support Vector Multi-Output R² score: 0.07626884222848407\n"
     ]
    }
   ],
   "source": [
    "from sklearn.svm import SVR\n",
    "\n",
    "# Initialize the base model\n",
    "base_svr_model = SVR(kernel='rbf', C=1.0, epsilon=0.1)\n",
    "\n",
    "# Wrap the base model with MultiOutputRegressor\n",
    "multi_svr_model = MultiOutputRegressor(base_svr_model)\n",
    "\n",
    "# Train the model\n",
    "multi_svr_model.fit(X_train[:1000], y_train[:1000])\n",
    "\n",
    "# Predict on the test set\n",
    "y_pred_svr = multi_svr_model.predict(X_test)\n",
    "\n",
    "# Compute R² score\n",
    "r2_svr = r2_score(y_test, y_pred_svr)\n",
    "print(f'Support Vector Multi-Output R² score: {r2_svr}')"
   ]
  },
  {
   "cell_type": "markdown",
   "id": "58b6c6a5-22fd-43be-bd30-9aec7775d746",
   "metadata": {},
   "source": [
    "# XGBoost Regressor\n",
    "- old: XGBoost R² score: 0.849968390286696"
   ]
  },
  {
   "cell_type": "code",
   "execution_count": 12,
   "id": "14316440-dded-4243-8727-20e02fd8c480",
   "metadata": {},
   "outputs": [
    {
     "name": "stdout",
     "output_type": "stream",
     "text": [
      "Collecting xgboost\n",
      "  Downloading xgboost-2.1.0-py3-none-win_amd64.whl.metadata (2.1 kB)\n",
      "Requirement already satisfied: numpy in c:\\users\\hasan\\anaconda3\\envs\\hydrogen\\lib\\site-packages (from xgboost) (1.26.4)\n",
      "Requirement already satisfied: scipy in c:\\users\\hasan\\anaconda3\\envs\\hydrogen\\lib\\site-packages (from xgboost) (1.13.0)\n",
      "Downloading xgboost-2.1.0-py3-none-win_amd64.whl (124.9 MB)\n",
      "   ---------------------------------------- 0.0/124.9 MB ? eta -:--:--\n",
      "   ---------------------------------------- 0.0/124.9 MB ? eta -:--:--\n",
      "   ---------------------------------------- 0.0/124.9 MB 330.3 kB/s eta 0:06:19\n",
      "   ---------------------------------------- 0.0/124.9 MB 330.3 kB/s eta 0:06:19\n",
      "   ---------------------------------------- 0.1/124.9 MB 585.1 kB/s eta 0:03:34\n",
      "   ---------------------------------------- 0.3/124.9 MB 1.6 MB/s eta 0:01:16\n",
      "   ---------------------------------------- 0.8/124.9 MB 3.3 MB/s eta 0:00:38\n",
      "   ---------------------------------------- 1.3/124.9 MB 4.5 MB/s eta 0:00:28\n",
      "    --------------------------------------- 1.9/124.9 MB 5.8 MB/s eta 0:00:22\n",
      "    --------------------------------------- 2.5/124.9 MB 6.7 MB/s eta 0:00:19\n",
      "   - -------------------------------------- 3.2/124.9 MB 7.4 MB/s eta 0:00:17\n",
      "   - -------------------------------------- 3.8/124.9 MB 8.0 MB/s eta 0:00:16\n",
      "   - -------------------------------------- 4.1/124.9 MB 8.2 MB/s eta 0:00:15\n",
      "   - -------------------------------------- 4.1/124.9 MB 8.2 MB/s eta 0:00:15\n",
      "   - -------------------------------------- 4.3/124.9 MB 7.0 MB/s eta 0:00:18\n",
      "   - -------------------------------------- 5.4/124.9 MB 8.2 MB/s eta 0:00:15\n",
      "   - -------------------------------------- 6.1/124.9 MB 8.7 MB/s eta 0:00:14\n",
      "   -- ------------------------------------- 6.7/124.9 MB 9.0 MB/s eta 0:00:14\n",
      "   -- ------------------------------------- 7.4/124.9 MB 9.2 MB/s eta 0:00:13\n",
      "   -- ------------------------------------- 8.0/124.9 MB 9.5 MB/s eta 0:00:13\n",
      "   -- ------------------------------------- 8.6/124.9 MB 9.7 MB/s eta 0:00:13\n",
      "   -- ------------------------------------- 9.2/124.9 MB 9.8 MB/s eta 0:00:12\n",
      "   --- ------------------------------------ 9.8/124.9 MB 10.0 MB/s eta 0:00:12\n",
      "   --- ------------------------------------ 10.4/124.9 MB 11.9 MB/s eta 0:00:10\n",
      "   --- ------------------------------------ 11.1/124.9 MB 11.9 MB/s eta 0:00:10\n",
      "   --- ------------------------------------ 11.7/124.9 MB 11.9 MB/s eta 0:00:10\n",
      "   --- ------------------------------------ 12.3/124.9 MB 12.1 MB/s eta 0:00:10\n",
      "   ---- ----------------------------------- 12.9/124.9 MB 11.9 MB/s eta 0:00:10\n",
      "   ---- ----------------------------------- 13.5/124.9 MB 12.1 MB/s eta 0:00:10\n",
      "   ---- ----------------------------------- 14.1/124.9 MB 12.1 MB/s eta 0:00:10\n",
      "   ---- ----------------------------------- 14.7/124.9 MB 13.6 MB/s eta 0:00:09\n",
      "   ---- ----------------------------------- 15.3/124.9 MB 13.1 MB/s eta 0:00:09\n",
      "   ----- ---------------------------------- 16.0/124.9 MB 12.8 MB/s eta 0:00:09\n",
      "   ----- ---------------------------------- 16.6/124.9 MB 12.9 MB/s eta 0:00:09\n",
      "   ----- ---------------------------------- 17.2/124.9 MB 12.8 MB/s eta 0:00:09\n",
      "   ----- ---------------------------------- 17.8/124.9 MB 12.8 MB/s eta 0:00:09\n",
      "   ----- ---------------------------------- 18.5/124.9 MB 13.1 MB/s eta 0:00:09\n",
      "   ------ --------------------------------- 19.1/124.9 MB 13.1 MB/s eta 0:00:09\n",
      "   ------ --------------------------------- 19.7/124.9 MB 13.1 MB/s eta 0:00:09\n",
      "   ------ --------------------------------- 20.3/124.9 MB 13.1 MB/s eta 0:00:08\n",
      "   ------ --------------------------------- 20.9/124.9 MB 13.1 MB/s eta 0:00:08\n",
      "   ------ --------------------------------- 21.5/124.9 MB 13.1 MB/s eta 0:00:08\n",
      "   ------- -------------------------------- 22.1/124.9 MB 13.1 MB/s eta 0:00:08\n",
      "   ------- -------------------------------- 22.8/124.9 MB 13.1 MB/s eta 0:00:08\n",
      "   ------- -------------------------------- 23.4/124.9 MB 13.1 MB/s eta 0:00:08\n",
      "   ------- -------------------------------- 24.0/124.9 MB 13.1 MB/s eta 0:00:08\n",
      "   ------- -------------------------------- 24.6/124.9 MB 12.9 MB/s eta 0:00:08\n",
      "   -------- ------------------------------- 25.2/124.9 MB 13.1 MB/s eta 0:00:08\n",
      "   -------- ------------------------------- 25.2/124.9 MB 13.1 MB/s eta 0:00:08\n",
      "   -------- ------------------------------- 25.2/124.9 MB 13.1 MB/s eta 0:00:08\n",
      "   -------- ------------------------------- 25.2/124.9 MB 13.1 MB/s eta 0:00:08\n",
      "   -------- ------------------------------- 25.2/124.9 MB 13.1 MB/s eta 0:00:08\n",
      "   -------- ------------------------------- 25.2/124.9 MB 9.9 MB/s eta 0:00:11\n",
      "   -------- ------------------------------- 25.8/124.9 MB 9.9 MB/s eta 0:00:10\n",
      "   -------- ------------------------------- 26.5/124.9 MB 9.9 MB/s eta 0:00:10\n",
      "   -------- ------------------------------- 27.1/124.9 MB 9.9 MB/s eta 0:00:10\n",
      "   -------- ------------------------------- 27.7/124.9 MB 9.9 MB/s eta 0:00:10\n",
      "   --------- ------------------------------ 28.3/124.9 MB 9.9 MB/s eta 0:00:10\n",
      "   --------- ------------------------------ 28.9/124.9 MB 9.9 MB/s eta 0:00:10\n",
      "   --------- ------------------------------ 29.5/124.9 MB 9.9 MB/s eta 0:00:10\n",
      "   --------- ------------------------------ 30.1/124.9 MB 9.9 MB/s eta 0:00:10\n",
      "   --------- ------------------------------ 30.8/124.9 MB 9.9 MB/s eta 0:00:10\n",
      "   ---------- ----------------------------- 31.4/124.9 MB 9.9 MB/s eta 0:00:10\n",
      "   ---------- ----------------------------- 32.0/124.9 MB 9.9 MB/s eta 0:00:10\n",
      "   ---------- ----------------------------- 32.6/124.9 MB 9.9 MB/s eta 0:00:10\n",
      "   ---------- ----------------------------- 33.2/124.9 MB 9.9 MB/s eta 0:00:10\n",
      "   ---------- ----------------------------- 33.8/124.9 MB 9.9 MB/s eta 0:00:10\n",
      "   ----------- ---------------------------- 34.4/124.9 MB 10.1 MB/s eta 0:00:09\n",
      "   ----------- ---------------------------- 35.0/124.9 MB 10.1 MB/s eta 0:00:09\n",
      "   ----------- ---------------------------- 35.6/124.9 MB 13.1 MB/s eta 0:00:07\n",
      "   ----------- ---------------------------- 36.2/124.9 MB 12.9 MB/s eta 0:00:07\n",
      "   ----------- ---------------------------- 36.9/124.9 MB 13.1 MB/s eta 0:00:07\n",
      "   ------------ --------------------------- 37.5/124.9 MB 13.1 MB/s eta 0:00:07\n",
      "   ------------ --------------------------- 38.1/124.9 MB 13.1 MB/s eta 0:00:07\n",
      "   ------------ --------------------------- 38.7/124.9 MB 13.1 MB/s eta 0:00:07\n",
      "   ------------ --------------------------- 39.3/124.9 MB 13.1 MB/s eta 0:00:07\n",
      "   ------------ --------------------------- 39.9/124.9 MB 13.1 MB/s eta 0:00:07\n",
      "   ------------ --------------------------- 40.6/124.9 MB 13.1 MB/s eta 0:00:07\n",
      "   ------------- -------------------------- 41.2/124.9 MB 13.1 MB/s eta 0:00:07\n",
      "   ------------- -------------------------- 41.8/124.9 MB 13.1 MB/s eta 0:00:07\n",
      "   ------------- -------------------------- 42.4/124.9 MB 13.1 MB/s eta 0:00:07\n",
      "   ------------- -------------------------- 43.0/124.9 MB 13.1 MB/s eta 0:00:07\n",
      "   ------------- -------------------------- 43.6/124.9 MB 13.1 MB/s eta 0:00:07\n",
      "   -------------- ------------------------- 44.2/124.9 MB 12.9 MB/s eta 0:00:07\n",
      "   -------------- ------------------------- 44.9/124.9 MB 12.8 MB/s eta 0:00:07\n",
      "   -------------- ------------------------- 45.5/124.9 MB 12.8 MB/s eta 0:00:07\n",
      "   -------------- ------------------------- 46.1/124.9 MB 12.8 MB/s eta 0:00:07\n",
      "   -------------- ------------------------- 46.7/124.9 MB 12.8 MB/s eta 0:00:07\n",
      "   --------------- ------------------------ 47.3/124.9 MB 12.8 MB/s eta 0:00:07\n",
      "   --------------- ------------------------ 47.9/124.9 MB 12.8 MB/s eta 0:00:06\n",
      "   --------------- ------------------------ 48.5/124.9 MB 12.8 MB/s eta 0:00:06\n",
      "   --------------- ------------------------ 49.1/124.9 MB 12.9 MB/s eta 0:00:06\n",
      "   --------------- ------------------------ 49.8/124.9 MB 12.8 MB/s eta 0:00:06\n",
      "   ---------------- ----------------------- 50.4/124.9 MB 12.8 MB/s eta 0:00:06\n",
      "   ---------------- ----------------------- 51.0/124.9 MB 12.8 MB/s eta 0:00:06\n",
      "   ---------------- ----------------------- 51.6/124.9 MB 12.8 MB/s eta 0:00:06\n",
      "   ---------------- ----------------------- 52.2/124.9 MB 12.8 MB/s eta 0:00:06\n",
      "   ---------------- ----------------------- 52.8/124.9 MB 12.8 MB/s eta 0:00:06\n",
      "   ----------------- ---------------------- 53.4/124.9 MB 12.8 MB/s eta 0:00:06\n",
      "   ----------------- ---------------------- 54.0/124.9 MB 12.9 MB/s eta 0:00:06\n",
      "   ----------------- ---------------------- 54.7/124.9 MB 12.8 MB/s eta 0:00:06\n",
      "   ----------------- ---------------------- 55.3/124.9 MB 12.8 MB/s eta 0:00:06\n",
      "   ----------------- ---------------------- 55.8/124.9 MB 12.8 MB/s eta 0:00:06\n",
      "   ------------------ --------------------- 56.5/124.9 MB 12.8 MB/s eta 0:00:06\n",
      "   ------------------ --------------------- 57.1/124.9 MB 12.8 MB/s eta 0:00:06\n",
      "   ------------------ --------------------- 57.7/124.9 MB 12.8 MB/s eta 0:00:06\n",
      "   ------------------ --------------------- 58.3/124.9 MB 12.8 MB/s eta 0:00:06\n",
      "   ------------------ --------------------- 58.9/124.9 MB 12.9 MB/s eta 0:00:06\n",
      "   ------------------- -------------------- 59.5/124.9 MB 12.8 MB/s eta 0:00:06\n",
      "   ------------------- -------------------- 60.1/124.9 MB 12.8 MB/s eta 0:00:06\n",
      "   ------------------- -------------------- 60.7/124.9 MB 12.8 MB/s eta 0:00:06\n",
      "   ------------------- -------------------- 61.3/124.9 MB 12.8 MB/s eta 0:00:05\n",
      "   ------------------- -------------------- 61.9/124.9 MB 12.8 MB/s eta 0:00:05\n",
      "   -------------------- ------------------- 62.5/124.9 MB 12.8 MB/s eta 0:00:05\n",
      "   -------------------- ------------------- 63.1/124.9 MB 12.8 MB/s eta 0:00:05\n",
      "   -------------------- ------------------- 63.7/124.9 MB 12.9 MB/s eta 0:00:05\n",
      "   -------------------- ------------------- 64.3/124.9 MB 12.8 MB/s eta 0:00:05\n",
      "   -------------------- ------------------- 64.9/124.9 MB 12.8 MB/s eta 0:00:05\n",
      "   -------------------- ------------------- 65.5/124.9 MB 12.8 MB/s eta 0:00:05\n",
      "   --------------------- ------------------ 66.1/124.9 MB 12.8 MB/s eta 0:00:05\n",
      "   --------------------- ------------------ 66.7/124.9 MB 12.8 MB/s eta 0:00:05\n",
      "   --------------------- ------------------ 67.3/124.9 MB 12.8 MB/s eta 0:00:05\n",
      "   --------------------- ------------------ 67.9/124.9 MB 12.8 MB/s eta 0:00:05\n",
      "   --------------------- ------------------ 68.5/124.9 MB 12.9 MB/s eta 0:00:05\n",
      "   ---------------------- ----------------- 69.1/124.9 MB 12.8 MB/s eta 0:00:05\n",
      "   ---------------------- ----------------- 69.7/124.9 MB 12.8 MB/s eta 0:00:05\n",
      "   ---------------------- ----------------- 70.4/124.9 MB 12.8 MB/s eta 0:00:05\n",
      "   ---------------------- ----------------- 71.0/124.9 MB 12.8 MB/s eta 0:00:05\n",
      "   ---------------------- ----------------- 71.6/124.9 MB 12.8 MB/s eta 0:00:05\n",
      "   ----------------------- ---------------- 72.2/124.9 MB 12.8 MB/s eta 0:00:05\n",
      "   ----------------------- ---------------- 72.8/124.9 MB 12.8 MB/s eta 0:00:05\n",
      "   ----------------------- ---------------- 73.4/124.9 MB 12.9 MB/s eta 0:00:05\n",
      "   ----------------------- ---------------- 74.0/124.9 MB 12.8 MB/s eta 0:00:04\n",
      "   ----------------------- ---------------- 74.6/124.9 MB 12.8 MB/s eta 0:00:04\n",
      "   ------------------------ --------------- 75.2/124.9 MB 12.8 MB/s eta 0:00:04\n",
      "   ------------------------ --------------- 75.8/124.9 MB 12.8 MB/s eta 0:00:04\n",
      "   ------------------------ --------------- 76.4/124.9 MB 12.8 MB/s eta 0:00:04\n",
      "   ------------------------ --------------- 77.0/124.9 MB 12.8 MB/s eta 0:00:04\n",
      "   ------------------------ --------------- 77.6/124.9 MB 12.8 MB/s eta 0:00:04\n",
      "   ------------------------- -------------- 78.2/124.9 MB 12.9 MB/s eta 0:00:04\n",
      "   ------------------------- -------------- 78.8/124.9 MB 12.8 MB/s eta 0:00:04\n",
      "   ------------------------- -------------- 79.4/124.9 MB 12.8 MB/s eta 0:00:04\n",
      "   ------------------------- -------------- 80.0/124.9 MB 12.8 MB/s eta 0:00:04\n",
      "   ------------------------- -------------- 80.7/124.9 MB 12.8 MB/s eta 0:00:04\n",
      "   -------------------------- ------------- 81.3/124.9 MB 12.8 MB/s eta 0:00:04\n",
      "   -------------------------- ------------- 81.9/124.9 MB 12.8 MB/s eta 0:00:04\n",
      "   -------------------------- ------------- 82.4/124.9 MB 13.1 MB/s eta 0:00:04\n",
      "   -------------------------- ------------- 83.0/124.9 MB 13.1 MB/s eta 0:00:04\n",
      "   -------------------------- ------------- 83.7/124.9 MB 12.8 MB/s eta 0:00:04\n",
      "   -------------------------- ------------- 84.3/124.9 MB 12.8 MB/s eta 0:00:04\n",
      "   --------------------------- ------------ 84.9/124.9 MB 12.8 MB/s eta 0:00:04\n",
      "   --------------------------- ------------ 85.5/124.9 MB 12.8 MB/s eta 0:00:04\n",
      "   --------------------------- ------------ 86.1/124.9 MB 12.8 MB/s eta 0:00:04\n",
      "   --------------------------- ------------ 86.7/124.9 MB 12.8 MB/s eta 0:00:03\n",
      "   --------------------------- ------------ 87.3/124.9 MB 12.8 MB/s eta 0:00:03\n",
      "   ---------------------------- ----------- 87.9/124.9 MB 12.9 MB/s eta 0:00:03\n",
      "   ---------------------------- ----------- 88.5/124.9 MB 12.8 MB/s eta 0:00:03\n",
      "   ---------------------------- ----------- 89.1/124.9 MB 12.8 MB/s eta 0:00:03\n",
      "   ---------------------------- ----------- 89.8/124.9 MB 12.8 MB/s eta 0:00:03\n",
      "   ---------------------------- ----------- 90.4/124.9 MB 12.8 MB/s eta 0:00:03\n",
      "   ----------------------------- ---------- 91.0/124.9 MB 12.8 MB/s eta 0:00:03\n",
      "   ----------------------------- ---------- 91.6/124.9 MB 12.8 MB/s eta 0:00:03\n",
      "   ----------------------------- ---------- 92.2/124.9 MB 12.8 MB/s eta 0:00:03\n",
      "   ----------------------------- ---------- 92.8/124.9 MB 12.9 MB/s eta 0:00:03\n",
      "   ----------------------------- ---------- 93.4/124.9 MB 12.8 MB/s eta 0:00:03\n",
      "   ------------------------------ --------- 94.0/124.9 MB 12.8 MB/s eta 0:00:03\n",
      "   ------------------------------ --------- 94.6/124.9 MB 13.1 MB/s eta 0:00:03\n",
      "   ------------------------------ --------- 95.2/124.9 MB 13.1 MB/s eta 0:00:03\n",
      "   ------------------------------ --------- 95.8/124.9 MB 13.1 MB/s eta 0:00:03\n",
      "   ------------------------------ --------- 96.4/124.9 MB 13.1 MB/s eta 0:00:03\n",
      "   ------------------------------- -------- 97.0/124.9 MB 13.1 MB/s eta 0:00:03\n",
      "   ------------------------------- -------- 97.6/124.9 MB 13.1 MB/s eta 0:00:03\n",
      "   ------------------------------- -------- 98.2/124.9 MB 13.1 MB/s eta 0:00:03\n",
      "   ------------------------------- -------- 98.8/124.9 MB 13.1 MB/s eta 0:00:02\n",
      "   ------------------------------- -------- 99.4/124.9 MB 13.1 MB/s eta 0:00:02\n",
      "   ------------------------------- ------- 100.0/124.9 MB 13.1 MB/s eta 0:00:02\n",
      "   ------------------------------- ------- 100.6/124.9 MB 13.1 MB/s eta 0:00:02\n",
      "   ------------------------------- ------- 101.2/124.9 MB 13.1 MB/s eta 0:00:02\n",
      "   ------------------------------- ------- 101.8/124.9 MB 13.1 MB/s eta 0:00:02\n",
      "   ------------------------------- ------- 102.4/124.9 MB 13.1 MB/s eta 0:00:02\n",
      "   -------------------------------- ------ 103.0/124.9 MB 13.1 MB/s eta 0:00:02\n",
      "   -------------------------------- ------ 103.6/124.9 MB 13.1 MB/s eta 0:00:02\n",
      "   -------------------------------- ------ 104.3/124.9 MB 13.1 MB/s eta 0:00:02\n",
      "   -------------------------------- ------ 104.9/124.9 MB 13.1 MB/s eta 0:00:02\n",
      "   -------------------------------- ------ 105.5/124.9 MB 13.1 MB/s eta 0:00:02\n",
      "   --------------------------------- ----- 106.1/124.9 MB 13.1 MB/s eta 0:00:02\n",
      "   --------------------------------- ----- 106.7/124.9 MB 13.1 MB/s eta 0:00:02\n",
      "   --------------------------------- ----- 107.3/124.9 MB 13.1 MB/s eta 0:00:02\n",
      "   --------------------------------- ----- 107.9/124.9 MB 13.1 MB/s eta 0:00:02\n",
      "   --------------------------------- ----- 108.5/124.9 MB 13.1 MB/s eta 0:00:02\n",
      "   ---------------------------------- ---- 109.1/124.9 MB 13.1 MB/s eta 0:00:02\n",
      "   ---------------------------------- ---- 109.7/124.9 MB 13.1 MB/s eta 0:00:02\n",
      "   ---------------------------------- ---- 110.3/124.9 MB 13.1 MB/s eta 0:00:02\n",
      "   ---------------------------------- ---- 110.9/124.9 MB 13.1 MB/s eta 0:00:02\n",
      "   ---------------------------------- ---- 111.5/124.9 MB 12.8 MB/s eta 0:00:02\n",
      "   ----------------------------------- --- 112.1/124.9 MB 12.8 MB/s eta 0:00:01\n",
      "   ----------------------------------- --- 112.7/124.9 MB 12.8 MB/s eta 0:00:01\n",
      "   ----------------------------------- --- 113.3/124.9 MB 12.8 MB/s eta 0:00:01\n",
      "   ----------------------------------- --- 113.9/124.9 MB 12.9 MB/s eta 0:00:01\n",
      "   ----------------------------------- --- 114.5/124.9 MB 13.1 MB/s eta 0:00:01\n",
      "   ----------------------------------- --- 115.1/124.9 MB 13.1 MB/s eta 0:00:01\n",
      "   ------------------------------------ -- 115.7/124.9 MB 12.8 MB/s eta 0:00:01\n",
      "   ------------------------------------ -- 116.3/124.9 MB 12.8 MB/s eta 0:00:01\n",
      "   ------------------------------------ -- 116.9/124.9 MB 12.8 MB/s eta 0:00:01\n",
      "   ------------------------------------ -- 117.5/124.9 MB 12.8 MB/s eta 0:00:01\n",
      "   ------------------------------------ -- 118.1/124.9 MB 12.8 MB/s eta 0:00:01\n",
      "   ------------------------------------- - 118.7/124.9 MB 12.9 MB/s eta 0:00:01\n",
      "   ------------------------------------- - 119.3/124.9 MB 12.8 MB/s eta 0:00:01\n",
      "   ------------------------------------- - 119.9/124.9 MB 12.8 MB/s eta 0:00:01\n",
      "   ------------------------------------- - 120.5/124.9 MB 12.8 MB/s eta 0:00:01\n",
      "   ------------------------------------- - 121.1/124.9 MB 12.8 MB/s eta 0:00:01\n",
      "   --------------------------------------  121.7/124.9 MB 12.8 MB/s eta 0:00:01\n",
      "   --------------------------------------  122.3/124.9 MB 12.8 MB/s eta 0:00:01\n",
      "   --------------------------------------  123.0/124.9 MB 12.8 MB/s eta 0:00:01\n",
      "   --------------------------------------  123.6/124.9 MB 12.9 MB/s eta 0:00:01\n",
      "   --------------------------------------  124.2/124.9 MB 12.8 MB/s eta 0:00:01\n",
      "   --------------------------------------  124.8/124.9 MB 12.8 MB/s eta 0:00:01\n",
      "   --------------------------------------  124.9/124.9 MB 13.1 MB/s eta 0:00:01\n",
      "   --------------------------------------  124.9/124.9 MB 13.1 MB/s eta 0:00:01\n",
      "   --------------------------------------  124.9/124.9 MB 13.1 MB/s eta 0:00:01\n",
      "   --------------------------------------  124.9/124.9 MB 13.1 MB/s eta 0:00:01\n",
      "   --------------------------------------  124.9/124.9 MB 13.1 MB/s eta 0:00:01\n",
      "   --------------------------------------  124.9/124.9 MB 13.1 MB/s eta 0:00:01\n",
      "   --------------------------------------  124.9/124.9 MB 13.1 MB/s eta 0:00:01\n",
      "   --------------------------------------  124.9/124.9 MB 13.1 MB/s eta 0:00:01\n",
      "   ---------------------------------------- 124.9/124.9 MB 8.8 MB/s eta 0:00:00\n",
      "Installing collected packages: xgboost\n",
      "Successfully installed xgboost-2.1.0\n"
     ]
    }
   ],
   "source": [
    "#!pip install xgboost"
   ]
  },
  {
   "cell_type": "code",
   "execution_count": 13,
   "id": "fc66b3cd-1069-42af-b75a-9e93145f6edc",
   "metadata": {},
   "outputs": [
    {
     "name": "stdout",
     "output_type": "stream",
     "text": [
      "XGBoost R² score: 0.9732248224092755\n"
     ]
    }
   ],
   "source": [
    "import xgboost as xgb\n",
    "\n",
    "# Initialize the model\n",
    "xgb_model = xgb.XGBRegressor(n_estimators=100, random_state=42)\n",
    "\n",
    "# Train the model\n",
    "xgb_model.fit(X_train[:10000], y_train[:10000])\n",
    "\n",
    "# Predict on the test set\n",
    "y_pred_xgb = xgb_model.predict(X_test)\n",
    "\n",
    "# Compute R² score\n",
    "r2_xgb = r2_score(y_test, y_pred_xgb)\n",
    "print(f'XGBoost R² score: {r2_xgb}')"
   ]
  },
  {
   "cell_type": "markdown",
   "id": "3d5740fe-0cfd-4a6f-a7ec-0ee1a91d3a69",
   "metadata": {},
   "source": [
    "# LightGBM Regressor (cannot install)"
   ]
  },
  {
   "cell_type": "code",
   "execution_count": 20,
   "id": "b2cc33ac-66e5-43d1-bf48-1c90ae38d9e9",
   "metadata": {},
   "outputs": [
    {
     "name": "stdout",
     "output_type": "stream",
     "text": [
      "Looking in indexes: https://pypi.org/simple, https://pypi.ngc.nvidia.com\n"
     ]
    },
    {
     "name": "stderr",
     "output_type": "stream",
     "text": [
      "ERROR: Could not find a version that satisfies the requirement lightbgm (from versions: none)\n",
      "ERROR: No matching distribution found for lightbgm\n"
     ]
    }
   ],
   "source": [
    "#!pip install lightbgm"
   ]
  },
  {
   "cell_type": "code",
   "execution_count": null,
   "id": "04da59a9-e407-476e-b147-1cf91f577f26",
   "metadata": {},
   "outputs": [],
   "source": [
    "import lightgbm as lgb\n",
    "\n",
    "# Initialize the model\n",
    "lgb_model = lgb.LGBMRegressor(n_estimators=100, random_state=42)\n",
    "\n",
    "# Train the model\n",
    "lgb_model.fit(X_train[:10000], y_train[:10000])\n",
    "\n",
    "# Predict on the test set\n",
    "y_pred_lgb = lgb_model.predict(X_test)\n",
    "\n",
    "# Compute R² score\n",
    "r2_lgb = r2_score(y_test, y_pred_lgb)\n",
    "print(f'LightGBM R² score: {r2_lgb}')"
   ]
  },
  {
   "cell_type": "markdown",
   "id": "229f16d1-311f-41fb-b4f3-94f0c338b5f1",
   "metadata": {},
   "source": [
    "# CatBoost Regressor\n",
    "- seems to be very good (r2 score of 0.860 if only taken 10000 training samples)\n",
    "- very fast on the whole dataset!\n",
    "- <span style=\"color:green\">old: 0.877 on the whole dataset!</span>"
   ]
  },
  {
   "cell_type": "code",
   "execution_count": 14,
   "id": "67d127a9-38a0-4c46-a21d-bc673391e739",
   "metadata": {},
   "outputs": [
    {
     "name": "stdout",
     "output_type": "stream",
     "text": [
      "Collecting catboost\n",
      "  Downloading catboost-1.2.5-cp311-cp311-win_amd64.whl.metadata (1.2 kB)\n",
      "Collecting graphviz (from catboost)\n",
      "  Downloading graphviz-0.20.3-py3-none-any.whl.metadata (12 kB)\n",
      "Requirement already satisfied: matplotlib in c:\\users\\hasan\\anaconda3\\envs\\hydrogen\\lib\\site-packages (from catboost) (3.8.4)\n",
      "Requirement already satisfied: numpy>=1.16.0 in c:\\users\\hasan\\anaconda3\\envs\\hydrogen\\lib\\site-packages (from catboost) (1.26.4)\n",
      "Requirement already satisfied: pandas>=0.24 in c:\\users\\hasan\\anaconda3\\envs\\hydrogen\\lib\\site-packages (from catboost) (2.1.4)\n",
      "Requirement already satisfied: scipy in c:\\users\\hasan\\anaconda3\\envs\\hydrogen\\lib\\site-packages (from catboost) (1.13.0)\n",
      "Requirement already satisfied: plotly in c:\\users\\hasan\\anaconda3\\envs\\hydrogen\\lib\\site-packages (from catboost) (5.19.0)\n",
      "Requirement already satisfied: six in c:\\users\\hasan\\anaconda3\\envs\\hydrogen\\lib\\site-packages (from catboost) (1.16.0)\n",
      "Requirement already satisfied: python-dateutil>=2.8.2 in c:\\users\\hasan\\anaconda3\\envs\\hydrogen\\lib\\site-packages (from pandas>=0.24->catboost) (2.8.2)\n",
      "Requirement already satisfied: pytz>=2020.1 in c:\\users\\hasan\\anaconda3\\envs\\hydrogen\\lib\\site-packages (from pandas>=0.24->catboost) (2024.1)\n",
      "Requirement already satisfied: tzdata>=2022.1 in c:\\users\\hasan\\anaconda3\\envs\\hydrogen\\lib\\site-packages (from pandas>=0.24->catboost) (2023.3)\n",
      "Requirement already satisfied: contourpy>=1.0.1 in c:\\users\\hasan\\anaconda3\\envs\\hydrogen\\lib\\site-packages (from matplotlib->catboost) (1.2.0)\n",
      "Requirement already satisfied: cycler>=0.10 in c:\\users\\hasan\\anaconda3\\envs\\hydrogen\\lib\\site-packages (from matplotlib->catboost) (0.11.0)\n",
      "Requirement already satisfied: fonttools>=4.22.0 in c:\\users\\hasan\\anaconda3\\envs\\hydrogen\\lib\\site-packages (from matplotlib->catboost) (4.51.0)\n",
      "Requirement already satisfied: kiwisolver>=1.3.1 in c:\\users\\hasan\\anaconda3\\envs\\hydrogen\\lib\\site-packages (from matplotlib->catboost) (1.4.4)\n",
      "Requirement already satisfied: packaging>=20.0 in c:\\users\\hasan\\anaconda3\\envs\\hydrogen\\lib\\site-packages (from matplotlib->catboost) (23.2)\n",
      "Requirement already satisfied: pillow>=8 in c:\\users\\hasan\\anaconda3\\envs\\hydrogen\\lib\\site-packages (from matplotlib->catboost) (10.2.0)\n",
      "Requirement already satisfied: pyparsing>=2.3.1 in c:\\users\\hasan\\anaconda3\\envs\\hydrogen\\lib\\site-packages (from matplotlib->catboost) (3.0.9)\n",
      "Requirement already satisfied: tenacity>=6.2.0 in c:\\users\\hasan\\anaconda3\\envs\\hydrogen\\lib\\site-packages (from plotly->catboost) (8.2.2)\n",
      "Downloading catboost-1.2.5-cp311-cp311-win_amd64.whl (101.1 MB)\n",
      "   ---------------------------------------- 0.0/101.1 MB ? eta -:--:--\n",
      "   ---------------------------------------- 0.0/101.1 MB ? eta -:--:--\n",
      "   ---------------------------------------- 0.0/101.1 MB 435.7 kB/s eta 0:03:53\n",
      "   ---------------------------------------- 0.1/101.1 MB 1.0 MB/s eta 0:01:39\n",
      "   ---------------------------------------- 0.4/101.1 MB 2.6 MB/s eta 0:00:39\n",
      "   ---------------------------------------- 0.8/101.1 MB 3.9 MB/s eta 0:00:26\n",
      "    --------------------------------------- 1.3/101.1 MB 5.3 MB/s eta 0:00:19\n",
      "    --------------------------------------- 1.9/101.1 MB 6.5 MB/s eta 0:00:16\n",
      "   - -------------------------------------- 2.6/101.1 MB 7.4 MB/s eta 0:00:14\n",
      "   - -------------------------------------- 3.2/101.1 MB 8.0 MB/s eta 0:00:13\n",
      "   - -------------------------------------- 3.8/101.1 MB 8.6 MB/s eta 0:00:12\n",
      "   - -------------------------------------- 4.4/101.1 MB 9.0 MB/s eta 0:00:11\n",
      "   - -------------------------------------- 5.0/101.1 MB 9.4 MB/s eta 0:00:11\n",
      "   -- ------------------------------------- 5.6/101.1 MB 9.7 MB/s eta 0:00:10\n",
      "   -- ------------------------------------- 6.2/101.1 MB 9.9 MB/s eta 0:00:10\n",
      "   -- ------------------------------------- 6.2/101.1 MB 9.9 MB/s eta 0:00:10\n",
      "   -- ------------------------------------- 6.2/101.1 MB 8.8 MB/s eta 0:00:11\n",
      "   -- ------------------------------------- 6.7/101.1 MB 8.7 MB/s eta 0:00:11\n",
      "   --- ------------------------------------ 8.2/101.1 MB 10.0 MB/s eta 0:00:10\n",
      "   --- ------------------------------------ 8.7/101.1 MB 10.2 MB/s eta 0:00:10\n",
      "   --- ------------------------------------ 9.4/101.1 MB 10.3 MB/s eta 0:00:09\n",
      "   --- ------------------------------------ 10.0/101.1 MB 10.4 MB/s eta 0:00:09\n",
      "   ---- ----------------------------------- 10.6/101.1 MB 11.9 MB/s eta 0:00:08\n",
      "   ---- ----------------------------------- 11.2/101.1 MB 12.4 MB/s eta 0:00:08\n",
      "   ---- ----------------------------------- 11.8/101.1 MB 12.4 MB/s eta 0:00:08\n",
      "   ---- ----------------------------------- 12.4/101.1 MB 12.4 MB/s eta 0:00:08\n",
      "   ----- ---------------------------------- 13.0/101.1 MB 12.4 MB/s eta 0:00:08\n",
      "   ----- ---------------------------------- 13.6/101.1 MB 12.4 MB/s eta 0:00:08\n",
      "   ----- ---------------------------------- 14.2/101.1 MB 12.4 MB/s eta 0:00:08\n",
      "   ----- ---------------------------------- 14.8/101.1 MB 12.3 MB/s eta 0:00:07\n",
      "   ------ --------------------------------- 15.4/101.1 MB 12.4 MB/s eta 0:00:07\n",
      "   ------ --------------------------------- 16.0/101.1 MB 12.4 MB/s eta 0:00:07\n",
      "   ------ --------------------------------- 16.6/101.1 MB 14.2 MB/s eta 0:00:06\n",
      "   ------ --------------------------------- 17.2/101.1 MB 13.9 MB/s eta 0:00:07\n",
      "   ------- -------------------------------- 17.8/101.1 MB 13.6 MB/s eta 0:00:07\n",
      "   ------- -------------------------------- 18.4/101.1 MB 12.8 MB/s eta 0:00:07\n",
      "   ------- -------------------------------- 19.0/101.1 MB 12.8 MB/s eta 0:00:07\n",
      "   ------- -------------------------------- 19.6/101.1 MB 12.8 MB/s eta 0:00:07\n",
      "   -------- ------------------------------- 20.2/101.1 MB 12.9 MB/s eta 0:00:07\n",
      "   -------- ------------------------------- 20.8/101.1 MB 12.8 MB/s eta 0:00:07\n",
      "   -------- ------------------------------- 21.5/101.1 MB 12.8 MB/s eta 0:00:07\n",
      "   -------- ------------------------------- 22.1/101.1 MB 12.8 MB/s eta 0:00:07\n",
      "   -------- ------------------------------- 22.7/101.1 MB 13.1 MB/s eta 0:00:06\n",
      "   --------- ------------------------------ 23.3/101.1 MB 13.1 MB/s eta 0:00:06\n",
      "   --------- ------------------------------ 23.9/101.1 MB 13.1 MB/s eta 0:00:06\n",
      "   --------- ------------------------------ 24.5/101.1 MB 13.1 MB/s eta 0:00:06\n",
      "   --------- ------------------------------ 25.1/101.1 MB 13.1 MB/s eta 0:00:06\n",
      "   ---------- ----------------------------- 25.7/101.1 MB 13.1 MB/s eta 0:00:06\n",
      "   ---------- ----------------------------- 26.3/101.1 MB 13.1 MB/s eta 0:00:06\n",
      "   ---------- ----------------------------- 26.9/101.1 MB 13.1 MB/s eta 0:00:06\n",
      "   ---------- ----------------------------- 27.5/101.1 MB 13.1 MB/s eta 0:00:06\n",
      "   ----------- ---------------------------- 28.1/101.1 MB 13.1 MB/s eta 0:00:06\n",
      "   ----------- ---------------------------- 28.7/101.1 MB 13.1 MB/s eta 0:00:06\n",
      "   ----------- ---------------------------- 29.3/101.1 MB 13.1 MB/s eta 0:00:06\n",
      "   ----------- ---------------------------- 29.9/101.1 MB 13.1 MB/s eta 0:00:06\n",
      "   ------------ --------------------------- 30.5/101.1 MB 13.1 MB/s eta 0:00:06\n",
      "   ------------ --------------------------- 31.1/101.1 MB 13.1 MB/s eta 0:00:06\n",
      "   ------------ --------------------------- 31.7/101.1 MB 13.1 MB/s eta 0:00:06\n",
      "   ------------ --------------------------- 32.3/101.1 MB 13.1 MB/s eta 0:00:06\n",
      "   ------------- -------------------------- 32.9/101.1 MB 13.1 MB/s eta 0:00:06\n",
      "   ------------- -------------------------- 33.5/101.1 MB 13.1 MB/s eta 0:00:06\n",
      "   ------------- -------------------------- 34.1/101.1 MB 13.1 MB/s eta 0:00:06\n",
      "   ------------- -------------------------- 34.7/101.1 MB 13.1 MB/s eta 0:00:06\n",
      "   ------------- -------------------------- 35.3/101.1 MB 13.1 MB/s eta 0:00:06\n",
      "   -------------- ------------------------- 36.0/101.1 MB 13.1 MB/s eta 0:00:05\n",
      "   -------------- ------------------------- 36.6/101.1 MB 13.1 MB/s eta 0:00:05\n",
      "   -------------- ------------------------- 37.2/101.1 MB 13.1 MB/s eta 0:00:05\n",
      "   -------------- ------------------------- 37.8/101.1 MB 13.1 MB/s eta 0:00:05\n",
      "   --------------- ------------------------ 38.4/101.1 MB 13.1 MB/s eta 0:00:05\n",
      "   --------------- ------------------------ 39.0/101.1 MB 13.1 MB/s eta 0:00:05\n",
      "   --------------- ------------------------ 39.6/101.1 MB 13.1 MB/s eta 0:00:05\n",
      "   --------------- ------------------------ 40.2/101.1 MB 13.1 MB/s eta 0:00:05\n",
      "   ---------------- ----------------------- 40.8/101.1 MB 13.1 MB/s eta 0:00:05\n",
      "   ---------------- ----------------------- 41.5/101.1 MB 13.1 MB/s eta 0:00:05\n",
      "   ---------------- ----------------------- 42.0/101.1 MB 13.1 MB/s eta 0:00:05\n",
      "   ---------------- ----------------------- 42.6/101.1 MB 13.1 MB/s eta 0:00:05\n",
      "   ----------------- ---------------------- 43.3/101.1 MB 13.1 MB/s eta 0:00:05\n",
      "   ----------------- ---------------------- 43.8/101.1 MB 13.1 MB/s eta 0:00:05\n",
      "   ----------------- ---------------------- 44.4/101.1 MB 13.1 MB/s eta 0:00:05\n",
      "   ----------------- ---------------------- 45.1/101.1 MB 13.1 MB/s eta 0:00:05\n",
      "   ------------------ --------------------- 45.6/101.1 MB 13.1 MB/s eta 0:00:05\n",
      "   ------------------ --------------------- 46.2/101.1 MB 13.1 MB/s eta 0:00:05\n",
      "   ------------------ --------------------- 46.8/101.1 MB 13.1 MB/s eta 0:00:05\n",
      "   ------------------ --------------------- 47.4/101.1 MB 12.8 MB/s eta 0:00:05\n",
      "   ------------------- -------------------- 48.0/101.1 MB 12.8 MB/s eta 0:00:05\n",
      "   ------------------- -------------------- 48.7/101.1 MB 13.1 MB/s eta 0:00:05\n",
      "   ------------------- -------------------- 49.3/101.1 MB 12.8 MB/s eta 0:00:05\n",
      "   ------------------- -------------------- 49.9/101.1 MB 12.8 MB/s eta 0:00:04\n",
      "   ------------------- -------------------- 50.5/101.1 MB 12.8 MB/s eta 0:00:04\n",
      "   -------------------- ------------------- 51.1/101.1 MB 12.9 MB/s eta 0:00:04\n",
      "   -------------------- ------------------- 51.7/101.1 MB 12.8 MB/s eta 0:00:04\n",
      "   -------------------- ------------------- 52.3/101.1 MB 12.8 MB/s eta 0:00:04\n",
      "   -------------------- ------------------- 52.9/101.1 MB 12.8 MB/s eta 0:00:04\n",
      "   --------------------- ------------------ 53.5/101.1 MB 12.8 MB/s eta 0:00:04\n",
      "   --------------------- ------------------ 54.1/101.1 MB 12.8 MB/s eta 0:00:04\n",
      "   --------------------- ------------------ 54.7/101.1 MB 12.8 MB/s eta 0:00:04\n",
      "   --------------------- ------------------ 55.3/101.1 MB 12.8 MB/s eta 0:00:04\n",
      "   ---------------------- ----------------- 55.9/101.1 MB 12.9 MB/s eta 0:00:04\n",
      "   ---------------------- ----------------- 56.5/101.1 MB 12.8 MB/s eta 0:00:04\n",
      "   ---------------------- ----------------- 57.1/101.1 MB 12.8 MB/s eta 0:00:04\n",
      "   ---------------------- ----------------- 57.7/101.1 MB 12.8 MB/s eta 0:00:04\n",
      "   ----------------------- ---------------- 58.3/101.1 MB 12.8 MB/s eta 0:00:04\n",
      "   ----------------------- ---------------- 58.9/101.1 MB 12.8 MB/s eta 0:00:04\n",
      "   ----------------------- ---------------- 59.5/101.1 MB 12.8 MB/s eta 0:00:04\n",
      "   ----------------------- ---------------- 60.1/101.1 MB 12.8 MB/s eta 0:00:04\n",
      "   ------------------------ --------------- 60.7/101.1 MB 12.9 MB/s eta 0:00:04\n",
      "   ------------------------ --------------- 61.3/101.1 MB 12.8 MB/s eta 0:00:04\n",
      "   ------------------------ --------------- 61.9/101.1 MB 12.8 MB/s eta 0:00:04\n",
      "   ------------------------ --------------- 62.5/101.1 MB 12.8 MB/s eta 0:00:04\n",
      "   ------------------------ --------------- 63.1/101.1 MB 12.8 MB/s eta 0:00:03\n",
      "   ------------------------- -------------- 63.7/101.1 MB 12.8 MB/s eta 0:00:03\n",
      "   ------------------------- -------------- 64.3/101.1 MB 12.8 MB/s eta 0:00:03\n",
      "   ------------------------- -------------- 64.9/101.1 MB 12.8 MB/s eta 0:00:03\n",
      "   ------------------------- -------------- 65.5/101.1 MB 12.9 MB/s eta 0:00:03\n",
      "   -------------------------- ------------- 66.2/101.1 MB 12.8 MB/s eta 0:00:03\n",
      "   -------------------------- ------------- 66.8/101.1 MB 12.8 MB/s eta 0:00:03\n",
      "   -------------------------- ------------- 67.4/101.1 MB 12.8 MB/s eta 0:00:03\n",
      "   -------------------------- ------------- 68.0/101.1 MB 12.8 MB/s eta 0:00:03\n",
      "   --------------------------- ------------ 68.6/101.1 MB 12.8 MB/s eta 0:00:03\n",
      "   --------------------------- ------------ 69.2/101.1 MB 13.1 MB/s eta 0:00:03\n",
      "   --------------------------- ------------ 69.8/101.1 MB 12.8 MB/s eta 0:00:03\n",
      "   --------------------------- ------------ 70.4/101.1 MB 13.1 MB/s eta 0:00:03\n",
      "   ---------------------------- ----------- 71.0/101.1 MB 13.1 MB/s eta 0:00:03\n",
      "   ---------------------------- ----------- 71.6/101.1 MB 13.1 MB/s eta 0:00:03\n",
      "   ---------------------------- ----------- 72.2/101.1 MB 12.8 MB/s eta 0:00:03\n",
      "   ---------------------------- ----------- 72.8/101.1 MB 12.8 MB/s eta 0:00:03\n",
      "   ----------------------------- ---------- 73.4/101.1 MB 12.8 MB/s eta 0:00:03\n",
      "   ----------------------------- ---------- 74.0/101.1 MB 12.8 MB/s eta 0:00:03\n",
      "   ----------------------------- ---------- 74.7/101.1 MB 12.8 MB/s eta 0:00:03\n",
      "   ----------------------------- ---------- 75.2/101.1 MB 12.9 MB/s eta 0:00:03\n",
      "   ------------------------------ --------- 75.9/101.1 MB 12.8 MB/s eta 0:00:02\n",
      "   ------------------------------ --------- 76.5/101.1 MB 12.8 MB/s eta 0:00:02\n",
      "   ------------------------------ --------- 77.1/101.1 MB 12.8 MB/s eta 0:00:02\n",
      "   ------------------------------ --------- 77.7/101.1 MB 12.8 MB/s eta 0:00:02\n",
      "   ------------------------------ --------- 78.3/101.1 MB 12.8 MB/s eta 0:00:02\n",
      "   ------------------------------- -------- 78.9/101.1 MB 12.8 MB/s eta 0:00:02\n",
      "   ------------------------------- -------- 79.5/101.1 MB 12.8 MB/s eta 0:00:02\n",
      "   ------------------------------- -------- 80.1/101.1 MB 12.9 MB/s eta 0:00:02\n",
      "   ------------------------------- -------- 80.7/101.1 MB 12.8 MB/s eta 0:00:02\n",
      "   -------------------------------- ------- 81.3/101.1 MB 12.8 MB/s eta 0:00:02\n",
      "   -------------------------------- ------- 82.0/101.1 MB 12.8 MB/s eta 0:00:02\n",
      "   -------------------------------- ------- 82.6/101.1 MB 12.8 MB/s eta 0:00:02\n",
      "   -------------------------------- ------- 83.1/101.1 MB 12.8 MB/s eta 0:00:02\n",
      "   --------------------------------- ------ 83.7/101.1 MB 12.8 MB/s eta 0:00:02\n",
      "   --------------------------------- ------ 84.3/101.1 MB 12.8 MB/s eta 0:00:02\n",
      "   --------------------------------- ------ 84.9/101.1 MB 13.1 MB/s eta 0:00:02\n",
      "   --------------------------------- ------ 85.6/101.1 MB 13.1 MB/s eta 0:00:02\n",
      "   ---------------------------------- ----- 86.1/101.1 MB 13.1 MB/s eta 0:00:02\n",
      "   ---------------------------------- ----- 86.8/101.1 MB 13.1 MB/s eta 0:00:02\n",
      "   ---------------------------------- ----- 87.4/101.1 MB 13.1 MB/s eta 0:00:02\n",
      "   ---------------------------------- ----- 88.0/101.1 MB 13.1 MB/s eta 0:00:02\n",
      "   ----------------------------------- ---- 88.6/101.1 MB 13.1 MB/s eta 0:00:01\n",
      "   ----------------------------------- ---- 89.2/101.1 MB 13.1 MB/s eta 0:00:01\n",
      "   ----------------------------------- ---- 89.8/101.1 MB 12.9 MB/s eta 0:00:01\n",
      "   ----------------------------------- ---- 90.4/101.1 MB 12.8 MB/s eta 0:00:01\n",
      "   ------------------------------------ --- 91.0/101.1 MB 12.8 MB/s eta 0:00:01\n",
      "   ------------------------------------ --- 91.6/101.1 MB 12.8 MB/s eta 0:00:01\n",
      "   ------------------------------------ --- 92.2/101.1 MB 13.1 MB/s eta 0:00:01\n",
      "   ------------------------------------ --- 92.8/101.1 MB 13.1 MB/s eta 0:00:01\n",
      "   ------------------------------------ --- 93.4/101.1 MB 13.1 MB/s eta 0:00:01\n",
      "   ------------------------------------- -- 94.0/101.1 MB 13.1 MB/s eta 0:00:01\n",
      "   ------------------------------------- -- 94.6/101.1 MB 13.1 MB/s eta 0:00:01\n",
      "   ------------------------------------- -- 95.2/101.1 MB 13.1 MB/s eta 0:00:01\n",
      "   ------------------------------------- -- 95.8/101.1 MB 13.1 MB/s eta 0:00:01\n",
      "   -------------------------------------- - 96.4/101.1 MB 13.1 MB/s eta 0:00:01\n",
      "   -------------------------------------- - 97.0/101.1 MB 13.1 MB/s eta 0:00:01\n",
      "   -------------------------------------- - 97.6/101.1 MB 13.1 MB/s eta 0:00:01\n",
      "   -------------------------------------- - 98.2/101.1 MB 13.1 MB/s eta 0:00:01\n",
      "   ---------------------------------------  98.8/101.1 MB 12.8 MB/s eta 0:00:01\n",
      "   ---------------------------------------  99.4/101.1 MB 13.1 MB/s eta 0:00:01\n",
      "   --------------------------------------  100.0/101.1 MB 13.1 MB/s eta 0:00:01\n",
      "   --------------------------------------  100.6/101.1 MB 13.1 MB/s eta 0:00:01\n",
      "   --------------------------------------  101.1/101.1 MB 13.1 MB/s eta 0:00:01\n",
      "   --------------------------------------  101.1/101.1 MB 13.1 MB/s eta 0:00:01\n",
      "   --------------------------------------  101.1/101.1 MB 13.1 MB/s eta 0:00:01\n",
      "   --------------------------------------  101.1/101.1 MB 13.1 MB/s eta 0:00:01\n",
      "   --------------------------------------  101.1/101.1 MB 13.1 MB/s eta 0:00:01\n",
      "   --------------------------------------  101.1/101.1 MB 13.1 MB/s eta 0:00:01\n",
      "   --------------------------------------  101.1/101.1 MB 13.1 MB/s eta 0:00:01\n",
      "   --------------------------------------  101.1/101.1 MB 13.1 MB/s eta 0:00:01\n",
      "   ---------------------------------------- 101.1/101.1 MB 9.0 MB/s eta 0:00:00\n",
      "Downloading graphviz-0.20.3-py3-none-any.whl (47 kB)\n",
      "   ---------------------------------------- 0.0/47.1 kB ? eta -:--:--\n",
      "   ---------------------------------------- 47.1/47.1 kB 2.3 MB/s eta 0:00:00\n",
      "Installing collected packages: graphviz, catboost\n",
      "Successfully installed catboost-1.2.5 graphviz-0.20.3\n"
     ]
    }
   ],
   "source": [
    "#!pip install catboost"
   ]
  },
  {
   "cell_type": "code",
   "execution_count": null,
   "id": "dbd16d47-9639-4365-93e9-5895ff22e214",
   "metadata": {},
   "outputs": [],
   "source": [
    "from catboost import CatBoostRegressor\n",
    "\n",
    "# Initialize the model\n",
    "cat_model = CatBoostRegressor(iterations=100, random_state=42, verbose=0)\n",
    "\n",
    "# Train the model\n",
    "cat_model.fit(X_train[:10000], y_train[:10000])\n",
    "\n",
    "# Predict on the test set\n",
    "y_pred_cat = cat_model.predict(X_test)\n",
    "\n",
    "# Compute R² score\n",
    "r2_cat = r2_score(y_test, y_pred_cat)\n",
    "print(f'CatBoost R² score: {r2_cat}')"
   ]
  },
  {
   "cell_type": "code",
   "execution_count": 193,
   "id": "4511b1e8-3f05-4b0e-ad8a-523b044ed4aa",
   "metadata": {},
   "outputs": [
    {
     "name": "stdout",
     "output_type": "stream",
     "text": [
      "CatBoost Multi-Output R² score: 0.9714648167092471\n"
     ]
    }
   ],
   "source": [
    "from catboost import CatBoostRegressor\n",
    "\n",
    "# Initialize the base model\n",
    "base_cat_model = CatBoostRegressor(iterations=100, random_state=42, verbose=0)\n",
    "\n",
    "# Wrap the base model with MultiOutputRegressor\n",
    "multi_cat_model = MultiOutputRegressor(base_cat_model)\n",
    "\n",
    "# Train the model\n",
    "multi_cat_model.fit(X_train, y_train)\n",
    "\n",
    "# Predict on the test set\n",
    "y_pred_cat = multi_cat_model.predict(X_test)\n",
    "\n",
    "# Compute R² score\n",
    "r2_cat = r2_score(y_test, y_pred_cat)\n",
    "print(f'CatBoost Multi-Output R² score: {r2_cat}')"
   ]
  },
  {
   "cell_type": "code",
   "execution_count": 31,
   "id": "75625ad7-6dff-40f8-bdc9-e45acc7833dc",
   "metadata": {},
   "outputs": [
    {
     "name": "stdout",
     "output_type": "stream",
     "text": [
      "CatBoost Multi-Output MSE score: 0.00979558979028246\n"
     ]
    }
   ],
   "source": [
    "# MSE score (Abstand H zu H')\n",
    "mse_cat = mean_squared_error(y_test, y_pred_cat)\n",
    "print(f'CatBoost Multi-Output MSE score: {mse_cat}')"
   ]
  },
  {
   "cell_type": "code",
   "execution_count": 30,
   "id": "2b8ac415-84c4-4b31-915a-ff8137e6bb0d",
   "metadata": {},
   "outputs": [
    {
     "name": "stdout",
     "output_type": "stream",
     "text": [
      "Average Cosine Similarity: 0.9895406600347387\n",
      "Average Angle (degrees): 4.927436128217275\n"
     ]
    }
   ],
   "source": [
    "# Average Cosine Similarity and Average Angle (degrees)\n",
    "avg_cosine_similarity, avg_angle = metric_cosine_similarity_and_angle(y_test, y_pred_cat)\n",
    "print(\"Average Cosine Similarity:\", avg_cosine_similarity)\n",
    "print(\"Average Angle (degrees):\", avg_angle)"
   ]
  },
  {
   "cell_type": "code",
   "execution_count": 87,
   "id": "58a49259-b8f3-40cd-a57e-659256251772",
   "metadata": {},
   "outputs": [
    {
     "name": "stdout",
     "output_type": "stream",
     "text": [
      "Avg. Bindungslänge Differenz: 0.016928202054687702\n"
     ]
    }
   ],
   "source": [
    "# Durschnittliche Bindungslängendifferenz\n",
    "avg_bindungslängendifferenz = metric_bindungslänge_differenz(y_test, y_pred_cat)\n",
    "print(\"Avg. Bindungslänge Differenz:\", avg_bindungslängendifferenz)"
   ]
  },
  {
   "cell_type": "code",
   "execution_count": 16,
   "id": "c32d998e-8a46-47db-baba-7eb3d7269369",
   "metadata": {},
   "outputs": [
    {
     "data": {
      "text/plain": [
       "array([[ 0.067, -0.28 ,  1.062],\n",
       "       [ 0.076, -1.092, -0.109],\n",
       "       [-0.741, -0.239, -0.777],\n",
       "       [-0.296,  1.045, -0.176],\n",
       "       [ 0.194,  0.994, -0.429],\n",
       "       [ 0.832, -0.371, -0.616],\n",
       "       [-0.545,  0.953,  0.067],\n",
       "       [-0.64 , -0.157,  0.88 ],\n",
       "       [-0.092,  0.803, -0.747],\n",
       "       [ 0.019,  0.95 ,  0.555]])"
      ]
     },
     "execution_count": 16,
     "metadata": {},
     "output_type": "execute_result"
    }
   ],
   "source": [
    "y_test[:10]"
   ]
  },
  {
   "cell_type": "code",
   "execution_count": 17,
   "id": "77d6ce70-d668-43c6-bc1b-87da651dc5bf",
   "metadata": {},
   "outputs": [
    {
     "data": {
      "text/plain": [
       "array([[ 0.11112838, -0.36389448,  1.17108059],\n",
       "       [-0.0332124 , -1.08640861, -0.13050196],\n",
       "       [-0.74923718, -0.28279813, -0.70137582],\n",
       "       [-0.2231107 ,  1.14609023, -0.08766524],\n",
       "       [ 0.19242332,  0.95590903, -0.4595724 ],\n",
       "       [ 0.76699596, -0.3089934 , -0.63879755],\n",
       "       [-0.46060418,  0.88935751,  0.22508528],\n",
       "       [-0.5502374 , -0.16443762,  0.9791773 ],\n",
       "       [-0.07408829,  0.80703848, -0.70768841],\n",
       "       [ 0.00345849,  0.84724124,  0.50924396]])"
      ]
     },
     "execution_count": 17,
     "metadata": {},
     "output_type": "execute_result"
    }
   ],
   "source": [
    "y_pred_cat[:10]"
   ]
  },
  {
   "cell_type": "markdown",
   "id": "8a58795d-931e-4e1b-ac51-a94f43f8336d",
   "metadata": {},
   "source": [
    "# Evaluation scheme"
   ]
  },
  {
   "cell_type": "code",
   "execution_count": 88,
   "id": "1c1e9ecd-4c7e-4846-8a03-bf41296d8540",
   "metadata": {},
   "outputs": [],
   "source": [
    "def cosine_similarity_and_angle(vector1, vector2):\n",
    "    # Convert inputs to numpy arrays if they are not already\n",
    "    pred = np.array(vector1)\n",
    "    truth = np.array(vector2)\n",
    "    \n",
    "    # Compute the dot product\n",
    "    dot_product = np.dot(vector1, vector2)\n",
    "    \n",
    "    # Compute the norms (magnitudes) of the vectors\n",
    "    norm_pred = np.linalg.norm(vector1)\n",
    "    norm_truth = np.linalg.norm(vector2)\n",
    "    \n",
    "    # Compute the cosine similarity\n",
    "    cosine_sim = dot_product / (norm_pred * norm_truth)\n",
    "    \n",
    "    # Clip the cosine similarity to the range [-1, 1] to avoid numerical issues\n",
    "    cosine_sim = np.clip(cosine_sim, -1.0, 1.0)\n",
    "    \n",
    "    # Compute the angle in radians\n",
    "    angle_radians = np.arccos(cosine_sim)\n",
    "    \n",
    "    # Convert the angle to degrees\n",
    "    angle_degrees = np.degrees(angle_radians)\n",
    "\n",
    "    # Round the values to three decimal places\n",
    "    cosine_sim = round(cosine_sim, 3)\n",
    "    angle_radians = round(angle_radians, 3)\n",
    "    angle_degrees = round(angle_degrees, 3)\n",
    "    \n",
    "    return cosine_sim, angle_degrees"
   ]
  },
  {
   "cell_type": "code",
   "execution_count": 89,
   "id": "c7ebdc53-e500-4225-a311-1ad0850bdab4",
   "metadata": {},
   "outputs": [
    {
     "name": "stdout",
     "output_type": "stream",
     "text": [
      "Cosine Similarity: 0.5\n",
      "Angle (degrees): 60.0\n"
     ]
    }
   ],
   "source": [
    "# Example usage\n",
    "predictions = [1, 1, 0] # [3.0, -0.5, 2.0, 7.0]\n",
    "ground_truth = [0, 1, 1] # [2.5, 0.0, 2.0, 8.0]\n",
    "similarity, angle_degrees = cosine_similarity_and_angle(predictions, ground_truth)\n",
    "print(\"Cosine Similarity:\", similarity)\n",
    "print(\"Angle (degrees):\", angle_degrees)"
   ]
  },
  {
   "cell_type": "code",
   "execution_count": 90,
   "id": "5aeab49e-3ef2-42e4-a3df-5c7f9dd85e47",
   "metadata": {},
   "outputs": [],
   "source": [
    "def metric_cosine_similarity_and_angle(y_test, y_pred):\n",
    "    assert len(y_test) == len(y_pred), \"Length of y_test and y_pred is not the same\"\n",
    "    \n",
    "    cosine_similarities = []\n",
    "    angles = []\n",
    "    for t, p in zip(y_test, y_pred):\n",
    "        cosine_sim, ang = cosine_similarity_and_angle(t, p)\n",
    "        cosine_similarities.append(cosine_sim)\n",
    "        angles.append(ang)\n",
    "    avg_cosine_similarity = np.average(cosine_similarities)\n",
    "    avg_angle = np.average(angles)\n",
    "    return avg_cosine_similarity, avg_angle"
   ]
  },
  {
   "cell_type": "code",
   "execution_count": 91,
   "id": "0b4c786d-4540-4053-8b2c-f9f78d8035bd",
   "metadata": {},
   "outputs": [
    {
     "name": "stdout",
     "output_type": "stream",
     "text": [
      "Cosine Similarity: 0.25\n",
      "Angle (degrees): 75.0\n"
     ]
    }
   ],
   "source": [
    "# Example usage\n",
    "predictions = [[1, 1, 0], [1, 0, 0]] # [3.0, -0.5, 2.0, 7.0]\n",
    "ground_truth = [[0, 1, 1], [0, 0, 1]] # [2.5, 0.0, 2.0, 8.0]\n",
    "avg_cosine_similarity, avg_angle = metric_cosine_similarity_and_angle(ground_truth, predictions)\n",
    "print(\"Cosine Similarity:\", avg_cosine_similarity)\n",
    "print(\"Angle (degrees):\", avg_angle)"
   ]
  },
  {
   "cell_type": "code",
   "execution_count": 92,
   "id": "8093ac76-6add-4f34-b350-2d63962f5dc3",
   "metadata": {},
   "outputs": [],
   "source": [
    "def bindungslänge_differenz(truth, pred):\n",
    "    # truth and pred should have same shape\n",
    "    np_truth = np.array(truth)\n",
    "    np_pred = np.array(pred)\n",
    "    \n",
    "    return abs(np.linalg.norm(np_truth) - np.linalg.norm(np_pred))"
   ]
  },
  {
   "cell_type": "code",
   "execution_count": 93,
   "id": "f80d25fa-7095-418b-bc04-fe263983436e",
   "metadata": {},
   "outputs": [
    {
     "name": "stdout",
     "output_type": "stream",
     "text": [
      "Bindungslänge Differenz: 1.4142135623730951\n"
     ]
    }
   ],
   "source": [
    "# Example usage\n",
    "predictions = [1, 1, 0] # [3.0, -0.5, 2.0, 7.0]\n",
    "ground_truth = [2, 2, 0] # [2.5, 0.0, 2.0, 8.0]\n",
    "bindugslänge_diff = bindungslänge_differenz(predictions, ground_truth)\n",
    "print(\"Bindungslänge Differenz:\", bindugslänge_diff)"
   ]
  },
  {
   "cell_type": "code",
   "execution_count": 94,
   "id": "b2afe1c3-8789-4a77-82cd-2c4910ec795b",
   "metadata": {},
   "outputs": [],
   "source": [
    "def metric_bindungslänge_differenz(y_test, y_pred):\n",
    "    assert len(y_test) == len(y_pred), \"Length of y_test and y_pred is not the same\"\n",
    "        \n",
    "    return abs(np.average(np.linalg.norm(y_test, axis=1)) - np.average(np.linalg.norm(y_pred, axis=1)))"
   ]
  },
  {
   "cell_type": "code",
   "execution_count": 95,
   "id": "97c1b790-5047-4f12-9f15-c0724044dd0f",
   "metadata": {},
   "outputs": [
    {
     "name": "stdout",
     "output_type": "stream",
     "text": [
      "Avg. Bindungslänge Differenz: 1.1180339887498947\n"
     ]
    }
   ],
   "source": [
    "# Example usage\n",
    "predictions =[[1, 1, 0], [1, 1, 0]] # [3.0, -0.5, 2.0, 7.0]\n",
    "ground_truth = [[1, 2, 0], [2, 2, 0]] # [2.5, 0.0, 2.0, 8.0]\n",
    "bindugslänge_diff = metric_bindungslänge_differenz(predictions, ground_truth)\n",
    "print(\"Avg. Bindungslänge Differenz:\", bindugslänge_diff)"
   ]
  },
  {
   "cell_type": "code",
   "execution_count": 166,
   "id": "05c1d23f-e57f-4e66-87c6-88fc637fe33e",
   "metadata": {},
   "outputs": [],
   "source": [
    "import sys\n",
    "def all_angles_H_central_neighbor(X_relative_coordinates, y):\n",
    "    assert len(X_relative_coordinates) == len(y), \"Length of X and y is not the same\"\n",
    "\n",
    "    all_angles = []\n",
    "    for current_X, current_y in zip(X_relative_coordinates, y):\n",
    "        for coords in current_X:\n",
    "            _, angle = cosine_similarity_and_angle(coords, current_y)\n",
    "            all_angles.append(angle)\n",
    "    return np.array(all_angles)"
   ]
  },
  {
   "cell_type": "markdown",
   "id": "27c5074e-0108-417d-8bf8-6c4447acd342",
   "metadata": {},
   "source": [
    "## Wie ist es im Dataset?"
   ]
  },
  {
   "cell_type": "code",
   "execution_count": 167,
   "id": "09b42df3-e59c-43e6-b435-add718103e32",
   "metadata": {},
   "outputs": [],
   "source": [
    "all_angles = all_angles_H_central_neighbor(rel_coordinates, y)"
   ]
  },
  {
   "cell_type": "code",
   "execution_count": 168,
   "id": "0ee906b9-f285-46e0-97c1-ac65c7c58af0",
   "metadata": {},
   "outputs": [
    {
     "data": {
      "text/plain": [
       "108.93464949332729"
      ]
     },
     "execution_count": 168,
     "metadata": {},
     "output_type": "execute_result"
    }
   ],
   "source": [
    "# Laut Theorie müssten es bei H-C-C_3 genau 109,5 Grad sein, also passt\n",
    "np.average(all_angles)"
   ]
  },
  {
   "cell_type": "code",
   "execution_count": 159,
   "id": "f5f488ec-2797-4d53-8ade-02a0ddb41ace",
   "metadata": {},
   "outputs": [
    {
     "data": {
      "text/plain": [
       "(array([2.63548732e-05, 0.00000000e+00, 0.00000000e+00, 0.00000000e+00,\n",
       "        0.00000000e+00, 0.00000000e+00, 0.00000000e+00, 0.00000000e+00,\n",
       "        0.00000000e+00, 0.00000000e+00, 0.00000000e+00, 2.63548732e-05,\n",
       "        2.63548732e-05, 2.63548732e-05, 2.63548732e-05, 0.00000000e+00,\n",
       "        0.00000000e+00, 2.63548732e-05, 2.63548732e-05, 2.63548732e-05,\n",
       "        1.05419493e-04, 0.00000000e+00, 0.00000000e+00, 0.00000000e+00,\n",
       "        0.00000000e+00, 0.00000000e+00, 0.00000000e+00, 7.90646195e-05,\n",
       "        0.00000000e+00, 0.00000000e+00, 0.00000000e+00, 0.00000000e+00,\n",
       "        2.63548732e-05, 0.00000000e+00, 0.00000000e+00, 5.27097463e-05,\n",
       "        5.27097463e-05, 2.63548732e-05, 2.63548732e-05, 2.63548732e-05,\n",
       "        0.00000000e+00, 0.00000000e+00, 0.00000000e+00, 0.00000000e+00,\n",
       "        0.00000000e+00, 0.00000000e+00, 0.00000000e+00, 0.00000000e+00,\n",
       "        0.00000000e+00, 7.90646195e-05, 2.63548732e-05, 2.63548732e-05,\n",
       "        0.00000000e+00, 2.63548732e-05, 2.63548732e-05, 0.00000000e+00,\n",
       "        2.63548732e-05, 0.00000000e+00, 0.00000000e+00, 0.00000000e+00,\n",
       "        2.63548732e-05, 0.00000000e+00, 2.63548732e-05, 0.00000000e+00,\n",
       "        7.90646195e-05, 7.90646195e-05, 2.63548732e-05, 5.27097463e-05,\n",
       "        0.00000000e+00, 1.31774366e-04, 0.00000000e+00, 2.63548732e-05,\n",
       "        2.63548732e-05, 0.00000000e+00, 2.63548732e-05, 0.00000000e+00,\n",
       "        0.00000000e+00, 5.27097463e-05, 5.27097463e-05, 0.00000000e+00,\n",
       "        5.27097463e-05, 2.63548732e-05, 0.00000000e+00, 2.63548732e-05,\n",
       "        5.27097463e-05, 2.63548732e-05, 7.90646195e-05, 2.63548732e-05,\n",
       "        2.63548732e-05, 0.00000000e+00, 2.63548732e-05, 2.63548732e-05,\n",
       "        2.63548732e-05, 2.63548732e-05, 2.63548732e-05, 0.00000000e+00,\n",
       "        0.00000000e+00, 2.63548732e-05, 2.63548732e-05, 7.90646195e-05,\n",
       "        0.00000000e+00, 0.00000000e+00, 2.63548732e-05, 0.00000000e+00,\n",
       "        2.63548732e-05, 5.27097463e-05, 0.00000000e+00, 0.00000000e+00,\n",
       "        0.00000000e+00, 0.00000000e+00, 7.90646195e-05, 2.63548732e-05,\n",
       "        2.63548732e-05, 2.63548732e-05, 0.00000000e+00, 2.63548732e-05,\n",
       "        2.63548732e-05, 5.27097463e-05, 0.00000000e+00, 2.63548732e-05,\n",
       "        0.00000000e+00, 2.63548732e-05, 2.63548732e-05, 0.00000000e+00,\n",
       "        0.00000000e+00, 2.63548732e-05, 0.00000000e+00, 2.63548732e-05,\n",
       "        0.00000000e+00, 5.27097463e-05, 2.63548732e-05, 2.63548732e-05,\n",
       "        2.63548732e-05, 2.63548732e-05, 2.63548732e-05, 2.63548732e-05,\n",
       "        0.00000000e+00, 2.63548732e-05, 2.63548732e-05, 2.63548732e-05,\n",
       "        2.63548732e-05, 2.63548732e-05, 1.31774366e-04, 2.63548732e-05,\n",
       "        2.63548732e-05, 7.90646195e-05, 2.63548732e-05, 5.27097463e-05,\n",
       "        5.27097463e-05, 5.27097463e-05, 0.00000000e+00, 7.90646195e-05,\n",
       "        5.27097463e-05, 0.00000000e+00, 5.27097463e-05, 5.27097463e-05,\n",
       "        7.90646195e-05, 5.27097463e-05, 7.90646195e-05, 2.63548732e-05,\n",
       "        1.31774366e-04, 2.63548732e-05, 5.27097463e-05, 0.00000000e+00,\n",
       "        7.90646195e-05, 2.63548732e-05, 0.00000000e+00, 2.63548732e-05,\n",
       "        0.00000000e+00, 7.90646195e-05, 2.63548732e-05, 0.00000000e+00,\n",
       "        2.63548732e-05, 5.27097463e-05, 7.90646195e-05, 2.63548732e-05,\n",
       "        5.27097463e-05, 2.63548732e-05, 0.00000000e+00, 2.63548732e-05,\n",
       "        0.00000000e+00, 2.63548732e-05, 0.00000000e+00, 0.00000000e+00,\n",
       "        2.63548732e-05, 5.27097463e-05, 5.27097463e-05, 7.90646195e-05,\n",
       "        7.90646195e-05, 7.90646195e-05, 5.27097463e-05, 2.10838985e-04,\n",
       "        2.63548732e-05, 2.63548732e-05, 2.63548732e-05, 0.00000000e+00,\n",
       "        2.63548732e-05, 2.63548732e-05, 0.00000000e+00, 0.00000000e+00,\n",
       "        2.63548732e-05, 2.63548732e-05, 7.90646195e-05, 0.00000000e+00,\n",
       "        5.27097463e-05, 7.90646195e-05, 0.00000000e+00, 2.63548732e-05,\n",
       "        5.27097463e-05, 5.27097463e-05, 0.00000000e+00, 5.27097463e-05,\n",
       "        2.63548732e-05, 2.63548732e-05, 2.63548732e-05, 5.27097463e-05,\n",
       "        2.63548732e-05, 0.00000000e+00, 0.00000000e+00, 0.00000000e+00,\n",
       "        7.90646195e-05, 0.00000000e+00, 2.63548732e-05, 2.63548732e-05,\n",
       "        0.00000000e+00, 2.63548732e-05, 0.00000000e+00, 2.63548732e-05,\n",
       "        2.63548732e-05, 5.27097463e-05, 0.00000000e+00, 2.63548732e-05,\n",
       "        0.00000000e+00, 2.63548732e-05, 5.27097463e-05, 5.27097463e-05,\n",
       "        1.05419493e-04, 0.00000000e+00, 0.00000000e+00, 5.27097463e-05,\n",
       "        1.05419493e-04, 2.63548732e-05, 5.27097463e-05, 7.90646195e-05,\n",
       "        0.00000000e+00, 2.63548732e-05, 2.63548732e-05, 5.27097463e-05,\n",
       "        5.27097463e-05, 2.63548732e-05, 5.27097463e-05, 2.63548732e-05,\n",
       "        7.90646195e-05, 2.63548732e-05, 2.63548732e-05, 0.00000000e+00,\n",
       "        2.63548732e-05, 2.63548732e-05, 0.00000000e+00, 0.00000000e+00,\n",
       "        2.63548732e-05, 0.00000000e+00, 2.63548732e-05, 7.90646195e-05,\n",
       "        0.00000000e+00, 7.90646195e-05, 2.63548732e-05, 2.63548732e-05,\n",
       "        2.63548732e-05, 5.27097463e-05, 2.63548732e-05, 2.63548732e-05,\n",
       "        0.00000000e+00, 5.27097463e-05, 2.63548732e-05, 2.63548732e-05,\n",
       "        2.63548732e-05, 2.63548732e-05, 5.27097463e-05, 0.00000000e+00,\n",
       "        0.00000000e+00, 1.05419493e-04, 1.05419493e-04, 2.63548732e-05,\n",
       "        2.63548732e-05, 2.63548732e-05, 0.00000000e+00, 5.27097463e-05,\n",
       "        0.00000000e+00, 2.63548732e-05, 0.00000000e+00, 2.63548732e-05,\n",
       "        0.00000000e+00, 2.63548732e-05, 7.90646195e-05, 2.63548732e-05,\n",
       "        0.00000000e+00, 0.00000000e+00, 0.00000000e+00, 5.27097463e-05,\n",
       "        2.63548732e-05, 1.05419493e-04, 7.90646195e-05, 2.63548732e-05,\n",
       "        5.27097463e-05, 2.63548732e-05, 0.00000000e+00, 0.00000000e+00,\n",
       "        5.27097463e-05, 0.00000000e+00, 2.63548732e-05, 2.63548732e-05,\n",
       "        2.63548732e-05, 0.00000000e+00, 5.27097463e-05, 0.00000000e+00,\n",
       "        5.27097463e-05, 0.00000000e+00, 0.00000000e+00, 1.31774366e-04,\n",
       "        2.63548732e-05, 5.27097463e-05, 2.63548732e-05, 2.63548732e-05,\n",
       "        7.90646195e-05, 5.27097463e-05, 7.90646195e-05, 2.63548732e-05,\n",
       "        5.27097463e-05, 0.00000000e+00, 1.05419493e-04, 5.27097463e-05,\n",
       "        1.58129239e-04, 7.90646195e-05, 2.63548732e-05, 1.05419493e-04,\n",
       "        7.90646195e-05, 0.00000000e+00, 7.90646195e-05, 0.00000000e+00,\n",
       "        0.00000000e+00, 0.00000000e+00, 7.90646195e-05, 2.63548732e-05,\n",
       "        1.31774366e-04, 5.27097463e-05, 7.90646195e-05, 5.27097463e-05,\n",
       "        2.63548732e-05, 5.27097463e-05, 0.00000000e+00, 2.63548732e-05,\n",
       "        1.05419493e-04, 0.00000000e+00, 0.00000000e+00, 5.27097463e-05,\n",
       "        2.63548732e-05, 2.63548732e-05, 5.27097463e-05, 0.00000000e+00,\n",
       "        2.63548732e-05, 2.63548732e-05, 5.27097463e-05, 2.63548732e-05,\n",
       "        2.63548732e-05, 2.63548732e-05, 5.27097463e-05, 5.27097463e-05,\n",
       "        1.05419493e-04, 2.63548732e-05, 1.05419493e-04, 2.63548732e-05,\n",
       "        2.63548732e-05, 1.31774366e-04, 2.63548732e-05, 7.90646195e-05,\n",
       "        2.63548732e-05, 5.27097463e-05, 7.90646195e-05, 5.27097463e-05,\n",
       "        2.63548732e-05, 7.90646195e-05, 5.27097463e-05, 5.27097463e-05,\n",
       "        1.05419493e-04, 2.63548732e-05, 7.90646195e-05, 7.90646195e-05,\n",
       "        5.27097463e-05, 5.27097463e-05, 7.90646195e-05, 2.63548732e-05,\n",
       "        2.63548732e-05, 7.90646195e-05, 0.00000000e+00, 0.00000000e+00,\n",
       "        5.27097463e-05, 1.05419493e-04, 1.31774366e-04, 5.27097463e-05,\n",
       "        2.63548732e-05, 5.27097463e-05, 0.00000000e+00, 5.27097463e-05,\n",
       "        1.31774366e-04, 1.31774366e-04, 2.63548732e-05, 5.27097463e-05,\n",
       "        5.27097463e-05, 2.63548732e-05, 1.05419493e-04, 5.27097463e-05,\n",
       "        7.90646195e-05, 5.27097463e-05, 7.90646195e-05, 2.63548732e-05,\n",
       "        0.00000000e+00, 1.05419493e-04, 5.27097463e-05, 1.31774366e-04,\n",
       "        7.90646195e-05, 5.27097463e-05, 5.27097463e-05, 2.63548732e-05,\n",
       "        5.27097463e-05, 7.90646195e-05, 5.27097463e-05, 1.58129239e-04,\n",
       "        7.90646195e-05, 0.00000000e+00, 5.27097463e-05, 2.63548732e-05,\n",
       "        1.05419493e-04, 1.58129239e-04, 1.58129239e-04, 2.63548732e-05,\n",
       "        2.63548732e-05, 1.58129239e-04, 1.05419493e-04, 1.05419493e-04,\n",
       "        7.90646195e-05, 1.05419493e-04, 5.27097463e-05, 7.90646195e-05,\n",
       "        7.90646195e-05, 7.90646195e-05, 1.84484112e-04, 1.31774366e-04,\n",
       "        7.90646195e-05, 2.63548732e-05, 1.84484112e-04, 1.58129239e-04,\n",
       "        2.10838985e-04, 1.05419493e-04, 1.31774366e-04, 1.31774366e-04,\n",
       "        1.05419493e-04, 2.10838985e-04, 7.90646195e-05, 2.10838985e-04,\n",
       "        7.90646195e-05, 1.05419493e-04, 7.90646195e-05, 2.10838985e-04,\n",
       "        1.58129239e-04, 1.58129239e-04, 1.58129239e-04, 5.27097463e-05,\n",
       "        7.90646195e-05, 1.58129239e-04, 1.05419493e-04, 2.37193859e-04,\n",
       "        1.31774366e-04, 1.84484112e-04, 1.31774366e-04, 1.58129239e-04,\n",
       "        2.10838985e-04, 2.10838985e-04, 1.58129239e-04, 1.05419493e-04,\n",
       "        7.90646195e-05, 1.05419493e-04, 1.84484112e-04, 2.10838985e-04,\n",
       "        3.42613351e-04, 2.63548732e-04, 1.58129239e-04, 1.31774366e-04,\n",
       "        1.84484112e-04, 2.63548732e-04, 2.10838985e-04, 3.42613351e-04,\n",
       "        1.31774366e-04, 3.68968224e-04, 1.84484112e-04, 3.16258478e-04,\n",
       "        2.89903605e-04, 2.63548732e-04, 5.27097463e-04, 4.69116743e-03,\n",
       "        3.55790788e-03, 2.58277757e-03, 2.34558371e-03, 1.97661549e-03,\n",
       "        1.31774366e-03, 1.18596929e-03, 1.31774366e-03, 6.58871829e-04,\n",
       "        1.23867904e-03, 1.00148518e-03, 9.48775434e-04, 1.00148518e-03,\n",
       "        9.75130307e-04, 1.00148518e-03, 7.64291322e-04, 1.00148518e-03,\n",
       "        1.15961442e-03, 8.17001068e-04, 1.21232417e-03, 1.02784005e-03,\n",
       "        1.02784005e-03, 1.05419493e-03, 1.05419493e-03, 1.37045341e-03,\n",
       "        1.50222777e-03, 1.29138879e-03, 9.48775434e-04, 1.23867904e-03,\n",
       "        1.15961442e-03, 1.21232417e-03, 1.50222777e-03, 1.79213138e-03,\n",
       "        1.71306676e-03, 1.87119600e-03, 1.92390574e-03, 1.92390574e-03,\n",
       "        1.71306676e-03, 1.84484112e-03, 2.02932523e-03, 1.71306676e-03,\n",
       "        2.66184219e-03, 2.00297036e-03, 1.84484112e-03, 1.87119600e-03,\n",
       "        2.47735808e-03, 3.32071402e-03, 2.39829346e-03, 2.92539092e-03,\n",
       "        2.53006782e-03, 2.76726168e-03, 3.53155301e-03, 3.32071402e-03,\n",
       "        2.92539092e-03, 3.18893965e-03, 3.74239199e-03, 3.79510174e-03,\n",
       "        4.90200641e-03, 4.08500534e-03, 4.11136022e-03, 4.61210281e-03,\n",
       "        5.11284540e-03, 6.16704032e-03, 6.16704032e-03, 5.82442697e-03,\n",
       "        6.45694393e-03, 6.69413779e-03, 7.45842911e-03, 7.82739733e-03,\n",
       "        8.88159226e-03, 9.43504460e-03, 1.06210139e-02, 1.19914673e-02,\n",
       "        1.12535308e-02, 1.22550160e-02, 1.40735023e-02, 1.44161156e-02,\n",
       "        1.54439557e-02, 1.71043127e-02, 1.89755087e-02, 2.01878329e-02,\n",
       "        2.19536094e-02, 2.44309674e-02, 2.83578435e-02, 2.89903605e-02,\n",
       "        3.47884326e-02, 3.47620777e-02, 4.13244411e-02, 4.77813851e-02,\n",
       "        4.99688395e-02, 5.61885896e-02, 6.32780505e-02, 7.09209637e-02,\n",
       "        7.83530379e-02, 8.75508887e-02, 1.00201228e-01, 1.09240949e-01,\n",
       "        1.21311481e-01, 1.37651503e-01, 1.55045719e-01, 1.66510089e-01,\n",
       "        1.77710910e-01, 1.96053902e-01, 2.00323391e-01, 2.06279592e-01,\n",
       "        2.04540171e-01, 2.00745069e-01, 1.94498964e-01, 1.96185676e-01,\n",
       "        1.76366811e-01, 1.62873116e-01, 1.54834880e-01, 1.35912081e-01,\n",
       "        1.28269168e-01, 1.14063891e-01, 1.03706426e-01, 9.13459904e-02,\n",
       "        8.40984003e-02, 7.20542233e-02, 6.44376649e-02, 5.86923026e-02,\n",
       "        5.38166510e-02, 4.87301605e-02, 4.55939306e-02, 4.10081827e-02,\n",
       "        3.75029845e-02, 3.31544305e-02, 3.18893965e-02, 2.92011995e-02,\n",
       "        2.65130024e-02, 2.60649696e-02, 2.26651909e-02, 2.14265119e-02,\n",
       "        2.13738021e-02, 1.95289610e-02, 1.86592502e-02, 1.80003784e-02,\n",
       "        1.70779578e-02, 1.59710531e-02, 1.53648911e-02, 1.36781792e-02,\n",
       "        1.43897608e-02, 1.42052766e-02, 1.37308889e-02, 1.48114387e-02,\n",
       "        1.32565012e-02, 1.27821135e-02, 1.18333381e-02, 1.01466262e-02,\n",
       "        8.27543018e-03, 8.45991429e-03, 7.53749373e-03, 7.53749373e-03,\n",
       "        6.45694393e-03, 6.27245982e-03, 6.14068545e-03, 5.42910387e-03,\n",
       "        5.16555514e-03, 4.21677971e-03, 4.40126382e-03, 3.84781148e-03,\n",
       "        4.21677971e-03, 3.87416636e-03, 3.18893965e-03, 3.39977864e-03,\n",
       "        2.55642270e-03, 2.16109960e-03, 2.37193859e-03, 2.34558371e-03,\n",
       "        2.34558371e-03, 1.84484112e-03, 1.71306676e-03, 1.50222777e-03,\n",
       "        1.05419493e-03, 1.34409853e-03, 8.96065688e-04, 1.08054980e-03,\n",
       "        8.17001068e-04, 8.43355942e-04, 8.96065688e-04, 7.64291322e-04,\n",
       "        6.32516956e-04, 5.00742590e-04, 3.95323098e-04, 6.06162083e-04,\n",
       "        5.27097463e-04, 6.06162083e-04, 5.00742590e-04, 4.21677971e-04,\n",
       "        2.37193859e-04, 4.74387717e-04, 3.42613351e-04, 2.89903605e-04,\n",
       "        2.10838985e-04, 4.74387717e-04, 3.95323098e-04, 3.42613351e-04,\n",
       "        4.48032844e-04, 1.84484112e-04, 3.16258478e-04, 3.16258478e-04,\n",
       "        2.89903605e-04, 4.48032844e-04, 3.16258478e-04, 1.31774366e-04,\n",
       "        2.89903605e-04, 1.58129239e-04, 4.74387717e-04, 3.95323098e-04,\n",
       "        1.84484112e-04, 2.63548732e-04, 1.31774366e-04, 1.84484112e-04,\n",
       "        2.89903605e-04, 1.84484112e-04, 2.10838985e-04, 2.37193859e-04,\n",
       "        7.90646195e-05, 2.10838985e-04, 1.84484112e-04, 1.58129239e-04,\n",
       "        2.37193859e-04, 7.90646195e-05, 3.16258478e-04, 5.27097463e-05,\n",
       "        3.42613351e-04, 2.89903605e-04, 2.10838985e-04, 1.05419493e-04,\n",
       "        1.31774366e-04, 7.90646195e-05, 2.10838985e-04, 1.05419493e-04,\n",
       "        2.63548732e-04, 5.27097463e-05, 3.16258478e-04, 2.10838985e-04,\n",
       "        1.58129239e-04, 3.68968224e-04, 3.42613351e-04, 3.95323098e-04,\n",
       "        2.37193859e-04, 3.95323098e-04, 5.00742590e-04, 3.95323098e-04,\n",
       "        5.00742590e-04, 2.63548732e-04, 4.48032844e-04, 5.27097463e-04,\n",
       "        5.27097463e-04, 9.48775434e-04, 8.17001068e-04, 9.22420561e-04,\n",
       "        4.48032844e-04, 5.79807210e-04, 5.53452337e-04, 6.32516956e-04,\n",
       "        3.16258478e-04, 3.68968224e-04, 2.63548732e-04, 3.68968224e-04,\n",
       "        3.16258478e-04, 3.42613351e-04, 3.95323098e-04, 2.89903605e-04,\n",
       "        1.58129239e-04, 1.58129239e-04, 2.63548732e-04, 2.37193859e-04,\n",
       "        1.05419493e-04, 1.05419493e-04, 2.89903605e-04, 1.31774366e-04,\n",
       "        1.05419493e-04, 2.37193859e-04, 1.31774366e-04, 1.58129239e-04,\n",
       "        1.05419493e-04, 1.84484112e-04, 1.05419493e-04, 1.05419493e-04,\n",
       "        1.05419493e-04, 7.90646195e-05, 1.31774366e-04, 2.63548732e-04,\n",
       "        5.27097463e-05, 5.27097463e-05, 1.05419493e-04, 7.90646195e-05,\n",
       "        7.90646195e-05, 5.27097463e-05, 2.63548732e-05, 7.90646195e-05,\n",
       "        5.27097463e-05, 2.63548732e-05, 7.90646195e-05, 1.31774366e-04,\n",
       "        0.00000000e+00, 7.90646195e-05, 5.27097463e-05, 5.27097463e-05,\n",
       "        2.63548732e-05, 1.05419493e-04, 2.63548732e-05, 1.05419493e-04,\n",
       "        2.63548732e-05, 7.90646195e-05, 5.27097463e-05, 5.27097463e-05,\n",
       "        2.63548732e-05, 5.27097463e-05, 7.90646195e-05, 7.90646195e-05,\n",
       "        2.63548732e-05, 5.27097463e-05, 1.31774366e-04, 5.27097463e-05,\n",
       "        2.63548732e-05, 2.63548732e-05, 2.63548732e-05, 0.00000000e+00,\n",
       "        1.05419493e-04, 2.63548732e-05, 1.05419493e-04, 7.90646195e-05,\n",
       "        0.00000000e+00, 5.27097463e-05, 1.05419493e-04, 2.63548732e-05,\n",
       "        5.27097463e-05, 1.31774366e-04, 2.63548732e-05, 5.27097463e-05,\n",
       "        0.00000000e+00, 0.00000000e+00, 2.63548732e-05, 2.63548732e-05,\n",
       "        0.00000000e+00, 2.63548732e-05, 0.00000000e+00, 5.27097463e-05,\n",
       "        0.00000000e+00, 1.05419493e-04, 2.63548732e-05, 1.05419493e-04,\n",
       "        1.05419493e-04, 5.27097463e-05, 0.00000000e+00, 0.00000000e+00,\n",
       "        2.63548732e-05, 0.00000000e+00, 5.27097463e-05, 7.90646195e-05,\n",
       "        7.90646195e-05, 5.27097463e-05, 7.90646195e-05, 7.90646195e-05,\n",
       "        7.90646195e-05, 7.90646195e-05, 0.00000000e+00, 2.63548732e-05,\n",
       "        5.27097463e-05, 5.27097463e-05, 0.00000000e+00, 7.90646195e-05,\n",
       "        1.31774366e-04, 5.27097463e-05, 7.90646195e-05, 2.63548732e-05,\n",
       "        7.90646195e-05, 5.27097463e-05, 1.05419493e-04, 1.05419493e-04,\n",
       "        0.00000000e+00, 2.63548732e-05, 5.27097463e-05, 0.00000000e+00,\n",
       "        0.00000000e+00, 2.63548732e-05, 2.63548732e-05, 7.90646195e-05,\n",
       "        2.63548732e-05, 0.00000000e+00, 2.63548732e-05, 5.27097463e-05,\n",
       "        2.63548732e-05, 2.63548732e-05, 0.00000000e+00, 5.27097463e-05,\n",
       "        2.63548732e-05, 2.63548732e-05, 5.27097463e-05, 0.00000000e+00,\n",
       "        2.63548732e-05, 2.63548732e-05, 2.63548732e-05, 2.63548732e-05,\n",
       "        5.27097463e-05, 0.00000000e+00, 2.63548732e-05, 2.63548732e-05,\n",
       "        2.63548732e-05, 2.63548732e-05, 0.00000000e+00, 7.90646195e-05,\n",
       "        5.27097463e-05, 5.27097463e-05, 2.63548732e-05, 2.63548732e-05,\n",
       "        2.63548732e-05, 2.63548732e-05, 2.63548732e-05, 2.63548732e-05,\n",
       "        2.63548732e-05, 2.63548732e-05, 2.63548732e-05, 0.00000000e+00,\n",
       "        2.63548732e-05, 0.00000000e+00, 0.00000000e+00, 2.63548732e-05,\n",
       "        0.00000000e+00, 0.00000000e+00, 2.63548732e-05, 0.00000000e+00,\n",
       "        0.00000000e+00, 2.63548732e-05, 7.90646195e-05, 0.00000000e+00,\n",
       "        5.27097463e-05, 2.63548732e-05, 0.00000000e+00, 0.00000000e+00,\n",
       "        5.27097463e-05, 2.63548732e-05, 7.90646195e-05, 2.63548732e-05,\n",
       "        0.00000000e+00, 5.27097463e-05, 2.63548732e-05, 0.00000000e+00,\n",
       "        0.00000000e+00, 2.63548732e-05, 0.00000000e+00, 0.00000000e+00,\n",
       "        0.00000000e+00, 2.63548732e-05, 0.00000000e+00, 2.63548732e-05,\n",
       "        2.63548732e-05, 2.63548732e-05, 2.63548732e-05, 0.00000000e+00,\n",
       "        5.27097463e-05, 5.27097463e-05, 0.00000000e+00, 2.63548732e-05,\n",
       "        2.63548732e-05, 0.00000000e+00, 2.63548732e-05, 0.00000000e+00,\n",
       "        0.00000000e+00, 0.00000000e+00, 2.63548732e-05, 0.00000000e+00,\n",
       "        0.00000000e+00, 0.00000000e+00, 2.63548732e-05, 2.63548732e-05,\n",
       "        5.27097463e-05, 0.00000000e+00, 5.27097463e-05, 0.00000000e+00,\n",
       "        2.63548732e-05, 0.00000000e+00, 0.00000000e+00, 0.00000000e+00,\n",
       "        2.63548732e-05, 2.63548732e-05, 2.63548732e-05, 0.00000000e+00,\n",
       "        2.63548732e-05, 0.00000000e+00, 0.00000000e+00, 0.00000000e+00,\n",
       "        0.00000000e+00, 0.00000000e+00, 2.63548732e-05, 0.00000000e+00,\n",
       "        0.00000000e+00, 0.00000000e+00, 0.00000000e+00, 0.00000000e+00,\n",
       "        0.00000000e+00, 2.63548732e-05, 0.00000000e+00, 2.63548732e-05,\n",
       "        0.00000000e+00, 0.00000000e+00, 0.00000000e+00, 1.84484112e-04]),\n",
       " array([  0.241   ,   0.420757,   0.600514, ..., 179.638486, 179.818243,\n",
       "        179.998   ]),\n",
       " <BarContainer object of 1000 artists>)"
      ]
     },
     "execution_count": 159,
     "metadata": {},
     "output_type": "execute_result"
    },
    {
     "data": {
      "image/png": "[encoded data removed]",
      "text/plain": [
       "<Figure size 640x480 with 1 Axes>"
      ]
     },
     "metadata": {},
     "output_type": "display_data"
    }
   ],
   "source": [
    "# Create a histogram of the data\n",
    "plt.hist(all_angles, bins=1000, density=True, alpha=0.6, color='g')"
   ]
  },
  {
   "cell_type": "markdown",
   "id": "8d3ba517-aba7-460b-ab09-e7697bb97c3d",
   "metadata": {},
   "source": [
    "### single gaussian fit"
   ]
  },
  {
   "cell_type": "code",
   "execution_count": 161,
   "id": "7c6c12f2-942e-474a-8ae4-093171d5ee2d",
   "metadata": {},
   "outputs": [
    {
     "data": {
      "image/png": "[encoded data removed]",
      "text/plain": [
       "<Figure size 640x480 with 1 Axes>"
      ]
     },
     "metadata": {},
     "output_type": "display_data"
    }
   ],
   "source": [
    "import numpy as np\n",
    "import matplotlib.pyplot as plt\n",
    "from scipy.stats import norm\n",
    "\n",
    "# Calculate mean and standard deviation\n",
    "mu, std = np.mean(all_angles), np.std(all_angles)\n",
    "\n",
    "# Generate the Gaussian fit over a suitable range\n",
    "x = np.linspace(mu - 3*std, mu + 3*std, 100)\n",
    "p = norm.pdf(x, mu, std)\n",
    "\n",
    "# Plot the Gaussian fit\n",
    "plt.plot(x, p, 'k', linewidth=2)\n",
    "title = \"Fit results: mu = %.2f,  std = %.2f\" % (mu, std)\n",
    "plt.title(title)\n",
    "\n",
    "plt.show()"
   ]
  },
  {
   "cell_type": "markdown",
   "id": "6cc21968-2c3d-4a6f-a58b-84c4b772b901",
   "metadata": {},
   "source": [
    "### mixture gaussian fit"
   ]
  },
  {
   "cell_type": "code",
   "execution_count": 151,
   "id": "6861a24c-8e40-4575-9006-fe92416abeb8",
   "metadata": {},
   "outputs": [
    {
     "data": {
      "text/plain": [
       "108.93464949332729"
      ]
     },
     "execution_count": 151,
     "metadata": {},
     "output_type": "execute_result"
    }
   ],
   "source": [
    "all_angles"
   ]
  },
  {
   "cell_type": "code",
   "execution_count": 170,
   "id": "dbb191e3-0865-4054-bd6c-7375bc147b9b",
   "metadata": {},
   "outputs": [],
   "source": [
    "import numpy as np\n",
    "import matplotlib.pyplot as plt\n",
    "from scipy.stats import norm\n",
    "from sklearn.mixture import GaussianMixture\n",
    "\n",
    "def fit_gaussian(data, n_components=1):\n",
    "    data = data.reshape(-1, 1)  # Reshape for sklearn\n",
    "    if n_components == 1:\n",
    "        # Fit a single Gaussian\n",
    "        mu, std = np.mean(data), np.std(data)\n",
    "        return mu, std\n",
    "    else:\n",
    "        # Fit a Gaussian Mixture Model\n",
    "        gmm = GaussianMixture(n_components=n_components, random_state=0).fit(data)\n",
    "        # Extract means and variances\n",
    "        means = gmm.means_.flatten()\n",
    "        variances = gmm.covariances_.flatten()\n",
    "        return gmm, means, variances\n",
    "\n",
    "def plot_fit(data, n_components=1):\n",
    "    plt.hist(data, bins=30, density=True, alpha=0.6, color='g')\n",
    "    xmin, xmax = plt.xlim()\n",
    "    x = np.linspace(xmin, xmax, 1000).reshape(-1, 1)\n",
    "    \n",
    "    if n_components == 1:\n",
    "        mu, std = fit_gaussian(data, n_components)\n",
    "        p = norm.pdf(x, mu, std)\n",
    "        plt.plot(x, p, 'k', linewidth=2)\n",
    "        plt.title(f'Single Gaussian Fit: mu = {mu:.2f}, std = {std:.2f}')\n",
    "    else:\n",
    "        gmm, means, variances = fit_gaussian(data, n_components)\n",
    "        logprob = gmm.score_samples(x)\n",
    "        pdf = np.exp(logprob)\n",
    "        plt.plot(x, pdf, 'k', linewidth=2)\n",
    "        plt.title(f'Gaussian Mixture Model with {n_components} components')\n",
    "        for mean, var in zip(means, variances):\n",
    "            std = np.sqrt(var)\n",
    "            p = norm.pdf(x, mean, std)\n",
    "            plt.plot(x, p, '--', linewidth=2)\n",
    "            plt.text(mean, norm.pdf(mean, mean, std), f'mu={mean:.2f}, std={std:.2f}', \n",
    "                     horizontalalignment='center')\n",
    "\n",
    "    plt.show()"
   ]
  },
  {
   "cell_type": "code",
   "execution_count": 171,
   "id": "8cf6a035-4539-46aa-b6fe-b570e0c7e56c",
   "metadata": {},
   "outputs": [
    {
     "name": "stderr",
     "output_type": "stream",
     "text": [
      "C:\\Users\\Hasan\\anaconda3\\envs\\hydrogen\\Lib\\site-packages\\sklearn\\cluster\\_kmeans.py:1382: UserWarning: KMeans is known to have a memory leak on Windows with MKL, when there are less chunks than available threads. You can avoid it by setting the environment variable OMP_NUM_THREADS=3.\n",
      "  warnings.warn(\n"
     ]
    },
    {
     "data": {
      "image/png": "[encoded data removed]",
      "text/plain": [
       "<Figure size 640x480 with 1 Axes>"
      ]
     },
     "metadata": {},
     "output_type": "display_data"
    }
   ],
   "source": [
    "# Sample data\n",
    "data = np.concatenate([np.random.normal(-2, 1, 300), np.random.normal(3, 0.5, 300)])\n",
    "plot_fit(data, n_components=2)"
   ]
  },
  {
   "cell_type": "code",
   "execution_count": 172,
   "id": "787c0293-2fe1-4039-85dc-18273081b559",
   "metadata": {},
   "outputs": [
    {
     "data": {
      "image/png": "[encoded data removed]",
      "text/plain": [
       "<Figure size 640x480 with 1 Axes>"
      ]
     },
     "metadata": {},
     "output_type": "display_data"
    }
   ],
   "source": [
    "plot_fit(all_angles, n_components=2)"
   ]
  },
  {
   "cell_type": "markdown",
   "id": "dd981c05-d542-4fe8-a58c-7b5e435e6c5f",
   "metadata": {},
   "source": [
    "## Wie ist die Prediction?"
   ]
  },
  {
   "cell_type": "code",
   "execution_count": 209,
   "id": "eac9178a-dea9-4023-8081-cb78a43fc232",
   "metadata": {},
   "outputs": [],
   "source": [
    "with open(\"../data/centralatom-C_numhydrogens-1_numneighbors-3_depth-1/dataset.pkl\", 'rb') as file: # no_descriptor_approach_sorted_and_descriptor.pkl\n",
    "    data = pickle.load(file)"
   ]
  },
  {
   "cell_type": "code",
   "execution_count": 210,
   "id": "64a7228d-4136-43ba-8cee-f59135ff6d7e",
   "metadata": {},
   "outputs": [],
   "source": [
    "X, y, rel_coordinates = data"
   ]
  },
  {
   "cell_type": "code",
   "execution_count": 211,
   "id": "049bc489-9c28-43b4-a4be-c4c72d2a1c88",
   "metadata": {},
   "outputs": [],
   "source": [
    "X_train, X_test, y_train, y_test, rel_coordinates_train, rel_coordinates_test = train_test_split(\n",
    "    X, y, rel_coordinates, test_size=0.2, random_state=42\n",
    ")"
   ]
  },
  {
   "cell_type": "code",
   "execution_count": 212,
   "id": "b80483b1-89da-461f-ab41-3e988c8215dd",
   "metadata": {},
   "outputs": [],
   "source": [
    "X_train, X_test, y_train, y_test, rel_coordinates_train, rel_coordinates_test = train_test_split(\n",
    "    X_train, y_train, rel_coordinates_train, test_size=0.2, random_state=42\n",
    ")"
   ]
  },
  {
   "cell_type": "code",
   "execution_count": 196,
   "id": "80420550-4db2-47e4-ade2-749b116b7b51",
   "metadata": {},
   "outputs": [],
   "source": [
    "all_angles_pred = all_angles_H_central_neighbor(rel_coordinates_test, y_pred_cat)"
   ]
  },
  {
   "cell_type": "code",
   "execution_count": 197,
   "id": "2d991532-97f9-4ae2-b145-e931a73619b1",
   "metadata": {},
   "outputs": [
    {
     "data": {
      "image/png": "[encoded data removed]",
      "text/plain": [
       "<Figure size 640x480 with 1 Axes>"
      ]
     },
     "metadata": {},
     "output_type": "display_data"
    }
   ],
   "source": [
    "import numpy as np\n",
    "import matplotlib.pyplot as plt\n",
    "from scipy.stats import norm\n",
    "\n",
    "# Calculate mean and standard deviation\n",
    "mu, std = np.mean(all_angles_pred), np.std(all_angles_pred)\n",
    "\n",
    "# Generate the Gaussian fit over a suitable range\n",
    "x = np.linspace(mu - 3*std, mu + 3*std, 100)\n",
    "p = norm.pdf(x, mu, std)\n",
    "\n",
    "# Plot the Gaussian fit\n",
    "plt.plot(x, p, 'k', linewidth=2)\n",
    "title = \"Fit results: mu = %.2f,  std = %.2f\" % (mu, std)\n",
    "plt.title(title)\n",
    "\n",
    "plt.show()"
   ]
  },
  {
   "cell_type": "markdown",
   "id": "61e116ea-0476-4f95-9617-80a45c30c581",
   "metadata": {},
   "source": [
    "- Prediction ist gut, da ähnlicher Mean value (sogar näher am theoretisch richtigen Winkel von 109,5)\n",
    "- Prediction ist andererseits bisschen schlecht, da stärkere Varianz als im Training"
   ]
  },
  {
   "cell_type": "markdown",
   "id": "a7872d73-c79c-4ad5-99d8-5d171ee82cd7",
   "metadata": {},
   "source": [
    "### wasserstein distance\n",
    "- das ist gutes Ergebnis, weil im Schnitt muss man also den Winkel nur um 1 Grad verschieben für richtige Prediction"
   ]
  },
  {
   "cell_type": "code",
   "execution_count": 244,
   "id": "8363413c-0976-47e0-aedf-df0c6d894bcb",
   "metadata": {},
   "outputs": [
    {
     "data": {
      "text/plain": [
       "1.0496652018175632"
      ]
     },
     "execution_count": 244,
     "metadata": {},
     "output_type": "execute_result"
    }
   ],
   "source": [
    "from scipy.stats import wasserstein_distance\n",
    "\n",
    "# Wasserstein Distanz zwischen zwei Winkelverteilungen\n",
    "wasserstein_distance(all_angles, all_angles_pred)"
   ]
  },
  {
   "cell_type": "markdown",
   "id": "4176a7e0-52f1-4f71-8a83-6dd97fb7ca58",
   "metadata": {},
   "source": [
    "## Dihedral Winkel"
   ]
  },
  {
   "cell_type": "code",
   "execution_count": 232,
   "id": "ccc75e6c-95bf-4956-abf4-e71e77d1a1f7",
   "metadata": {},
   "outputs": [],
   "source": [
    "import itertools\n",
    "\n",
    "def compute_dihedral(p0, p1, p2, p3):\n",
    "    \"\"\"Calculate the dihedral angle between four points.\"\"\"\n",
    "    # Cast inputs to numpy arrays\n",
    "    p0 = np.asarray(p0)\n",
    "    p1 = np.asarray(p1)\n",
    "    p2 = np.asarray(p2)\n",
    "    p3 = np.asarray(p3)\n",
    "    \n",
    "    b0 = -1.0 * (p1 - p0)\n",
    "    b1 = p2 - p1\n",
    "    b2 = p3 - p2\n",
    "\n",
    "    b0xb1 = np.cross(b0, b1)\n",
    "    b1xb2 = np.cross(b1, b2)\n",
    "\n",
    "    b0xb1_x_b1xb2 = np.cross(b0xb1, b1xb2)\n",
    "\n",
    "    y = np.dot(b0xb1_x_b1xb2, b1) * (1.0 / np.linalg.norm(b1))\n",
    "    x = np.dot(b0xb1, b1xb2)\n",
    "\n",
    "    return abs(np.degrees(np.arctan2(y, x)))\n",
    "\n",
    "def all_dihedral_angles(coordinates):\n",
    "    \"\"\"Compute all possible dihedral angles for a list of coordinates.\"\"\"\n",
    "    num_atoms = len(coordinates)\n",
    "    angles = []\n",
    "    for fixed_pair in itertools.combinations(range(num_atoms), 2):\n",
    "        remaining_indices = set(range(num_atoms)) - set(fixed_pair)\n",
    "        for p2, p3 in itertools.permutations(remaining_indices, 2):\n",
    "            p0, p1 = fixed_pair\n",
    "            angle = compute_dihedral(coordinates[p0], coordinates[p1], coordinates[p2], coordinates[p3])\n",
    "            angles.append(((p0, p1, p2, p3), angle))\n",
    "    return angles"
   ]
  },
  {
   "cell_type": "code",
   "execution_count": 233,
   "id": "a0e95df6-f60b-4f1b-93ce-5c13f0b5fa14",
   "metadata": {},
   "outputs": [],
   "source": [
    "# merge x and y coordinates\n",
    "all_coordinates = []\n",
    "for cur_x, cur_y in zip(rel_coordinates, y):\n",
    "    all_coordinates.append(cur_x + [cur_y] + [[0,0,0]]) # [0,0,0] central atom relative coordinates"
   ]
  },
  {
   "cell_type": "markdown",
   "id": "7eeb6d51-0afc-4c86-848a-270a74d87769",
   "metadata": {},
   "source": [
    "### first two points are the fixed points, Ebene 1 sind Punkte 1,2,3, Ebene 2 sind die Punkte 1,2,4"
   ]
  },
  {
   "cell_type": "code",
   "execution_count": 236,
   "id": "fafea2ea-3dfb-4670-8fad-c34da752c5a6",
   "metadata": {},
   "outputs": [
    {
     "name": "stdout",
     "output_type": "stream",
     "text": [
      "Dihedral Angle between points (0, 1, 2, 3): 114.99 degrees\n",
      "Dihedral Angle between points (0, 1, 2, 4): 146.39 degrees\n",
      "Dihedral Angle between points (0, 1, 3, 2): 102.68 degrees\n",
      "Dihedral Angle between points (0, 1, 3, 4): 141.09 degrees\n",
      "Dihedral Angle between points (0, 1, 4, 2): 56.76 degrees\n",
      "Dihedral Angle between points (0, 1, 4, 3): 61.85 degrees\n",
      "Dihedral Angle between points (0, 2, 1, 3): 114.99 degrees\n",
      "Dihedral Angle between points (0, 2, 1, 4): 146.39 degrees\n",
      "Dihedral Angle between points (0, 2, 3, 1): 104.46 degrees\n",
      "Dihedral Angle between points (0, 2, 3, 4): 142.02 degrees\n",
      "Dihedral Angle between points (0, 2, 4, 1): 58.04 degrees\n",
      "Dihedral Angle between points (0, 2, 4, 3): 61.99 degrees\n",
      "Dihedral Angle between points (0, 3, 1, 2): 102.68 degrees\n",
      "Dihedral Angle between points (0, 3, 1, 4): 141.09 degrees\n",
      "Dihedral Angle between points (0, 3, 2, 1): 104.46 degrees\n",
      "Dihedral Angle between points (0, 3, 2, 4): 142.02 degrees\n",
      "Dihedral Angle between points (0, 3, 4, 1): 60.27 degrees\n",
      "Dihedral Angle between points (0, 3, 4, 2): 59.00 degrees\n",
      "Dihedral Angle between points (0, 4, 1, 2): 56.76 degrees\n",
      "Dihedral Angle between points (0, 4, 1, 3): 61.85 degrees\n",
      "Dihedral Angle between points (0, 4, 2, 1): 58.04 degrees\n",
      "Dihedral Angle between points (0, 4, 2, 3): 61.99 degrees\n",
      "Dihedral Angle between points (0, 4, 3, 1): 60.27 degrees\n",
      "Dihedral Angle between points (0, 4, 3, 2): 59.00 degrees\n",
      "Dihedral Angle between points (1, 2, 0, 3): 112.39 degrees\n",
      "Dihedral Angle between points (1, 2, 0, 4): 145.22 degrees\n",
      "Dihedral Angle between points (1, 2, 3, 0): 104.46 degrees\n",
      "Dihedral Angle between points (1, 2, 3, 4): 142.43 degrees\n",
      "Dihedral Angle between points (1, 2, 4, 0): 58.04 degrees\n",
      "Dihedral Angle between points (1, 2, 4, 3): 59.97 degrees\n",
      "Dihedral Angle between points (1, 3, 0, 2): 105.96 degrees\n",
      "Dihedral Angle between points (1, 3, 0, 4): 142.95 degrees\n",
      "Dihedral Angle between points (1, 3, 2, 0): 104.46 degrees\n",
      "Dihedral Angle between points (1, 3, 2, 4): 142.43 degrees\n",
      "Dihedral Angle between points (1, 3, 4, 0): 60.27 degrees\n",
      "Dihedral Angle between points (1, 3, 4, 2): 60.74 degrees\n",
      "Dihedral Angle between points (1, 4, 0, 2): 58.48 degrees\n",
      "Dihedral Angle between points (1, 4, 0, 3): 59.98 degrees\n",
      "Dihedral Angle between points (1, 4, 2, 0): 58.04 degrees\n",
      "Dihedral Angle between points (1, 4, 2, 3): 59.97 degrees\n",
      "Dihedral Angle between points (1, 4, 3, 0): 60.27 degrees\n",
      "Dihedral Angle between points (1, 4, 3, 2): 60.74 degrees\n",
      "Dihedral Angle between points (2, 3, 0, 1): 105.96 degrees\n",
      "Dihedral Angle between points (2, 3, 0, 4): 143.01 degrees\n",
      "Dihedral Angle between points (2, 3, 1, 0): 102.68 degrees\n",
      "Dihedral Angle between points (2, 3, 1, 4): 141.59 degrees\n",
      "Dihedral Angle between points (2, 3, 4, 0): 59.00 degrees\n",
      "Dihedral Angle between points (2, 3, 4, 1): 60.74 degrees\n",
      "Dihedral Angle between points (2, 4, 0, 1): 58.48 degrees\n",
      "Dihedral Angle between points (2, 4, 0, 3): 61.54 degrees\n",
      "Dihedral Angle between points (2, 4, 1, 0): 56.76 degrees\n",
      "Dihedral Angle between points (2, 4, 1, 3): 61.39 degrees\n",
      "Dihedral Angle between points (2, 4, 3, 0): 59.00 degrees\n",
      "Dihedral Angle between points (2, 4, 3, 1): 60.74 degrees\n",
      "Dihedral Angle between points (3, 4, 0, 1): 59.98 degrees\n",
      "Dihedral Angle between points (3, 4, 0, 2): 61.54 degrees\n",
      "Dihedral Angle between points (3, 4, 1, 0): 61.85 degrees\n",
      "Dihedral Angle between points (3, 4, 1, 2): 61.39 degrees\n",
      "Dihedral Angle between points (3, 4, 2, 0): 61.99 degrees\n",
      "Dihedral Angle between points (3, 4, 2, 1): 59.97 degrees\n"
     ]
    }
   ],
   "source": [
    "dihedral_angles = all_dihedral_angles(all_coordinates[0])\n",
    "for angle_info in dihedral_angles:\n",
    "    indices, angle = angle_info\n",
    "    print(f\"Dihedral Angle between points {indices}: {angle:.2f} degrees\")"
   ]
  },
  {
   "cell_type": "code",
   "execution_count": 243,
   "id": "ad9684af-9c45-4067-8fc4-6aac6e4c2d6b",
   "metadata": {},
   "outputs": [
    {
     "name": "stderr",
     "output_type": "stream",
     "text": [
      "100%|██████████████████████████████████████| 70361/70361 [05:44<00:00, 203.98it/s]\n"
     ]
    }
   ],
   "source": [
    "from tqdm import tqdm\n",
    "\n",
    "dihedral_angles = [all_dihedral_angles(coords)[-1] for coords in tqdm(all_coordinates)]"
   ]
  },
  {
   "cell_type": "code",
   "execution_count": 245,
   "id": "009222b8-4251-4f9e-b3a1-f4cfa2fe0e42",
   "metadata": {},
   "outputs": [
    {
     "data": {
      "text/plain": [
       "[((3, 4, 2, 1), 59.97111107613615),\n",
       " ((3, 4, 2, 1), 61.7437081163752),\n",
       " ((3, 4, 2, 1), 62.51778640599473),\n",
       " ((3, 4, 2, 1), 60.534318429807286),\n",
       " ((3, 4, 2, 1), 60.71164229572551)]"
      ]
     },
     "execution_count": 245,
     "metadata": {},
     "output_type": "execute_result"
    }
   ],
   "source": [
    "dihedral_angles[:5]"
   ]
  },
  {
   "cell_type": "markdown",
   "id": "46108676-8da4-4cf3-9f33-ff6585cff7f1",
   "metadata": {},
   "source": [
    "# Methods from evaluation.py can be used as follows:"
   ]
  },
  {
   "cell_type": "code",
   "execution_count": 1,
   "id": "b5c715ce-d95e-4ae1-93a8-ce44452d2765",
   "metadata": {},
   "outputs": [],
   "source": [
    "# imports all methods from evaluation.py\n",
    "from evaluation import *"
   ]
  },
  {
   "cell_type": "code",
   "execution_count": 4,
   "id": "a8930936-f222-474a-ba05-4aad6ba3c85d",
   "metadata": {},
   "outputs": [
    {
     "name": "stdout",
     "output_type": "stream",
     "text": [
      "MSE score: 1.1179945157374767\n",
      "Average Cosine Similarity: 0.1652\n",
      "Average Angle (degrees): 78.63820000000001\n",
      "Durschnittliche Bindungslänge Differenz: 0.07368851874514193\n",
      "Die Wasserstein Distanz zwischen den beiden Winkelverteilungen beträgt:  9.261439999999999\n"
     ]
    }
   ],
   "source": [
    "np.random.seed(42)\n",
    "mean = 0\n",
    "std_dev = 1\n",
    "\n",
    "# Beispieldaten mit Shape (10, 3, 3) im Wertebereich [0, 1]\n",
    "X_relative_coordinates = np.random.normal(loc=mean, scale=std_dev, size= (10, 5, 3))  # z.b. 10 Samples mit je 5 Nachbaratome mit x, y, z Werten\n",
    "\n",
    "# Beispieldaten mit Shape (10, 3) im Wertebereich [0, 1]\n",
    "y_test = np.random.normal(loc=mean, scale=std_dev, size=(10, 3))  # z.b. ground truth 10 Hydrogen positions mit x, y, z Werten\n",
    "y_pred = np.random.normal(loc=mean, scale=std_dev, size=(10, 3))  # z.b. predicted 10 Hydrogen positions mit x, y, z Werten\n",
    "\n",
    "# absoluter Abstand H zu H' (MSE Score)\n",
    "mse = mean_squared_error(y_test, y_pred)\n",
    "print(f'MSE score: {mse}')\n",
    "\n",
    "# Durchschnittliche Cosine Similarity (kann ignoriert werden) und durchschnittliche Winkel\n",
    "avg_cosine_similarity, avg_angle = metric_cosine_similarity_and_angle(y_test, y_pred)\n",
    "print(\"Average Cosine Similarity:\", avg_cosine_similarity)\n",
    "print(\"Average Angle (degrees):\", avg_angle)\n",
    "\n",
    "# Duchschnittliche Bindungslängendifferenz\n",
    "avg_bindugslänge_diff = metric_bindungslänge_differenz(y_test, y_pred)\n",
    "print(\"Durschnittliche Bindungslänge Differenz:\", avg_bindugslänge_diff)\n",
    "\n",
    "# Wasserstein Distanz zwischen zwei Winkelverteilungen\n",
    "all_angles_test = all_angles_H_central_neighbor(X_relative_coordinates, y_test)  # alle Winkel im Test set\n",
    "all_angles_pred = all_angles_H_central_neighbor(X_relative_coordinates, y_pred)  # alle Winkel durch Prediction\n",
    "wasserstein = wasserstein_distance(all_angles_test , all_angles_pred)\n",
    "print(\"Die Wasserstein Distanz zwischen den beiden Winkelverteilungen beträgt: \", wasserstein)"
   ]
  },
  {
   "cell_type": "markdown",
   "id": "0654db20-40db-45ec-baad-69f233aad042",
   "metadata": {},
   "source": [
    "# Other potential models\n",
    "- Gaussian Process Regression\n",
    "- RANSAC"
   ]
  },
  {
   "cell_type": "code",
   "execution_count": null,
   "id": "c1bc4e4d-1da5-4058-b59d-1c53c9f480bb",
   "metadata": {},
   "outputs": [],
   "source": []
  }
 ],
 "metadata": {
  "kernelspec": {
   "display_name": "Python 3 (ipykernel)",
   "language": "python",
   "name": "python3"
  },
  "language_info": {
   "codemirror_mode": {
    "name": "ipython",
    "version": 3
   },
   "file_extension": ".py",
   "mimetype": "text/x-python",
   "name": "python",
   "nbconvert_exporter": "python",
   "pygments_lexer": "ipython3",
   "version": "3.11.9"
  }
 },
 "nbformat": 4,
 "nbformat_minor": 5
}
