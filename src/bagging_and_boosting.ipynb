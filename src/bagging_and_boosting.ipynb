{
 "cells": [
  {
   "cell_type": "code",
   "execution_count": 1,
   "id": "4de7a182-4edf-493a-a853-5de2f7f0e432",
   "metadata": {},
   "outputs": [],
   "source": [
    "import numpy as np\n",
    "from sklearn.model_selection import train_test_split\n",
    "from sklearn.metrics import mean_absolute_error, mean_squared_error, r2_score\n",
    "import pickle"
   ]
  },
  {
   "cell_type": "code",
   "execution_count": 2,
   "id": "700f4df3-106a-40ad-8567-0d997a76dc00",
   "metadata": {},
   "outputs": [],
   "source": [
    "with open(\"../data/centralatom-C_numberhydrogens-1/training-validation.pkl\", 'rb') as file: # no_descriptor_approach_sorted_and_descriptor.pkl\n",
    "    data = pickle.load(file)"
   ]
  },
  {
   "cell_type": "code",
   "execution_count": 3,
   "id": "d334c47f-4656-4cb1-8a79-591e6d57a93f",
   "metadata": {},
   "outputs": [],
   "source": [
    "X, y = data"
   ]
  },
  {
   "cell_type": "code",
   "execution_count": 4,
   "id": "a68244bb-5328-4834-8460-5881ed835f4f",
   "metadata": {},
   "outputs": [],
   "source": [
    "X = np.asarray(X)\n",
    "y = np.asarray(y)"
   ]
  },
  {
   "cell_type": "code",
   "execution_count": 5,
   "id": "317f743a-0fef-47ae-80bc-ecbceee19d0d",
   "metadata": {},
   "outputs": [
    {
     "data": {
      "text/plain": [
       "(258045, 70)"
      ]
     },
     "execution_count": 5,
     "metadata": {},
     "output_type": "execute_result"
    }
   ],
   "source": [
    "X.shape"
   ]
  },
  {
   "cell_type": "code",
   "execution_count": 6,
   "id": "6ad86814-0210-42a2-8dab-8f43408ce429",
   "metadata": {},
   "outputs": [
    {
     "data": {
      "text/plain": [
       "(258045, 3)"
      ]
     },
     "execution_count": 6,
     "metadata": {},
     "output_type": "execute_result"
    }
   ],
   "source": [
    "y.shape"
   ]
  },
  {
   "cell_type": "code",
   "execution_count": 7,
   "id": "b17e7ed5-9033-442b-ba81-564f0b2f9a51",
   "metadata": {},
   "outputs": [],
   "source": [
    "# Split the data\n",
    "X_train, X_test, y_train, y_test = train_test_split(X, y, test_size=0.1, random_state=42)"
   ]
  },
  {
   "cell_type": "markdown",
   "id": "cfd99d64-9d1b-45f8-8dc5-5100ed48a568",
   "metadata": {},
   "source": [
    "# Random Forest regressor\n",
    "- old: Random Forest R² score: 0.8214503501551021"
   ]
  },
  {
   "cell_type": "code",
   "execution_count": 8,
   "id": "73489af3-10c6-468f-9bc4-abbbf8018b88",
   "metadata": {},
   "outputs": [
    {
     "name": "stdout",
     "output_type": "stream",
     "text": [
      "Starting training\n",
      "Done\n",
      "Random Forest R² score: 0.9535040774354124\n"
     ]
    }
   ],
   "source": [
    "from sklearn.ensemble import RandomForestRegressor\n",
    "\n",
    "# Initialize the model\n",
    "rf_model = RandomForestRegressor(n_estimators=100, random_state=42)\n",
    "\n",
    "# Train the model\n",
    "print(\"Starting training\")\n",
    "rf_model.fit(X_train[:10000], y_train[:10000])\n",
    "print(\"Done\")\n",
    "\n",
    "# Predict on the test set\n",
    "y_pred_rf = rf_model.predict(X_test)\n",
    "\n",
    "# Compute R² score\n",
    "r2_rf = r2_score(y_test, y_pred_rf)\n",
    "print(f'Random Forest R² score: {r2_rf}')"
   ]
  },
  {
   "cell_type": "markdown",
   "id": "6c002fa4-3fb7-4011-97ca-813d5fb090fc",
   "metadata": {},
   "source": [
    "# Gradient Boosting regressor\n",
    "- old: Gradient Boosting Multi-Output R² score: 0.8516877707002646"
   ]
  },
  {
   "cell_type": "code",
   "execution_count": null,
   "id": "ed1bae7c-f337-49c2-8faa-19087657a51a",
   "metadata": {},
   "outputs": [],
   "source": [
    "from sklearn.ensemble import GradientBoostingRegressor\n",
    "\n",
    "# Initialize the model\n",
    "gb_model = GradientBoostingRegressor(n_estimators=100, random_state=42)\n",
    "\n",
    "# Train the model\n",
    "gb_model.fit(X_train[:10000], y_train[:10000])\n",
    "\n",
    "# Predict on the test set\n",
    "y_pred_gb = gb_model.predict(X_test)\n",
    "\n",
    "# Compute R² score\n",
    "r2_gb = r2_score(y_test, y_pred_gb)\n",
    "print(f'Gradient Boosting R² score: {r2_gb}')"
   ]
  },
  {
   "cell_type": "code",
   "execution_count": 9,
   "id": "df3e09a7-abce-4131-95c4-226aa0c4d5f5",
   "metadata": {},
   "outputs": [
    {
     "name": "stdout",
     "output_type": "stream",
     "text": [
      "Gradient Boosting Multi-Output R² score: 0.9754974577614393\n"
     ]
    }
   ],
   "source": [
    "from sklearn.ensemble import GradientBoostingRegressor\n",
    "from sklearn.multioutput import MultiOutputRegressor\n",
    "from sklearn.metrics import r2_score\n",
    "\n",
    "# Initialize the base model\n",
    "base_gb_model = GradientBoostingRegressor(n_estimators=100, random_state=42)\n",
    "\n",
    "# Wrap the base model with MultiOutputRegressor\n",
    "multi_gb_model = MultiOutputRegressor(base_gb_model)\n",
    "\n",
    "# Train the model\n",
    "multi_gb_model.fit(X_train[:10000], y_train[:10000])\n",
    "\n",
    "# Predict on the test set\n",
    "y_pred_gb = multi_gb_model.predict(X_test)\n",
    "\n",
    "# Compute R² score\n",
    "r2_gb = r2_score(y_test, y_pred_gb)\n",
    "print(f'Gradient Boosting Multi-Output R² score: {r2_gb}')"
   ]
  },
  {
   "cell_type": "markdown",
   "id": "9ca96124-ef16-49da-92b3-2cc0b9445fab",
   "metadata": {},
   "source": [
    "# Support Vector Regressor (SVR)\n",
    "- <span style=\"color:red\">very slow and does not work well!</span>"
   ]
  },
  {
   "cell_type": "code",
   "execution_count": null,
   "id": "bd74d12b-4d0b-4e45-9dbe-4da3a979565c",
   "metadata": {},
   "outputs": [],
   "source": [
    "from sklearn.svm import SVR\n",
    "\n",
    "# Initialize the model\n",
    "svr_model = SVR(kernel='rbf', C=1.0, epsilon=0.1)\n",
    "\n",
    "# Train the model\n",
    "svr_model.fit(X_train[:10000], y_train[:10000])\n",
    "\n",
    "# Predict on the test set\n",
    "y_pred_svr = svr_model.predict(X_test)\n",
    "\n",
    "# Compute R² score\n",
    "r2_svr = r2_score(y_test, y_pred_svr)\n",
    "print(f'Support Vector Regressor R² score: {r2_svr}')"
   ]
  },
  {
   "cell_type": "code",
   "execution_count": 26,
   "id": "856beec0-e00b-4f3e-a5e9-7021b7cd9221",
   "metadata": {},
   "outputs": [
    {
     "name": "stdout",
     "output_type": "stream",
     "text": [
      "Support Vector Multi-Output R² score: 0.03131040621249933\n"
     ]
    }
   ],
   "source": [
    "from sklearn.svm import SVR\n",
    "from sklearn.multioutput import MultiOutputRegressor\n",
    "\n",
    "# Initialize the base model\n",
    "base_svr_model = SVR(kernel='rbf', C=1.0, epsilon=0.1)\n",
    "\n",
    "# Wrap the base model with MultiOutputRegressor\n",
    "multi_svr_model = MultiOutputRegressor(base_svr_model)\n",
    "\n",
    "# Train the model\n",
    "multi_svr_model.fit(X_train[:1000], y_train[:1000])\n",
    "\n",
    "# Predict on the test set\n",
    "y_pred_svr = multi_svr_model.predict(X_test)\n",
    "\n",
    "# Compute R² score\n",
    "r2_svr = r2_score(y_test, y_pred_svr)\n",
    "print(f'Support Vector Multi-Output R² score: {r2_svr}')"
   ]
  },
  {
   "cell_type": "markdown",
   "id": "58b6c6a5-22fd-43be-bd30-9aec7775d746",
   "metadata": {},
   "source": [
    "# XGBoost Regressor\n",
    "- old: XGBoost R² score: 0.849968390286696"
   ]
  },
  {
   "cell_type": "code",
   "execution_count": null,
   "id": "14316440-dded-4243-8727-20e02fd8c480",
   "metadata": {},
   "outputs": [],
   "source": [
    "#!pip install xgboost"
   ]
  },
  {
   "cell_type": "code",
   "execution_count": 10,
   "id": "fc66b3cd-1069-42af-b75a-9e93145f6edc",
   "metadata": {},
   "outputs": [
    {
     "name": "stdout",
     "output_type": "stream",
     "text": [
      "XGBoost R² score: 0.9873200455743881\n"
     ]
    }
   ],
   "source": [
    "import xgboost as xgb\n",
    "\n",
    "# Initialize the model\n",
    "xgb_model = xgb.XGBRegressor(n_estimators=100, random_state=42)\n",
    "\n",
    "# Train the model\n",
    "xgb_model.fit(X_train[:10000], y_train[:10000])\n",
    "\n",
    "# Predict on the test set\n",
    "y_pred_xgb = xgb_model.predict(X_test)\n",
    "\n",
    "# Compute R² score\n",
    "r2_xgb = r2_score(y_test, y_pred_xgb)\n",
    "print(f'XGBoost R² score: {r2_xgb}')"
   ]
  },
  {
   "cell_type": "markdown",
   "id": "3d5740fe-0cfd-4a6f-a7ec-0ee1a91d3a69",
   "metadata": {},
   "source": [
    "# LightGBM Regressor (cannot install)"
   ]
  },
  {
   "cell_type": "code",
   "execution_count": 20,
   "id": "b2cc33ac-66e5-43d1-bf48-1c90ae38d9e9",
   "metadata": {},
   "outputs": [
    {
     "name": "stdout",
     "output_type": "stream",
     "text": [
      "Looking in indexes: https://pypi.org/simple, https://pypi.ngc.nvidia.com\n"
     ]
    },
    {
     "name": "stderr",
     "output_type": "stream",
     "text": [
      "ERROR: Could not find a version that satisfies the requirement lightbgm (from versions: none)\n",
      "ERROR: No matching distribution found for lightbgm\n"
     ]
    }
   ],
   "source": [
    "#!pip install lightbgm"
   ]
  },
  {
   "cell_type": "code",
   "execution_count": null,
   "id": "04da59a9-e407-476e-b147-1cf91f577f26",
   "metadata": {},
   "outputs": [],
   "source": [
    "import lightgbm as lgb\n",
    "\n",
    "# Initialize the model\n",
    "lgb_model = lgb.LGBMRegressor(n_estimators=100, random_state=42)\n",
    "\n",
    "# Train the model\n",
    "lgb_model.fit(X_train[:10000], y_train[:10000])\n",
    "\n",
    "# Predict on the test set\n",
    "y_pred_lgb = lgb_model.predict(X_test)\n",
    "\n",
    "# Compute R² score\n",
    "r2_lgb = r2_score(y_test, y_pred_lgb)\n",
    "print(f'LightGBM R² score: {r2_lgb}')"
   ]
  },
  {
   "cell_type": "markdown",
   "id": "229f16d1-311f-41fb-b4f3-94f0c338b5f1",
   "metadata": {},
   "source": [
    "# CatBoost Regressor\n",
    "- seems to be very good (r2 score of 0.860 if only taken 10000 training samples)\n",
    "- very fast on the whole dataset!\n",
    "- <span style=\"color:green\">old: 0.877 on the whole dataset!</span>"
   ]
  },
  {
   "cell_type": "code",
   "execution_count": null,
   "id": "67d127a9-38a0-4c46-a21d-bc673391e739",
   "metadata": {},
   "outputs": [],
   "source": [
    "#!pip install catboost"
   ]
  },
  {
   "cell_type": "code",
   "execution_count": null,
   "id": "dbd16d47-9639-4365-93e9-5895ff22e214",
   "metadata": {},
   "outputs": [],
   "source": [
    "from catboost import CatBoostRegressor\n",
    "\n",
    "# Initialize the model\n",
    "cat_model = CatBoostRegressor(iterations=100, random_state=42, verbose=0)\n",
    "\n",
    "# Train the model\n",
    "cat_model.fit(X_train[:10000], y_train[:10000])\n",
    "\n",
    "# Predict on the test set\n",
    "y_pred_cat = cat_model.predict(X_test)\n",
    "\n",
    "# Compute R² score\n",
    "r2_cat = r2_score(y_test, y_pred_cat)\n",
    "print(f'CatBoost R² score: {r2_cat}')"
   ]
  },
  {
   "cell_type": "code",
   "execution_count": 11,
   "id": "4511b1e8-3f05-4b0e-ad8a-523b044ed4aa",
   "metadata": {},
   "outputs": [
    {
     "name": "stdout",
     "output_type": "stream",
     "text": [
      "CatBoost Multi-Output R² score: 0.9906146803788864\n"
     ]
    }
   ],
   "source": [
    "from catboost import CatBoostRegressor\n",
    "\n",
    "# Initialize the base model\n",
    "base_cat_model = CatBoostRegressor(iterations=100, random_state=42, verbose=0)\n",
    "\n",
    "# Wrap the base model with MultiOutputRegressor\n",
    "multi_cat_model = MultiOutputRegressor(base_cat_model)\n",
    "\n",
    "# Train the model\n",
    "multi_cat_model.fit(X_train, y_train)\n",
    "\n",
    "# Predict on the test set\n",
    "y_pred_cat = multi_cat_model.predict(X_test)\n",
    "\n",
    "# Compute R² score\n",
    "r2_cat = r2_score(y_test, y_pred_cat)\n",
    "print(f'CatBoost Multi-Output R² score: {r2_cat}')"
   ]
  },
  {
   "cell_type": "code",
   "execution_count": 12,
   "id": "c32d998e-8a46-47db-baba-7eb3d7269369",
   "metadata": {},
   "outputs": [
    {
     "data": {
      "text/plain": [
       "array([[-0.222, -1.054, -0.08 ],\n",
       "       [ 0.246,  0.814, -0.665],\n",
       "       [-0.155,  0.79 , -0.749],\n",
       "       [-0.449,  0.526,  0.829],\n",
       "       [ 0.12 , -1.033, -0.293],\n",
       "       [ 0.627,  0.828, -0.295],\n",
       "       [-0.192,  0.188,  1.046],\n",
       "       [ 0.317,  0.819, -0.629],\n",
       "       [ 0.726,  0.474, -0.643],\n",
       "       [ 0.538, -0.926,  0.14 ]])"
      ]
     },
     "execution_count": 12,
     "metadata": {},
     "output_type": "execute_result"
    }
   ],
   "source": [
    "y_test[:10]"
   ]
  },
  {
   "cell_type": "code",
   "execution_count": 13,
   "id": "77d6ce70-d668-43c6-bc1b-87da651dc5bf",
   "metadata": {},
   "outputs": [
    {
     "data": {
      "text/plain": [
       "array([[-0.23530424, -0.98650811, -0.09133349],\n",
       "       [ 0.23882607,  0.78930462, -0.65038427],\n",
       "       [-0.08233743,  0.87299866, -0.86627787],\n",
       "       [-0.44424127,  0.51977999,  0.84994164],\n",
       "       [ 0.12160094, -0.97202257, -0.29503229],\n",
       "       [ 0.62394687,  0.79572261, -0.35307993],\n",
       "       [-0.20400483,  0.18766944,  1.03062917],\n",
       "       [ 0.35013457,  0.85135208, -0.66693211],\n",
       "       [ 0.73433892,  0.47912693, -0.65055302],\n",
       "       [ 0.60735633, -0.88815101,  0.15236405]])"
      ]
     },
     "execution_count": 13,
     "metadata": {},
     "output_type": "execute_result"
    }
   ],
   "source": [
    "y_pred_cat[:10]"
   ]
  },
  {
   "cell_type": "markdown",
   "id": "0654db20-40db-45ec-baad-69f233aad042",
   "metadata": {},
   "source": [
    "# Other potential models\n",
    "- Gaussian Process Regression\n",
    "- RANSAC"
   ]
  },
  {
   "cell_type": "code",
   "execution_count": null,
   "id": "41b400f5-2cbf-4c44-89bd-c65831cfb869",
   "metadata": {},
   "outputs": [],
   "source": []
  }
 ],
 "metadata": {
  "kernelspec": {
   "display_name": "Python 3 (ipykernel)",
   "language": "python",
   "name": "python3"
  },
  "language_info": {
   "codemirror_mode": {
    "name": "ipython",
    "version": 3
   },
   "file_extension": ".py",
   "mimetype": "text/x-python",
   "name": "python",
   "nbconvert_exporter": "python",
   "pygments_lexer": "ipython3",
   "version": "3.11.9"
  }
 },
 "nbformat": 4,
 "nbformat_minor": 5
}
