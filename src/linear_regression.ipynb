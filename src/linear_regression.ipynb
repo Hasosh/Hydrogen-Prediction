{
 "cells": [
  {
   "cell_type": "code",
   "execution_count": 2,
   "id": "ba49f3cb-43a1-4fb5-b81e-390d564d7099",
   "metadata": {},
   "outputs": [],
   "source": [
    "import numpy as np\n",
    "from sklearn.model_selection import train_test_split\n",
    "from sklearn.linear_model import LinearRegression\n",
    "from sklearn.metrics import mean_absolute_error, mean_squared_error, r2_score"
   ]
  },
  {
   "cell_type": "markdown",
   "id": "5e2eaff9-9b20-4fa6-841a-b1b1c2d08e8b",
   "metadata": {},
   "source": [
    "### Descriptor datasets"
   ]
  },
  {
   "cell_type": "code",
   "execution_count": 9,
   "id": "68ed7cd2-14d7-4833-931d-609e7c7b5a5f",
   "metadata": {},
   "outputs": [],
   "source": [
    "import pickle\n",
    "\n",
    "with open(\"../data/dataset_X-descriptor_y-relposhydrogen_allcentral_1bondedhyd.pkl\", 'rb') as file:\n",
    "    data = pickle.load(file)"
   ]
  },
  {
   "cell_type": "code",
   "execution_count": 48,
   "id": "6b64545d-a958-4834-9ee1-e8404f2cb970",
   "metadata": {},
   "outputs": [],
   "source": [
    "import pickle\n",
    "\n",
    "with open(\"../data/dataset_X-descriptor_y-relposhydrogen_allcentral_1bondedhyd_max3atoms.pkl\", 'rb') as file:\n",
    "    data = pickle.load(file)"
   ]
  },
  {
   "cell_type": "code",
   "execution_count": 25,
   "id": "8819a8aa-92f8-4bc1-9809-fda4a57b6658",
   "metadata": {},
   "outputs": [],
   "source": [
    "import pickle\n",
    "\n",
    "with open(\"../data/dataset_X-descriptor_y-relposhydrogen_allcentral_1bondedhyd_max3atoms_l2sorted.pkl\", 'rb') as file:\n",
    "    data = pickle.load(file)"
   ]
  },
  {
   "cell_type": "markdown",
   "id": "8bea2c10-984b-47fc-987d-30dafe725e68",
   "metadata": {},
   "source": [
    "### No Descriptor datasets"
   ]
  },
  {
   "cell_type": "code",
   "execution_count": 42,
   "id": "c52f2908-591b-4e65-8362-9a638f59d642",
   "metadata": {},
   "outputs": [],
   "source": [
    "import pickle\n",
    "\n",
    "with open(\"../data/no_descriptor_approach_no_extras.pkl\", 'rb') as file:\n",
    "    data = pickle.load(file)"
   ]
  },
  {
   "cell_type": "code",
   "execution_count": 58,
   "id": "906e8a72-adae-4ade-8f35-c0c64e4226e2",
   "metadata": {},
   "outputs": [],
   "source": [
    "import pickle\n",
    "\n",
    "with open(\"../data/no_descriptor_approach_sorted.pkl\", 'rb') as file:\n",
    "    data = pickle.load(file)"
   ]
  },
  {
   "cell_type": "markdown",
   "id": "debb7449-c485-4533-8ff4-3bed9c887a4d",
   "metadata": {},
   "source": [
    "### Hybrid (Descriptor appended)"
   ]
  },
  {
   "cell_type": "code",
   "execution_count": 1,
   "id": "153c5ee8-92e2-4073-bbce-dd10583dd522",
   "metadata": {},
   "outputs": [],
   "source": [
    "import pickle\n",
    "\n",
    "with open(\"../data/no_descriptor_approach_sorted_and_descriptor.pkl\", 'rb') as file:\n",
    "    data = pickle.load(file)"
   ]
  },
  {
   "cell_type": "markdown",
   "id": "9d1c7e9f-7e1c-41db-ac15-6c49087bcdb6",
   "metadata": {},
   "source": [
    "# Data loading"
   ]
  },
  {
   "cell_type": "code",
   "execution_count": 3,
   "id": "ce57ebaf-1e2b-4676-8a42-6311d3b9a5e1",
   "metadata": {},
   "outputs": [],
   "source": [
    "X, y = data"
   ]
  },
  {
   "cell_type": "code",
   "execution_count": 4,
   "id": "9bb03c25-5453-4cde-8457-bc96345dacad",
   "metadata": {},
   "outputs": [],
   "source": [
    "X = np.asarray(X)\n",
    "y = np.asarray(y)"
   ]
  },
  {
   "cell_type": "code",
   "execution_count": 5,
   "id": "24647b47-0b85-497e-b1f0-1551071d5fab",
   "metadata": {},
   "outputs": [
    {
     "data": {
      "text/plain": [
       "(381646, 62)"
      ]
     },
     "execution_count": 5,
     "metadata": {},
     "output_type": "execute_result"
    }
   ],
   "source": [
    "X.shape"
   ]
  },
  {
   "cell_type": "code",
   "execution_count": 6,
   "id": "a680f940-3310-4557-b6c3-f1c06bf90385",
   "metadata": {},
   "outputs": [
    {
     "data": {
      "text/plain": [
       "(381646, 3)"
      ]
     },
     "execution_count": 6,
     "metadata": {},
     "output_type": "execute_result"
    }
   ],
   "source": [
    "y.shape"
   ]
  },
  {
   "cell_type": "code",
   "execution_count": 79,
   "id": "a4f6cb20-38cf-44ed-a76e-ede6ec402f4c",
   "metadata": {},
   "outputs": [
    {
     "data": {
      "text/plain": [
       "array([[ 8.        ,  6.        ,  1.        ,  0.461     , -0.519     ,\n",
       "        -1.25      ,  0.        ,  0.        ,  0.        ,  0.        ,\n",
       "         0.        ,  0.        ,  0.        ,  0.        ,  0.        ,\n",
       "         0.        ,  0.        ,  0.        ,  0.        ,  0.        ,\n",
       "         0.        ,  0.        ,  0.        ,  0.        ,  0.        ,\n",
       "         0.        , 73.51669472, 33.57068578,  0.        ,  0.        ,\n",
       "         0.        ,  0.        , 33.57068578, 36.8581052 ,  0.        ,\n",
       "         0.        ,  0.        ,  0.        ,  0.        ,  0.        ,\n",
       "         0.        ,  0.        ,  0.        ,  0.        ,  0.        ,\n",
       "         0.        ,  0.        ,  0.        ,  0.        ,  0.        ,\n",
       "         0.        ,  0.        ,  0.        ,  0.        ,  0.        ,\n",
       "         0.        ,  0.        ,  0.        ,  0.        ,  0.        ,\n",
       "         0.        ,  0.        ],\n",
       "       [ 6.        ,  6.        ,  1.        ,  0.579     ,  0.336     ,\n",
       "         1.25      ,  6.        ,  2.        ,  0.61      , -0.975     ,\n",
       "        -0.812     ,  0.        ,  0.        ,  0.        ,  0.        ,\n",
       "         0.        ,  0.        ,  0.        ,  0.        ,  0.        ,\n",
       "         0.        ,  0.        ,  0.        ,  0.        ,  0.        ,\n",
       "         0.        , 36.8581052 , 25.3884195 , 25.57072939,  0.        ,\n",
       "         0.        ,  0.        , 25.3884195 , 36.8581052 , 14.73193646,\n",
       "         0.        ,  0.        ,  0.        , 25.57072939, 14.73193646,\n",
       "        36.8581052 ,  0.        ,  0.        ,  0.        ,  0.        ,\n",
       "         0.        ,  0.        ,  0.        ,  0.        ,  0.        ,\n",
       "         0.        ,  0.        ,  0.        ,  0.        ,  0.        ,\n",
       "         0.        ,  0.        ,  0.        ,  0.        ,  0.        ,\n",
       "         0.        ,  0.        ]])"
      ]
     },
     "execution_count": 79,
     "metadata": {},
     "output_type": "execute_result"
    }
   ],
   "source": [
    "X[:2]"
   ]
  },
  {
   "cell_type": "code",
   "execution_count": 80,
   "id": "983774bf-8ae9-41ad-8f57-817f79126b5d",
   "metadata": {},
   "outputs": [
    {
     "data": {
      "text/plain": [
       "array([[-0.794,  0.502, -0.139],\n",
       "       [-0.925,  0.496, -0.341]])"
      ]
     },
     "execution_count": 80,
     "metadata": {},
     "output_type": "execute_result"
    }
   ],
   "source": [
    "y[:2]"
   ]
  },
  {
   "cell_type": "code",
   "execution_count": 7,
   "id": "0c9f5080-8923-4f41-8271-1715b2643caf",
   "metadata": {},
   "outputs": [],
   "source": [
    "# Split the data\n",
    "X_train, X_test, y_train, y_test = train_test_split(X, y, test_size=0.1, random_state=42)"
   ]
  },
  {
   "cell_type": "code",
   "execution_count": 82,
   "id": "a0839c85-5c7c-41ea-a2f9-e6ee8c59fa7c",
   "metadata": {},
   "outputs": [
    {
     "data": {
      "text/plain": [
       "(343481, 62)"
      ]
     },
     "execution_count": 82,
     "metadata": {},
     "output_type": "execute_result"
    }
   ],
   "source": [
    "X_train.shape"
   ]
  },
  {
   "cell_type": "code",
   "execution_count": 83,
   "id": "9743a5da-3c7e-46d3-92d4-a2f06caddafa",
   "metadata": {},
   "outputs": [
    {
     "data": {
      "text/plain": [
       "(38165, 62)"
      ]
     },
     "execution_count": 83,
     "metadata": {},
     "output_type": "execute_result"
    }
   ],
   "source": [
    "X_test.shape"
   ]
  },
  {
   "cell_type": "markdown",
   "id": "406d7c29-6fc0-4e13-a668-3f3eda3a9f8b",
   "metadata": {},
   "source": [
    "# Normal Regression"
   ]
  },
  {
   "cell_type": "code",
   "execution_count": 84,
   "id": "65d32f59-0f63-438c-acd6-de0acc797b41",
   "metadata": {},
   "outputs": [
    {
     "data": {
      "text/html": [
       "<style>#sk-container-id-5 {\n",
       "  /* Definition of color scheme common for light and dark mode */\n",
       "  --sklearn-color-text: black;\n",
       "  --sklearn-color-line: gray;\n",
       "  /* Definition of color scheme for unfitted estimators */\n",
       "  --sklearn-color-unfitted-level-0: #fff5e6;\n",
       "  --sklearn-color-unfitted-level-1: #f6e4d2;\n",
       "  --sklearn-color-unfitted-level-2: #ffe0b3;\n",
       "  --sklearn-color-unfitted-level-3: chocolate;\n",
       "  /* Definition of color scheme for fitted estimators */\n",
       "  --sklearn-color-fitted-level-0: #f0f8ff;\n",
       "  --sklearn-color-fitted-level-1: #d4ebff;\n",
       "  --sklearn-color-fitted-level-2: #b3dbfd;\n",
       "  --sklearn-color-fitted-level-3: cornflowerblue;\n",
       "\n",
       "  /* Specific color for light theme */\n",
       "  --sklearn-color-text-on-default-background: var(--sg-text-color, var(--theme-code-foreground, var(--jp-content-font-color1, black)));\n",
       "  --sklearn-color-background: var(--sg-background-color, var(--theme-background, var(--jp-layout-color0, white)));\n",
       "  --sklearn-color-border-box: var(--sg-text-color, var(--theme-code-foreground, var(--jp-content-font-color1, black)));\n",
       "  --sklearn-color-icon: #696969;\n",
       "\n",
       "  @media (prefers-color-scheme: dark) {\n",
       "    /* Redefinition of color scheme for dark theme */\n",
       "    --sklearn-color-text-on-default-background: var(--sg-text-color, var(--theme-code-foreground, var(--jp-content-font-color1, white)));\n",
       "    --sklearn-color-background: var(--sg-background-color, var(--theme-background, var(--jp-layout-color0, #111)));\n",
       "    --sklearn-color-border-box: var(--sg-text-color, var(--theme-code-foreground, var(--jp-content-font-color1, white)));\n",
       "    --sklearn-color-icon: #878787;\n",
       "  }\n",
       "}\n",
       "\n",
       "#sk-container-id-5 {\n",
       "  color: var(--sklearn-color-text);\n",
       "}\n",
       "\n",
       "#sk-container-id-5 pre {\n",
       "  padding: 0;\n",
       "}\n",
       "\n",
       "#sk-container-id-5 input.sk-hidden--visually {\n",
       "  border: 0;\n",
       "  clip: rect(1px 1px 1px 1px);\n",
       "  clip: rect(1px, 1px, 1px, 1px);\n",
       "  height: 1px;\n",
       "  margin: -1px;\n",
       "  overflow: hidden;\n",
       "  padding: 0;\n",
       "  position: absolute;\n",
       "  width: 1px;\n",
       "}\n",
       "\n",
       "#sk-container-id-5 div.sk-dashed-wrapped {\n",
       "  border: 1px dashed var(--sklearn-color-line);\n",
       "  margin: 0 0.4em 0.5em 0.4em;\n",
       "  box-sizing: border-box;\n",
       "  padding-bottom: 0.4em;\n",
       "  background-color: var(--sklearn-color-background);\n",
       "}\n",
       "\n",
       "#sk-container-id-5 div.sk-container {\n",
       "  /* jupyter's `normalize.less` sets `[hidden] { display: none; }`\n",
       "     but bootstrap.min.css set `[hidden] { display: none !important; }`\n",
       "     so we also need the `!important` here to be able to override the\n",
       "     default hidden behavior on the sphinx rendered scikit-learn.org.\n",
       "     See: https://github.com/scikit-learn/scikit-learn/issues/21755 */\n",
       "  display: inline-block !important;\n",
       "  position: relative;\n",
       "}\n",
       "\n",
       "#sk-container-id-5 div.sk-text-repr-fallback {\n",
       "  display: none;\n",
       "}\n",
       "\n",
       "div.sk-parallel-item,\n",
       "div.sk-serial,\n",
       "div.sk-item {\n",
       "  /* draw centered vertical line to link estimators */\n",
       "  background-image: linear-gradient(var(--sklearn-color-text-on-default-background), var(--sklearn-color-text-on-default-background));\n",
       "  background-size: 2px 100%;\n",
       "  background-repeat: no-repeat;\n",
       "  background-position: center center;\n",
       "}\n",
       "\n",
       "/* Parallel-specific style estimator block */\n",
       "\n",
       "#sk-container-id-5 div.sk-parallel-item::after {\n",
       "  content: \"\";\n",
       "  width: 100%;\n",
       "  border-bottom: 2px solid var(--sklearn-color-text-on-default-background);\n",
       "  flex-grow: 1;\n",
       "}\n",
       "\n",
       "#sk-container-id-5 div.sk-parallel {\n",
       "  display: flex;\n",
       "  align-items: stretch;\n",
       "  justify-content: center;\n",
       "  background-color: var(--sklearn-color-background);\n",
       "  position: relative;\n",
       "}\n",
       "\n",
       "#sk-container-id-5 div.sk-parallel-item {\n",
       "  display: flex;\n",
       "  flex-direction: column;\n",
       "}\n",
       "\n",
       "#sk-container-id-5 div.sk-parallel-item:first-child::after {\n",
       "  align-self: flex-end;\n",
       "  width: 50%;\n",
       "}\n",
       "\n",
       "#sk-container-id-5 div.sk-parallel-item:last-child::after {\n",
       "  align-self: flex-start;\n",
       "  width: 50%;\n",
       "}\n",
       "\n",
       "#sk-container-id-5 div.sk-parallel-item:only-child::after {\n",
       "  width: 0;\n",
       "}\n",
       "\n",
       "/* Serial-specific style estimator block */\n",
       "\n",
       "#sk-container-id-5 div.sk-serial {\n",
       "  display: flex;\n",
       "  flex-direction: column;\n",
       "  align-items: center;\n",
       "  background-color: var(--sklearn-color-background);\n",
       "  padding-right: 1em;\n",
       "  padding-left: 1em;\n",
       "}\n",
       "\n",
       "\n",
       "/* Toggleable style: style used for estimator/Pipeline/ColumnTransformer box that is\n",
       "clickable and can be expanded/collapsed.\n",
       "- Pipeline and ColumnTransformer use this feature and define the default style\n",
       "- Estimators will overwrite some part of the style using the `sk-estimator` class\n",
       "*/\n",
       "\n",
       "/* Pipeline and ColumnTransformer style (default) */\n",
       "\n",
       "#sk-container-id-5 div.sk-toggleable {\n",
       "  /* Default theme specific background. It is overwritten whether we have a\n",
       "  specific estimator or a Pipeline/ColumnTransformer */\n",
       "  background-color: var(--sklearn-color-background);\n",
       "}\n",
       "\n",
       "/* Toggleable label */\n",
       "#sk-container-id-5 label.sk-toggleable__label {\n",
       "  cursor: pointer;\n",
       "  display: block;\n",
       "  width: 100%;\n",
       "  margin-bottom: 0;\n",
       "  padding: 0.5em;\n",
       "  box-sizing: border-box;\n",
       "  text-align: center;\n",
       "}\n",
       "\n",
       "#sk-container-id-5 label.sk-toggleable__label-arrow:before {\n",
       "  /* Arrow on the left of the label */\n",
       "  content: \"▸\";\n",
       "  float: left;\n",
       "  margin-right: 0.25em;\n",
       "  color: var(--sklearn-color-icon);\n",
       "}\n",
       "\n",
       "#sk-container-id-5 label.sk-toggleable__label-arrow:hover:before {\n",
       "  color: var(--sklearn-color-text);\n",
       "}\n",
       "\n",
       "/* Toggleable content - dropdown */\n",
       "\n",
       "#sk-container-id-5 div.sk-toggleable__content {\n",
       "  max-height: 0;\n",
       "  max-width: 0;\n",
       "  overflow: hidden;\n",
       "  text-align: left;\n",
       "  /* unfitted */\n",
       "  background-color: var(--sklearn-color-unfitted-level-0);\n",
       "}\n",
       "\n",
       "#sk-container-id-5 div.sk-toggleable__content.fitted {\n",
       "  /* fitted */\n",
       "  background-color: var(--sklearn-color-fitted-level-0);\n",
       "}\n",
       "\n",
       "#sk-container-id-5 div.sk-toggleable__content pre {\n",
       "  margin: 0.2em;\n",
       "  border-radius: 0.25em;\n",
       "  color: var(--sklearn-color-text);\n",
       "  /* unfitted */\n",
       "  background-color: var(--sklearn-color-unfitted-level-0);\n",
       "}\n",
       "\n",
       "#sk-container-id-5 div.sk-toggleable__content.fitted pre {\n",
       "  /* unfitted */\n",
       "  background-color: var(--sklearn-color-fitted-level-0);\n",
       "}\n",
       "\n",
       "#sk-container-id-5 input.sk-toggleable__control:checked~div.sk-toggleable__content {\n",
       "  /* Expand drop-down */\n",
       "  max-height: 200px;\n",
       "  max-width: 100%;\n",
       "  overflow: auto;\n",
       "}\n",
       "\n",
       "#sk-container-id-5 input.sk-toggleable__control:checked~label.sk-toggleable__label-arrow:before {\n",
       "  content: \"▾\";\n",
       "}\n",
       "\n",
       "/* Pipeline/ColumnTransformer-specific style */\n",
       "\n",
       "#sk-container-id-5 div.sk-label input.sk-toggleable__control:checked~label.sk-toggleable__label {\n",
       "  color: var(--sklearn-color-text);\n",
       "  background-color: var(--sklearn-color-unfitted-level-2);\n",
       "}\n",
       "\n",
       "#sk-container-id-5 div.sk-label.fitted input.sk-toggleable__control:checked~label.sk-toggleable__label {\n",
       "  background-color: var(--sklearn-color-fitted-level-2);\n",
       "}\n",
       "\n",
       "/* Estimator-specific style */\n",
       "\n",
       "/* Colorize estimator box */\n",
       "#sk-container-id-5 div.sk-estimator input.sk-toggleable__control:checked~label.sk-toggleable__label {\n",
       "  /* unfitted */\n",
       "  background-color: var(--sklearn-color-unfitted-level-2);\n",
       "}\n",
       "\n",
       "#sk-container-id-5 div.sk-estimator.fitted input.sk-toggleable__control:checked~label.sk-toggleable__label {\n",
       "  /* fitted */\n",
       "  background-color: var(--sklearn-color-fitted-level-2);\n",
       "}\n",
       "\n",
       "#sk-container-id-5 div.sk-label label.sk-toggleable__label,\n",
       "#sk-container-id-5 div.sk-label label {\n",
       "  /* The background is the default theme color */\n",
       "  color: var(--sklearn-color-text-on-default-background);\n",
       "}\n",
       "\n",
       "/* On hover, darken the color of the background */\n",
       "#sk-container-id-5 div.sk-label:hover label.sk-toggleable__label {\n",
       "  color: var(--sklearn-color-text);\n",
       "  background-color: var(--sklearn-color-unfitted-level-2);\n",
       "}\n",
       "\n",
       "/* Label box, darken color on hover, fitted */\n",
       "#sk-container-id-5 div.sk-label.fitted:hover label.sk-toggleable__label.fitted {\n",
       "  color: var(--sklearn-color-text);\n",
       "  background-color: var(--sklearn-color-fitted-level-2);\n",
       "}\n",
       "\n",
       "/* Estimator label */\n",
       "\n",
       "#sk-container-id-5 div.sk-label label {\n",
       "  font-family: monospace;\n",
       "  font-weight: bold;\n",
       "  display: inline-block;\n",
       "  line-height: 1.2em;\n",
       "}\n",
       "\n",
       "#sk-container-id-5 div.sk-label-container {\n",
       "  text-align: center;\n",
       "}\n",
       "\n",
       "/* Estimator-specific */\n",
       "#sk-container-id-5 div.sk-estimator {\n",
       "  font-family: monospace;\n",
       "  border: 1px dotted var(--sklearn-color-border-box);\n",
       "  border-radius: 0.25em;\n",
       "  box-sizing: border-box;\n",
       "  margin-bottom: 0.5em;\n",
       "  /* unfitted */\n",
       "  background-color: var(--sklearn-color-unfitted-level-0);\n",
       "}\n",
       "\n",
       "#sk-container-id-5 div.sk-estimator.fitted {\n",
       "  /* fitted */\n",
       "  background-color: var(--sklearn-color-fitted-level-0);\n",
       "}\n",
       "\n",
       "/* on hover */\n",
       "#sk-container-id-5 div.sk-estimator:hover {\n",
       "  /* unfitted */\n",
       "  background-color: var(--sklearn-color-unfitted-level-2);\n",
       "}\n",
       "\n",
       "#sk-container-id-5 div.sk-estimator.fitted:hover {\n",
       "  /* fitted */\n",
       "  background-color: var(--sklearn-color-fitted-level-2);\n",
       "}\n",
       "\n",
       "/* Specification for estimator info (e.g. \"i\" and \"?\") */\n",
       "\n",
       "/* Common style for \"i\" and \"?\" */\n",
       "\n",
       ".sk-estimator-doc-link,\n",
       "a:link.sk-estimator-doc-link,\n",
       "a:visited.sk-estimator-doc-link {\n",
       "  float: right;\n",
       "  font-size: smaller;\n",
       "  line-height: 1em;\n",
       "  font-family: monospace;\n",
       "  background-color: var(--sklearn-color-background);\n",
       "  border-radius: 1em;\n",
       "  height: 1em;\n",
       "  width: 1em;\n",
       "  text-decoration: none !important;\n",
       "  margin-left: 1ex;\n",
       "  /* unfitted */\n",
       "  border: var(--sklearn-color-unfitted-level-1) 1pt solid;\n",
       "  color: var(--sklearn-color-unfitted-level-1);\n",
       "}\n",
       "\n",
       ".sk-estimator-doc-link.fitted,\n",
       "a:link.sk-estimator-doc-link.fitted,\n",
       "a:visited.sk-estimator-doc-link.fitted {\n",
       "  /* fitted */\n",
       "  border: var(--sklearn-color-fitted-level-1) 1pt solid;\n",
       "  color: var(--sklearn-color-fitted-level-1);\n",
       "}\n",
       "\n",
       "/* On hover */\n",
       "div.sk-estimator:hover .sk-estimator-doc-link:hover,\n",
       ".sk-estimator-doc-link:hover,\n",
       "div.sk-label-container:hover .sk-estimator-doc-link:hover,\n",
       ".sk-estimator-doc-link:hover {\n",
       "  /* unfitted */\n",
       "  background-color: var(--sklearn-color-unfitted-level-3);\n",
       "  color: var(--sklearn-color-background);\n",
       "  text-decoration: none;\n",
       "}\n",
       "\n",
       "div.sk-estimator.fitted:hover .sk-estimator-doc-link.fitted:hover,\n",
       ".sk-estimator-doc-link.fitted:hover,\n",
       "div.sk-label-container:hover .sk-estimator-doc-link.fitted:hover,\n",
       ".sk-estimator-doc-link.fitted:hover {\n",
       "  /* fitted */\n",
       "  background-color: var(--sklearn-color-fitted-level-3);\n",
       "  color: var(--sklearn-color-background);\n",
       "  text-decoration: none;\n",
       "}\n",
       "\n",
       "/* Span, style for the box shown on hovering the info icon */\n",
       ".sk-estimator-doc-link span {\n",
       "  display: none;\n",
       "  z-index: 9999;\n",
       "  position: relative;\n",
       "  font-weight: normal;\n",
       "  right: .2ex;\n",
       "  padding: .5ex;\n",
       "  margin: .5ex;\n",
       "  width: min-content;\n",
       "  min-width: 20ex;\n",
       "  max-width: 50ex;\n",
       "  color: var(--sklearn-color-text);\n",
       "  box-shadow: 2pt 2pt 4pt #999;\n",
       "  /* unfitted */\n",
       "  background: var(--sklearn-color-unfitted-level-0);\n",
       "  border: .5pt solid var(--sklearn-color-unfitted-level-3);\n",
       "}\n",
       "\n",
       ".sk-estimator-doc-link.fitted span {\n",
       "  /* fitted */\n",
       "  background: var(--sklearn-color-fitted-level-0);\n",
       "  border: var(--sklearn-color-fitted-level-3);\n",
       "}\n",
       "\n",
       ".sk-estimator-doc-link:hover span {\n",
       "  display: block;\n",
       "}\n",
       "\n",
       "/* \"?\"-specific style due to the `<a>` HTML tag */\n",
       "\n",
       "#sk-container-id-5 a.estimator_doc_link {\n",
       "  float: right;\n",
       "  font-size: 1rem;\n",
       "  line-height: 1em;\n",
       "  font-family: monospace;\n",
       "  background-color: var(--sklearn-color-background);\n",
       "  border-radius: 1rem;\n",
       "  height: 1rem;\n",
       "  width: 1rem;\n",
       "  text-decoration: none;\n",
       "  /* unfitted */\n",
       "  color: var(--sklearn-color-unfitted-level-1);\n",
       "  border: var(--sklearn-color-unfitted-level-1) 1pt solid;\n",
       "}\n",
       "\n",
       "#sk-container-id-5 a.estimator_doc_link.fitted {\n",
       "  /* fitted */\n",
       "  border: var(--sklearn-color-fitted-level-1) 1pt solid;\n",
       "  color: var(--sklearn-color-fitted-level-1);\n",
       "}\n",
       "\n",
       "/* On hover */\n",
       "#sk-container-id-5 a.estimator_doc_link:hover {\n",
       "  /* unfitted */\n",
       "  background-color: var(--sklearn-color-unfitted-level-3);\n",
       "  color: var(--sklearn-color-background);\n",
       "  text-decoration: none;\n",
       "}\n",
       "\n",
       "#sk-container-id-5 a.estimator_doc_link.fitted:hover {\n",
       "  /* fitted */\n",
       "  background-color: var(--sklearn-color-fitted-level-3);\n",
       "}\n",
       "</style><div id=\"sk-container-id-5\" class=\"sk-top-container\"><div class=\"sk-text-repr-fallback\"><pre>LinearRegression()</pre><b>In a Jupyter environment, please rerun this cell to show the HTML representation or trust the notebook. <br />On GitHub, the HTML representation is unable to render, please try loading this page with nbviewer.org.</b></div><div class=\"sk-container\" hidden><div class=\"sk-item\"><div class=\"sk-estimator fitted sk-toggleable\"><input class=\"sk-toggleable__control sk-hidden--visually\" id=\"sk-estimator-id-5\" type=\"checkbox\" checked><label for=\"sk-estimator-id-5\" class=\"sk-toggleable__label fitted sk-toggleable__label-arrow fitted\">&nbsp;&nbsp;LinearRegression<a class=\"sk-estimator-doc-link fitted\" rel=\"noreferrer\" target=\"_blank\" href=\"https://scikit-learn.org/1.4/modules/generated/sklearn.linear_model.LinearRegression.html\">?<span>Documentation for LinearRegression</span></a><span class=\"sk-estimator-doc-link fitted\">i<span>Fitted</span></span></label><div class=\"sk-toggleable__content fitted\"><pre>LinearRegression()</pre></div> </div></div></div></div>"
      ],
      "text/plain": [
       "LinearRegression()"
      ]
     },
     "execution_count": 84,
     "metadata": {},
     "output_type": "execute_result"
    }
   ],
   "source": [
    "# Create and train the model\n",
    "model = LinearRegression()\n",
    "model.fit(X_train, y_train)"
   ]
  },
  {
   "cell_type": "code",
   "execution_count": 85,
   "id": "6b2dcf90-f5af-4906-946b-e47621f012ef",
   "metadata": {},
   "outputs": [
    {
     "name": "stdout",
     "output_type": "stream",
     "text": [
      "intercept: [ 0.04416486 -0.08964643  0.0249412 ]\n",
      "slope: [[-9.30071768e-03  7.24249156e-03 -8.76380291e-03 -6.41438707e-01\n",
      "  -5.12499691e-03 -6.04584313e-03  1.38609570e-03 -8.41220915e-03\n",
      "  -6.89457267e-01 -5.92822538e-03 -2.87082773e-03  1.12844912e-03\n",
      "  -2.48712413e-02 -7.08658581e-01 -5.93226822e-03 -3.51547530e-03\n",
      "   1.19742910e+00  1.86032079e-01  1.05346423e+00 -1.49098261e+00\n",
      "  -1.43804826e+00  5.03686531e-01  8.39477552e-02  1.29513650e+00\n",
      "   2.31543615e+00  2.62329941e+00  2.52046574e-04 -5.25610075e-04\n",
      "  -5.06321042e-05  4.83516524e-04  5.35530479e-01 -2.24286682e+00\n",
      "  -5.25610078e-04 -1.04834792e-05  2.79952386e-04 -1.81386359e-04\n",
      "   5.63596323e-01 -3.59245102e-01 -5.06320995e-05  2.79952390e-04\n",
      "  -3.30823137e-05 -4.34310492e-04  5.11722332e-01  9.11922031e-01\n",
      "   4.83516521e-04 -1.81386359e-04 -4.34310493e-04 -4.95107496e-06\n",
      "  -2.59852607e+00 -3.59515347e-01  5.35530479e-01  5.63596323e-01\n",
      "   5.11722332e-01 -2.59852607e+00  2.51049294e-02 -1.20051779e+00\n",
      "  -2.24286682e+00 -3.59245102e-01  9.11922031e-01 -3.59515347e-01\n",
      "  -1.20051779e+00  3.09415519e+00]\n",
      " [ 1.03479438e-02 -6.92982648e-03  1.49597020e-02  4.82940960e-03\n",
      "  -6.41127200e-01  6.46034451e-03 -7.86023097e-04  1.38816425e-02\n",
      "   5.73284540e-03 -6.89493253e-01  2.41465509e-03 -1.27550951e-03\n",
      "   3.31730249e-02  2.69648068e-03 -7.06246843e-01  2.55124952e-03\n",
      "   2.64148114e-01  4.44197519e-02  8.72009451e-01  4.51820233e-01\n",
      "   6.60360385e-01  1.66954679e-01  2.78257799e-02 -1.59994313e+00\n",
      "  -1.99197938e-02 -7.02132674e-02 -2.85655785e-04  6.31771839e-04\n",
      "   2.12756316e-04 -2.02361625e-04  4.42047742e-02 -3.25242499e-01\n",
      "   6.31771838e-04  1.51159262e-05 -1.07629423e-04 -8.47852981e-05\n",
      "   2.30490639e-02 -7.20219446e-01  2.12756316e-04 -1.07629423e-04\n",
      "  -9.50996943e-06  1.98575031e-04  5.44549798e-02  4.19973953e-01\n",
      "  -2.02361625e-04 -8.47852982e-05  1.98575031e-04  2.44656498e-05\n",
      "  -2.39458040e-01 -6.99298791e-01  4.42047742e-02  2.30490639e-02\n",
      "   5.44549798e-02 -2.39458040e-01  2.21863788e-03  6.82603511e-02\n",
      "  -3.25242499e-01 -7.20219446e-01  4.19973953e-01 -6.99298791e-01\n",
      "   6.82603511e-02  1.02560552e+00]\n",
      " [ 4.53975776e-02  3.00900447e-02 -2.96980717e-02  1.31647107e-02\n",
      "  -1.10617912e-02 -6.39940880e-01 -1.43927682e-02 -4.13002799e-02\n",
      "   6.94170422e-03 -5.62997196e-03 -6.93318407e-01  1.10159860e-02\n",
      "  -1.32243758e-01  7.53713134e-03 -6.61724555e-03 -7.11442772e-01\n",
      "  -1.58981597e+00 -2.44168961e-01 -2.12926032e+00  3.01386997e+00\n",
      "   2.01222188e+00 -6.22108404e-01 -1.03684734e-01 -1.95951937e+00\n",
      "  -3.33648116e+00 -3.88900396e+00  1.92334158e-04 -7.12730313e-03\n",
      "  -1.13348875e-03  2.15742804e-03 -7.82877791e-01  2.43038567e+00\n",
      "  -7.12730313e-03  1.34254895e-04  3.74836031e-03 -3.04811290e-03\n",
      "  -5.59567545e-01  6.49104661e-01 -1.13348876e-03  3.74836031e-03\n",
      "   5.37175337e-05 -9.73355016e-04 -5.21362863e-01 -1.20020402e+00\n",
      "   2.15742804e-03 -3.04811290e-03 -9.73355014e-04 -2.45979676e-05\n",
      "   3.34695167e+00  6.04862817e-01 -7.82877791e-01 -5.59567545e-01\n",
      "  -5.21362863e-01  3.34695167e+00 -3.65035891e-02  1.45284459e+00\n",
      "   2.43038567e+00  6.49104661e-01 -1.20020402e+00  6.04862817e-01\n",
      "   1.45284459e+00 -3.82162283e+00]]\n"
     ]
    }
   ],
   "source": [
    "print(f\"intercept: {model.intercept_}\")\n",
    "print(f\"slope: {model.coef_}\")"
   ]
  },
  {
   "cell_type": "code",
   "execution_count": 86,
   "id": "6a54f77e-c5e7-43cf-8d6b-c1706f612dea",
   "metadata": {},
   "outputs": [],
   "source": [
    "# Make predictions\n",
    "y_pred_train = model.predict(X_train)"
   ]
  },
  {
   "cell_type": "code",
   "execution_count": 87,
   "id": "24d864b3-bb32-4d42-b755-12be4d79035e",
   "metadata": {},
   "outputs": [
    {
     "name": "stdout",
     "output_type": "stream",
     "text": [
      "R² score: 0.80829497431986\n"
     ]
    }
   ],
   "source": [
    "# Evaluate the model\n",
    "r2_train = r2_score(y_train, y_pred_train)\n",
    "print(f'R² score: {r2_train}')"
   ]
  },
  {
   "cell_type": "code",
   "execution_count": 88,
   "id": "67e6df60-2024-4227-b2e0-acbbc6300805",
   "metadata": {},
   "outputs": [],
   "source": [
    "# Make predictions\n",
    "y_pred = model.predict(X_test)"
   ]
  },
  {
   "cell_type": "code",
   "execution_count": 89,
   "id": "6166761c-3694-4e30-a0fc-30ee485468d2",
   "metadata": {},
   "outputs": [
    {
     "name": "stdout",
     "output_type": "stream",
     "text": [
      "R² score: 0.8092941193825959\n",
      "Mean Absolute Error (MAE): 0.1568410366948355\n",
      "Mean Squared Error (MSE): 0.071456071636799\n",
      "Normalized Mean Absolute Error (Normalized MAE): 0.2969969534144954\n",
      "Normalized Mean Squared Error (Normalized MSE): 0.19069493429736906\n"
     ]
    }
   ],
   "source": [
    "# Compute R² score\n",
    "r2 = r2_score(y_test, y_pred)\n",
    "print(f'R² score: {r2}')\n",
    "\n",
    "# Compute MAE\n",
    "mae = mean_absolute_error(y_test, y_pred)\n",
    "print(f'Mean Absolute Error (MAE): {mae}')\n",
    "\n",
    "# Compute MSE\n",
    "mse = mean_squared_error(y_test, y_pred)\n",
    "print(f'Mean Squared Error (MSE): {mse}')\n",
    "\n",
    "# Compute Normalized MAE\n",
    "normalized_mae = mae / np.mean(np.abs(y_test))\n",
    "print(f'Normalized Mean Absolute Error (Normalized MAE): {normalized_mae}')\n",
    "\n",
    "# Compute Normalized MSE\n",
    "normalized_mse = mse / np.mean(np.square(y_test))\n",
    "print(f'Normalized Mean Squared Error (Normalized MSE): {normalized_mse}')\n"
   ]
  },
  {
   "cell_type": "code",
   "execution_count": 20,
   "id": "46c777f8-9b3b-4563-8da0-c41fc5bb4c71",
   "metadata": {},
   "outputs": [
    {
     "data": {
      "text/plain": [
       "array([[-0.05132291, -0.0154987 , -0.93118411],\n",
       "       [ 0.8268751 ,  0.70030951,  0.37714775]])"
      ]
     },
     "execution_count": 20,
     "metadata": {},
     "output_type": "execute_result"
    }
   ],
   "source": [
    "y_pred[:2]"
   ]
  },
  {
   "cell_type": "code",
   "execution_count": 21,
   "id": "84e74491-3021-42ca-afa2-1c74e7793f8f",
   "metadata": {},
   "outputs": [
    {
     "data": {
      "text/plain": [
       "array([[-0.007, -0.064, -1.078],\n",
       "       [ 0.751,  0.676,  0.382]])"
      ]
     },
     "execution_count": 21,
     "metadata": {},
     "output_type": "execute_result"
    }
   ],
   "source": [
    "y_test[:2]"
   ]
  },
  {
   "cell_type": "markdown",
   "id": "42376baf-aefe-49c9-b2af-c85b50b55620",
   "metadata": {},
   "source": [
    "# Ridge Regression"
   ]
  },
  {
   "cell_type": "code",
   "execution_count": 9,
   "id": "d6d648a3-4c26-4ad2-b47a-d89f0237ba00",
   "metadata": {},
   "outputs": [
    {
     "name": "stdout",
     "output_type": "stream",
     "text": [
      "Ridge Regression Multi-Output R² score: 0.8095698325398889\n"
     ]
    }
   ],
   "source": [
    "from sklearn.linear_model import Ridge\n",
    "from sklearn.multioutput import MultiOutputRegressor\n",
    "\n",
    "# Initialize the base Ridge model\n",
    "ridge_base = Ridge(alpha=0.1)\n",
    "\n",
    "# Wrap the Ridge model with MultiOutputRegressor\n",
    "ridge_model = MultiOutputRegressor(ridge_base)\n",
    "\n",
    "# Train the model\n",
    "ridge_model.fit(X_train, y_train)\n",
    "\n",
    "# Predict on the test set\n",
    "y_pred_ridge = ridge_model.predict(X_test)\n",
    "\n",
    "# Compute R² score\n",
    "r2_ridge = r2_score(y_test, y_pred_ridge)\n",
    "print(f'Ridge Regression Multi-Output R² score: {r2_ridge}')"
   ]
  },
  {
   "cell_type": "markdown",
   "id": "f92518fc-a1aa-44ad-8c1d-a9ebc3e0442d",
   "metadata": {},
   "source": [
    "# Lasso Regression"
   ]
  },
  {
   "cell_type": "code",
   "execution_count": 10,
   "id": "fe9a88c2-d885-445e-b13d-4b32eb867857",
   "metadata": {},
   "outputs": [
    {
     "name": "stdout",
     "output_type": "stream",
     "text": [
      "Lasso Regression Multi-Output R² score: 0.80355153496684\n"
     ]
    }
   ],
   "source": [
    "from sklearn.linear_model import Lasso\n",
    "from sklearn.multioutput import MultiOutputRegressor\n",
    "\n",
    "# Initialize the base Lasso model\n",
    "lasso_base = Lasso(alpha=0.01)\n",
    "\n",
    "# Wrap the Lasso model with MultiOutputRegressor\n",
    "lasso_model = MultiOutputRegressor(lasso_base)\n",
    "\n",
    "# Train the model\n",
    "lasso_model.fit(X_train, y_train)\n",
    "\n",
    "# Predict on the test set\n",
    "y_pred_lasso = lasso_model.predict(X_test)\n",
    "\n",
    "# Compute R² score\n",
    "r2_lasso = r2_score(y_test, y_pred_lasso)\n",
    "print(f'Lasso Regression Multi-Output R² score: {r2_lasso}')"
   ]
  },
  {
   "cell_type": "markdown",
   "id": "970a7380-a3bc-413a-81ae-decd5e936c0f",
   "metadata": {},
   "source": [
    "# Polynomial Regression\n",
    "- <span style=\"color:red\">takes too long</span>"
   ]
  },
  {
   "cell_type": "markdown",
   "id": "c10de697-ed9c-4da7-a24a-459db61c06a5",
   "metadata": {},
   "source": [
    "### Order 2"
   ]
  },
  {
   "cell_type": "code",
   "execution_count": null,
   "id": "f2ddec87-aa91-4572-811e-f98e0cf5c5dd",
   "metadata": {},
   "outputs": [],
   "source": [
    "from sklearn.preprocessing import PolynomialFeatures\n",
    "from sklearn.linear_model import LinearRegression\n",
    "\n",
    "# Polynomial regression of order 2\n",
    "poly2 = PolynomialFeatures(degree=2)\n",
    "X_train_poly2 = poly2.fit_transform(X_train)\n",
    "X_test_poly2 = poly2.transform(X_test)\n",
    "\n",
    "# Fit the model\n",
    "model_poly2 = LinearRegression()\n",
    "model_poly2.fit(X_train_poly2, y_train)\n",
    "\n",
    "# Predict on the test set\n",
    "y_pred_poly2 = model_poly2.predict(X_test_poly2)\n",
    "\n",
    "# Compute R² score\n",
    "r2_poly2 = r2_score(y_test, y_pred_poly2)\n",
    "print(f'Polynomial Regression Order 2 R² score: {r2_poly2}')"
   ]
  },
  {
   "cell_type": "markdown",
   "id": "9cb4c64d-f39d-4d9d-a570-abe07d4d042c",
   "metadata": {},
   "source": [
    "### Order 3"
   ]
  },
  {
   "cell_type": "code",
   "execution_count": null,
   "id": "a2331c39-cdc5-460d-9aa0-6977884cbdbb",
   "metadata": {},
   "outputs": [],
   "source": [
    "# Polynomial regression of order 3\n",
    "poly3 = PolynomialFeatures(degree=3)\n",
    "X_train_poly3 = poly3.fit_transform(X_train)\n",
    "X_test_poly3 = poly3.transform(X_test)\n",
    "\n",
    "# Fit the model\n",
    "model_poly3 = LinearRegression()\n",
    "model_poly3.fit(X_train_poly3, y_train)\n",
    "\n",
    "# Predict on the test set\n",
    "y_pred_poly3 = model_poly3.predict(X_test_poly3)\n",
    "\n",
    "# Compute R² score\n",
    "r2_poly3 = r2_score(y_test, y_pred_poly3)\n",
    "print(f'Polynomial Regression Order 3 R² score: {r2_poly3}')"
   ]
  },
  {
   "cell_type": "markdown",
   "id": "14c1513c-cb0d-4fe8-9e70-00dd6aefc204",
   "metadata": {},
   "source": [
    "# Leaderboard\n",
    "- no descriptor no extras\n",
    "    - linear regression: 0.807\n",
    "- no descriptor sorted\n",
    "    - linear regression: 0.808\n",
    "- no descriptor sorted and descriptor added at the end:\n",
    "    - linear regression: 0.809\n",
    "    - advanced neural network: 0.862 "
   ]
  },
  {
   "cell_type": "code",
   "execution_count": null,
   "id": "8b32d437-9857-4f49-87c5-9103fd210d35",
   "metadata": {},
   "outputs": [],
   "source": []
  }
 ],
 "metadata": {
  "kernelspec": {
   "display_name": "Python 3 (ipykernel)",
   "language": "python",
   "name": "python3"
  },
  "language_info": {
   "codemirror_mode": {
    "name": "ipython",
    "version": 3
   },
   "file_extension": ".py",
   "mimetype": "text/x-python",
   "name": "python",
   "nbconvert_exporter": "python",
   "pygments_lexer": "ipython3",
   "version": "3.11.9"
  }
 },
 "nbformat": 4,
 "nbformat_minor": 5
}
