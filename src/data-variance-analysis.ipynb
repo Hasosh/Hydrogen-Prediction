{
 "cells": [
  {
   "cell_type": "code",
   "execution_count": 2,
   "id": "ecf000a8-334a-4a56-9275-15db5f096065",
   "metadata": {},
   "outputs": [],
   "source": [
    "import numpy as np"
   ]
  },
  {
   "cell_type": "code",
   "execution_count": 8,
   "id": "6b47a807-e64b-42b8-923f-a734e4f6cbc2",
   "metadata": {},
   "outputs": [],
   "source": [
    "import pickle\n",
    "\n",
    "with open(\"../data/centralatom-C_numberhydrogens-1/data-for-analysis.pkl\", 'rb') as file:\n",
    "    data = pickle.load(file)"
   ]
  },
  {
   "cell_type": "code",
   "execution_count": 9,
   "id": "ead1e298-3c5d-4f78-ad5a-78bdccfc504e",
   "metadata": {},
   "outputs": [],
   "source": [
    "X, y = data"
   ]
  },
  {
   "cell_type": "markdown",
   "id": "cba87630-9cb4-4b2b-b4b0-6d070ebd4836",
   "metadata": {},
   "source": [
    "# Find out samples in X that are the same in terms of molecules and bondings!"
   ]
  },
  {
   "cell_type": "code",
   "execution_count": 19,
   "id": "cb3b1255-52a0-4328-ac2a-8bbfd578c741",
   "metadata": {},
   "outputs": [],
   "source": [
    "constellations = []\n",
    "for sample in X:\n",
    "    current = []\n",
    "    for i, value in enumerate(sample):\n",
    "        if int(i-1) % 5 == 0:\n",
    "            current.append(value)\n",
    "        elif int(i-2) % 5 == 0:\n",
    "            current.append(value)\n",
    "    constellations.append(current)"
   ]
  },
  {
   "cell_type": "code",
   "execution_count": 22,
   "id": "806538ef-d96e-4a66-a905-e057745ea051",
   "metadata": {},
   "outputs": [
    {
     "data": {
      "text/plain": [
       "[[6,\n",
       "  6,\n",
       "  1,\n",
       "  0.5790000000000006,\n",
       "  0.3359999999999985,\n",
       "  1.25,\n",
       "  6,\n",
       "  2,\n",
       "  0.6099999999999994,\n",
       "  -0.9750000000000014,\n",
       "  -0.8120000000000012],\n",
       " [6,\n",
       "  6,\n",
       "  1,\n",
       "  -1.1920000000000002,\n",
       "  0.6399999999999988,\n",
       "  -0.4410000000000025,\n",
       "  6,\n",
       "  2,\n",
       "  0.5790000000000006,\n",
       "  0.32899999999999885,\n",
       "  1.2489999999999988]]"
      ]
     },
     "execution_count": 22,
     "metadata": {},
     "output_type": "execute_result"
    }
   ],
   "source": [
    "X[:2]"
   ]
  },
  {
   "cell_type": "code",
   "execution_count": 25,
   "id": "df88c40d-7dd0-48f7-8956-c4ae276eae06",
   "metadata": {},
   "outputs": [
    {
     "data": {
      "text/plain": [
       "[[6, 1, 6, 2],\n",
       " [6, 1, 6, 2],\n",
       " [6, 1, 6, 1, 7, 1],\n",
       " [6, 1, 6, 1, 8, 1],\n",
       " [6, 2, 7, 1],\n",
       " [6, 1, 7, 2],\n",
       " [6, 2, 6, 1],\n",
       " [6, 1, 6, 2],\n",
       " [6, 1, 6, 2],\n",
       " [6, 2, 6, 1]]"
      ]
     },
     "execution_count": 25,
     "metadata": {},
     "output_type": "execute_result"
    }
   ],
   "source": [
    "constellations[:10]"
   ]
  },
  {
   "cell_type": "markdown",
   "id": "fe4a587e-83a7-46fa-8c92-48ce8935f984",
   "metadata": {},
   "source": [
    "## make tuples"
   ]
  },
  {
   "cell_type": "code",
   "execution_count": 26,
   "id": "0a1bc6ac-9852-49ac-99db-36151c921e67",
   "metadata": {},
   "outputs": [
    {
     "data": {
      "text/plain": [
       "[[(6, 1), (6, 2)],\n",
       " [(6, 1), (6, 2)],\n",
       " [(6, 1), (6, 1), (7, 1)],\n",
       " [(6, 1), (6, 1), (8, 1)],\n",
       " [(6, 2), (7, 1)],\n",
       " [(6, 1), (7, 2)],\n",
       " [(6, 2), (6, 1)],\n",
       " [(6, 1), (6, 2)],\n",
       " [(6, 1), (6, 2)],\n",
       " [(6, 2), (6, 1)]]"
      ]
     },
     "execution_count": 26,
     "metadata": {},
     "output_type": "execute_result"
    }
   ],
   "source": [
    "# Function to convert a list of integers to a list of tuples\n",
    "def make_tuples(constellation):\n",
    "    return [(constellation[i], constellation[i + 1]) for i in range(0, len(constellation), 2)]\n",
    "\n",
    "# Convert the lists into tuples\n",
    "constellations_tuples = [make_tuples(constellation) for constellation in constellations]\n",
    "constellations_tuples[:10]"
   ]
  },
  {
   "cell_type": "markdown",
   "id": "05742f04-25ff-4051-9843-a075f6fd67e5",
   "metadata": {},
   "source": [
    "## sort tuples first wrt to atomic number then wrt value order"
   ]
  },
  {
   "cell_type": "code",
   "execution_count": 27,
   "id": "6b1aad11-249e-469d-83b8-57e4c714a0db",
   "metadata": {},
   "outputs": [
    {
     "data": {
      "text/plain": [
       "[[(6, 1), (6, 2)],\n",
       " [(6, 1), (6, 2)],\n",
       " [(6, 1), (6, 1), (7, 1)],\n",
       " [(6, 1), (6, 1), (8, 1)],\n",
       " [(6, 2), (7, 1)],\n",
       " [(6, 1), (7, 2)],\n",
       " [(6, 1), (6, 2)],\n",
       " [(6, 1), (6, 2)],\n",
       " [(6, 1), (6, 2)],\n",
       " [(6, 1), (6, 2)]]"
      ]
     },
     "execution_count": 27,
     "metadata": {},
     "output_type": "execute_result"
    }
   ],
   "source": [
    "# Function to sort a constellation by atomic number and then by value order\n",
    "def sort_constellation(constellation):\n",
    "    return sorted(constellation, key=lambda x: (x[0], x[1]))\n",
    "\n",
    "# Sort all constellations first\n",
    "sorted_constellations = [sort_constellation(constellation) for constellation in constellations_tuples]\n",
    "sorted_constellations[:10]"
   ]
  },
  {
   "cell_type": "markdown",
   "id": "9339c845-236d-49d7-b827-02d7e617898f",
   "metadata": {},
   "source": [
    "## group the tuples"
   ]
  },
  {
   "cell_type": "code",
   "execution_count": null,
   "id": "08b5c0d2-077c-44bd-bfbf-61ea285bcf08",
   "metadata": {},
   "outputs": [],
   "source": [
    "# Dictionary to store groups of constellations with their indices\n",
    "constellation_groups = {}\n",
    "\n",
    "# Iterate through the sorted constellations\n",
    "for index, sorted_constellation in enumerate(sorted_constellations):\n",
    "    # Convert the list to a tuple to use as a dictionary key\n",
    "    constellation_key = tuple(sorted_constellation)\n",
    "    \n",
    "    # If the constellation is already in the dictionary, append the index\n",
    "    if constellation_key in constellation_groups:\n",
    "        constellation_groups[constellation_key].append(index)\n",
    "    # Otherwise, create a new entry with the current index\n",
    "    else:\n",
    "        constellation_groups[constellation_key] = [index]"
   ]
  },
  {
   "cell_type": "code",
   "execution_count": 29,
   "id": "8df305d7-f92a-48c6-a48f-fb6f8d021aa6",
   "metadata": {},
   "outputs": [
    {
     "data": {
      "text/plain": [
       "dict_keys([((6, 1), (6, 2)), ((6, 1), (6, 1), (7, 1)), ((6, 1), (6, 1), (8, 1)), ((6, 2), (7, 1)), ((6, 1), (7, 2)), ((6, 1), (6, 1), (6, 1)), ((6, 1), (7, 1), (8, 1)), ((7, 1), (7, 2)), ((6, 1), (7, 1), (15, 1)), ((6, 2), (16, 1)), ((6, 1), (8, 1), (8, 1)), ((5, 1), (6, 1), (7, 1)), ((6, 2), (8, 1)), ((7, 1), (8, 2)), ((6, 1), (6, 1), (17, 1)), ((6, 1), (8, 1), (34, 1)), ((6, 1), (6, 1), (44, 1)), ((6, 1), (6, 1), (9, 1)), ((7, 2), (16, 1)), ((6, 1), (6, 1), (16, 1)), ((6, 1), (7, 1), (16, 1)), ((6, 1), (16, 1), (16, 1)), ((6, 1), (8, 2)), ((6, 3),), ((6, 1), (7, 1), (7, 1)), ((6, 1), (9, 1), (9, 1)), ((7, 1), (16, 2)), ((6, 1), (8, 1), (16, 1)), ((6, 2), (34, 1)), ((6, 1), (15, 1), (15, 1)), ((7, 1), (7, 1), (7, 1)), ((6, 1), (8, 1), (15, 1)), ((6, 1), (15, 1), (16, 1)), ((6, 1), (6, 2), (76, 1)), ((7, 1), (15, 1), (15, 1)), ((5, 1), (6, 2)), ((8, 1), (8, 1), (15, 1)), ((9, 1), (9, 1), (16, 1)), ((6, 1), (6, 1), (53, 1)), ((6, 2), (15, 1)), ((6, 1), (6, 1), (34, 1)), ((8, 1), (9, 1), (9, 1)), ((6, 1), (6, 1), (15, 1)), ((7, 2), (8, 1)), ((6, 1), (16, 2)), ((7, 1), (8, 1), (8, 1)), ((6, 1), (17, 1), (17, 1)), ((7, 1), (7, 1), (8, 1)), ((6, 1), (6, 2), (44, 1)), ((7, 1), (7, 1), (16, 1)), ((6, 1), (6, 1), (6, 1), (77, 1)), ((6, 1), (8, 1), (17, 1)), ((8, 1), (8, 2)), ((6, 1), (7, 1), (17, 1)), ((8, 1), (8, 1), (8, 1)), ((6, 1), (6, 1), (26, 1)), ((6, 1), (6, 1), (35, 1)), ((7, 1), (9, 1), (9, 1)), ((9, 1), (15, 1), (15, 1)), ((15, 1), (15, 1), (17, 1)), ((7, 1), (8, 1), (16, 1)), ((6, 1), (8, 1), (9, 1)), ((6, 2), (17, 1)), ((6, 1), (35, 1), (35, 1)), ((6, 2), (35, 1)), ((9, 1), (9, 1), (9, 1)), ((7, 3),), ((6, 1), (16, 1), (17, 1)), ((6, 1), (8, 1)), ((6, 1), (6, 1), (14, 1)), ((6, 1), (6, 1), (76, 1)), ((6, 1), (6, 2), (26, 1)), ((6, 1), (9, 1), (15, 1)), ((8, 2), (16, 1)), ((15, 1), (15, 1), (35, 1)), ((8, 1), (8, 1), (16, 1)), ((8, 2), (26, 1)), ((6, 1), (17, 1), (35, 1)), ((6, 1), (7, 1), (34, 1)), ((5, 1), (6, 1), (16, 1)), ((35, 1), (35, 1), (35, 1)), ((17, 1), (17, 1), (17, 1)), ((8, 3), (44, 1)), ((5, 1), (6, 1), (27, 1)), ((6, 1), (6, 1), (46, 1)), ((5, 1), (6, 1), (6, 1)), ((6, 1), (7, 1), (9, 1)), ((6, 2), (78, 1)), ((6, 1), (6, 2), (75, 1)), ((6, 1), (7, 1), (53, 1)), ((7, 1), (7, 1), (44, 1)), ((7, 1), (16, 1), (16, 1)), ((6, 1), (6, 1), (6, 2))])"
      ]
     },
     "execution_count": 29,
     "metadata": {},
     "output_type": "execute_result"
    }
   ],
   "source": [
    "constellation_groups.keys()"
   ]
  },
  {
   "cell_type": "code",
   "execution_count": 30,
   "id": "13c4a369-5ce9-4427-92ce-ccb451067f02",
   "metadata": {},
   "outputs": [
    {
     "data": {
      "text/plain": [
       "93"
      ]
     },
     "execution_count": 30,
     "metadata": {},
     "output_type": "execute_result"
    }
   ],
   "source": [
    "len(constellation_groups.keys())"
   ]
  },
  {
   "cell_type": "markdown",
   "id": "13c6abd7-365b-4c6f-bd26-bb5faa9dd4e9",
   "metadata": {},
   "source": [
    "# Go through the indices of group (6, 1), (6, 2)"
   ]
  },
  {
   "cell_type": "code",
   "execution_count": 34,
   "id": "aa7fcd82-c3e1-43a5-ba42-e9fb33bcc2b5",
   "metadata": {},
   "outputs": [],
   "source": [
    "target_X = [X[i] for i in constellation_groups[((6, 1), (6, 2))]]\n",
    "target_y = [y[i] for i in constellation_groups[((6, 1), (6, 2))]]"
   ]
  },
  {
   "cell_type": "markdown",
   "id": "2b467996-b5b5-4066-b77d-48e3a7d5b44b",
   "metadata": {},
   "source": [
    "# Show statistics of the distance from central atom to hydrogen for the group (6,1),(6,2)"
   ]
  },
  {
   "cell_type": "code",
   "execution_count": 35,
   "id": "2e4fd60a-48fd-4709-8b4a-774ec7739a20",
   "metadata": {},
   "outputs": [],
   "source": [
    "# Compute the length of each 3D vector\n",
    "central_to_hydrogen_distances = np.linalg.norm(target_y, axis=1)"
   ]
  },
  {
   "cell_type": "code",
   "execution_count": 37,
   "id": "53deba5f-b9d5-45d8-af17-cb6d0d2aff3c",
   "metadata": {},
   "outputs": [
    {
     "data": {
      "text/plain": [
       "array([1.10359503, 1.10338751, 1.10351665, 1.10373412, 1.10367115,\n",
       "       1.10353523, 1.10322527, 1.10262686, 1.10259195, 1.07986851])"
      ]
     },
     "execution_count": 37,
     "metadata": {},
     "output_type": "execute_result"
    }
   ],
   "source": [
    "central_to_hydrogen_distances[:10]"
   ]
  },
  {
   "cell_type": "code",
   "execution_count": 39,
   "id": "fa13142d-4f5b-48ee-bb8c-088e9d2d434a",
   "metadata": {},
   "outputs": [
    {
     "data": {
      "image/png": "[encoded data removed]",
      "text/plain": [
       "<Figure size 640x480 with 1 Axes>"
      ]
     },
     "metadata": {},
     "output_type": "display_data"
    }
   ],
   "source": [
    "import matplotlib.pyplot as plt\n",
    "%matplotlib inline\n",
    "\n",
    "# Create a distribution plot of the lengths\n",
    "plt.hist(central_to_hydrogen_distances, bins=1000, edgecolor='black')\n",
    "plt.title('Distribution of 3D Vector Lengths')\n",
    "plt.xlabel('Length')\n",
    "plt.ylabel('Frequency')\n",
    "plt.show()"
   ]
  },
  {
   "cell_type": "code",
   "execution_count": 40,
   "id": "7be54cfe-0169-4972-b836-d700cc33c32e",
   "metadata": {},
   "outputs": [
    {
     "name": "stderr",
     "output_type": "stream",
     "text": [
      "C:\\Users\\Hasan\\AppData\\Local\\Temp\\ipykernel_19944\\2693222057.py:4: FutureWarning: \n",
      "\n",
      "`shade` is now deprecated in favor of `fill`; setting `fill=True`.\n",
      "This will become an error in seaborn v0.14.0; please update your code.\n",
      "\n",
      "  sns.kdeplot(central_to_hydrogen_distances, shade=True)\n"
     ]
    },
    {
     "data": {
      "image/png": "[encoded data removed]",
      "text/plain": [
       "<Figure size 640x480 with 1 Axes>"
      ]
     },
     "metadata": {},
     "output_type": "display_data"
    }
   ],
   "source": [
    "import seaborn as sns\n",
    "\n",
    "# Create a KDE plot of the lengths\n",
    "sns.kdeplot(central_to_hydrogen_distances, shade=True)\n",
    "plt.title('KDE Plot of 3D Vector Lengths')\n",
    "plt.xlabel('Length')\n",
    "plt.ylabel('Density')\n",
    "plt.show()"
   ]
  },
  {
   "cell_type": "code",
   "execution_count": 42,
   "id": "318660ef-cfee-47c6-b9a6-8f99208cece9",
   "metadata": {},
   "outputs": [
    {
     "data": {
      "image/png": "[encoded data removed]",
      "text/plain": [
       "<Figure size 640x480 with 1 Axes>"
      ]
     },
     "metadata": {},
     "output_type": "display_data"
    }
   ],
   "source": [
    "# Create a boxplot of the lengths\n",
    "sns.boxplot(y=central_to_hydrogen_distances)\n",
    "plt.title('Boxplot of 3D Vector Lengths')\n",
    "plt.xlabel('Length')\n",
    "plt.show()"
   ]
  },
  {
   "cell_type": "code",
   "execution_count": 45,
   "id": "17cdb9d0-cbd4-4ee0-a47b-b7dc925c2cbc",
   "metadata": {},
   "outputs": [
    {
     "name": "stdout",
     "output_type": "stream",
     "text": [
      "Mean:  1.0816236431117139\n",
      "Mean:  7.056864065533455e-05\n"
     ]
    }
   ],
   "source": [
    "print(\"Mean: \", np.mean(central_to_hydrogen_distances))\n",
    "print(\"Mean: \", np.var(central_to_hydrogen_distances))"
   ]
  },
  {
   "cell_type": "code",
   "execution_count": null,
   "id": "1116db7c-3b1f-4dd8-a248-106a30d783fc",
   "metadata": {},
   "outputs": [],
   "source": []
  }
 ],
 "metadata": {
  "kernelspec": {
   "display_name": "Python 3 (ipykernel)",
   "language": "python",
   "name": "python3"
  },
  "language_info": {
   "codemirror_mode": {
    "name": "ipython",
    "version": 3
   },
   "file_extension": ".py",
   "mimetype": "text/x-python",
   "name": "python",
   "nbconvert_exporter": "python",
   "pygments_lexer": "ipython3",
   "version": "3.11.9"
  }
 },
 "nbformat": 4,
 "nbformat_minor": 5
}
