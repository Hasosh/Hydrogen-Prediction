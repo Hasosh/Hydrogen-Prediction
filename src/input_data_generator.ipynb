{
 "cells": [
  {
   "cell_type": "code",
   "execution_count": 1,
   "id": "d387bab4-e2a4-4ec2-9d44-a4a1cb16cd00",
   "metadata": {},
   "outputs": [],
   "source": [
    "from gemmi import cif\n",
    "import pandas as pd\n",
    "import numpy as np\n",
    "import matplotlib.pyplot as plt\n",
    "from tqdm import tqdm\n",
    "import gemmi"
   ]
  },
  {
   "cell_type": "code",
   "execution_count": 2,
   "id": "304c33dc-b118-4cea-bc99-0be67c9fdc2f",
   "metadata": {},
   "outputs": [],
   "source": [
    "atom_df = pd.read_csv('../data/atom_df_extended.csv')\n",
    "bond_df = pd.read_csv('../data/bond_df.csv')"
   ]
  },
  {
   "cell_type": "code",
   "execution_count": 3,
   "id": "fb215f54-ffe8-4cf9-8f47-c5d690187f23",
   "metadata": {},
   "outputs": [
    {
     "name": "stdout",
     "output_type": "stream",
     "text": [
      "(2041187, 8)\n",
      "(2121450, 4)\n"
     ]
    }
   ],
   "source": [
    "print(atom_df.shape)\n",
    "print(bond_df.shape)"
   ]
  },
  {
   "cell_type": "code",
   "execution_count": 4,
   "id": "f5ff2e65-f6e4-4491-ad85-ead704212b44",
   "metadata": {},
   "outputs": [
    {
     "data": {
      "text/html": [
       "<div>\n",
       "<style scoped>\n",
       "    .dataframe tbody tr th:only-of-type {\n",
       "        vertical-align: middle;\n",
       "    }\n",
       "\n",
       "    .dataframe tbody tr th {\n",
       "        vertical-align: top;\n",
       "    }\n",
       "\n",
       "    .dataframe thead th {\n",
       "        text-align: right;\n",
       "    }\n",
       "</style>\n",
       "<table border=\"1\" class=\"dataframe\">\n",
       "  <thead>\n",
       "    <tr style=\"text-align: right;\">\n",
       "      <th></th>\n",
       "      <th>comp_id</th>\n",
       "      <th>atom_id</th>\n",
       "      <th>type_symbol</th>\n",
       "      <th>model_Cartn_x</th>\n",
       "      <th>model_Cartn_y</th>\n",
       "      <th>model_Cartn_z</th>\n",
       "      <th>is_hydrogen</th>\n",
       "      <th>bonded_hydrogens</th>\n",
       "    </tr>\n",
       "  </thead>\n",
       "  <tbody>\n",
       "    <tr>\n",
       "      <th>0</th>\n",
       "      <td>000</td>\n",
       "      <td>C</td>\n",
       "      <td>C</td>\n",
       "      <td>32.880</td>\n",
       "      <td>-0.090</td>\n",
       "      <td>51.314</td>\n",
       "      <td>False</td>\n",
       "      <td>0.0</td>\n",
       "    </tr>\n",
       "    <tr>\n",
       "      <th>1</th>\n",
       "      <td>000</td>\n",
       "      <td>O</td>\n",
       "      <td>O</td>\n",
       "      <td>32.160</td>\n",
       "      <td>0.180</td>\n",
       "      <td>50.105</td>\n",
       "      <td>False</td>\n",
       "      <td>0.0</td>\n",
       "    </tr>\n",
       "    <tr>\n",
       "      <th>2</th>\n",
       "      <td>000</td>\n",
       "      <td>OA</td>\n",
       "      <td>O</td>\n",
       "      <td>34.147</td>\n",
       "      <td>-0.940</td>\n",
       "      <td>51.249</td>\n",
       "      <td>False</td>\n",
       "      <td>0.0</td>\n",
       "    </tr>\n",
       "    <tr>\n",
       "      <th>3</th>\n",
       "      <td>000</td>\n",
       "      <td>CB</td>\n",
       "      <td>C</td>\n",
       "      <td>33.872</td>\n",
       "      <td>-2.227</td>\n",
       "      <td>50.459</td>\n",
       "      <td>False</td>\n",
       "      <td>3.0</td>\n",
       "    </tr>\n",
       "    <tr>\n",
       "      <th>4</th>\n",
       "      <td>000</td>\n",
       "      <td>OXT</td>\n",
       "      <td>O</td>\n",
       "      <td>32.419</td>\n",
       "      <td>0.429</td>\n",
       "      <td>52.564</td>\n",
       "      <td>False</td>\n",
       "      <td>1.0</td>\n",
       "    </tr>\n",
       "  </tbody>\n",
       "</table>\n",
       "</div>"
      ],
      "text/plain": [
       "  comp_id atom_id type_symbol model_Cartn_x model_Cartn_y model_Cartn_z  \\\n",
       "0     000       C           C        32.880        -0.090        51.314   \n",
       "1     000       O           O        32.160         0.180        50.105   \n",
       "2     000      OA           O        34.147        -0.940        51.249   \n",
       "3     000      CB           C        33.872        -2.227        50.459   \n",
       "4     000     OXT           O        32.419         0.429        52.564   \n",
       "\n",
       "   is_hydrogen  bonded_hydrogens  \n",
       "0        False               0.0  \n",
       "1        False               0.0  \n",
       "2        False               0.0  \n",
       "3        False               3.0  \n",
       "4        False               1.0  "
      ]
     },
     "execution_count": 4,
     "metadata": {},
     "output_type": "execute_result"
    }
   ],
   "source": [
    "atom_df.head()"
   ]
  },
  {
   "cell_type": "code",
   "execution_count": 5,
   "id": "df316cce-e40a-487a-868d-4d1551766cfd",
   "metadata": {},
   "outputs": [
    {
     "data": {
      "text/html": [
       "<div>\n",
       "<style scoped>\n",
       "    .dataframe tbody tr th:only-of-type {\n",
       "        vertical-align: middle;\n",
       "    }\n",
       "\n",
       "    .dataframe tbody tr th {\n",
       "        vertical-align: top;\n",
       "    }\n",
       "\n",
       "    .dataframe thead th {\n",
       "        text-align: right;\n",
       "    }\n",
       "</style>\n",
       "<table border=\"1\" class=\"dataframe\">\n",
       "  <thead>\n",
       "    <tr style=\"text-align: right;\">\n",
       "      <th></th>\n",
       "      <th>comp_id</th>\n",
       "      <th>atom_id_1</th>\n",
       "      <th>atom_id_2</th>\n",
       "      <th>value_order</th>\n",
       "    </tr>\n",
       "  </thead>\n",
       "  <tbody>\n",
       "    <tr>\n",
       "      <th>0</th>\n",
       "      <td>000</td>\n",
       "      <td>C</td>\n",
       "      <td>OXT</td>\n",
       "      <td>SING</td>\n",
       "    </tr>\n",
       "    <tr>\n",
       "      <th>1</th>\n",
       "      <td>000</td>\n",
       "      <td>O</td>\n",
       "      <td>C</td>\n",
       "      <td>DOUB</td>\n",
       "    </tr>\n",
       "    <tr>\n",
       "      <th>2</th>\n",
       "      <td>000</td>\n",
       "      <td>OA</td>\n",
       "      <td>C</td>\n",
       "      <td>SING</td>\n",
       "    </tr>\n",
       "    <tr>\n",
       "      <th>3</th>\n",
       "      <td>000</td>\n",
       "      <td>CB</td>\n",
       "      <td>OA</td>\n",
       "      <td>SING</td>\n",
       "    </tr>\n",
       "    <tr>\n",
       "      <th>4</th>\n",
       "      <td>000</td>\n",
       "      <td>CB</td>\n",
       "      <td>HB</td>\n",
       "      <td>SING</td>\n",
       "    </tr>\n",
       "  </tbody>\n",
       "</table>\n",
       "</div>"
      ],
      "text/plain": [
       "  comp_id atom_id_1 atom_id_2 value_order\n",
       "0     000         C       OXT        SING\n",
       "1     000         O         C        DOUB\n",
       "2     000        OA         C        SING\n",
       "3     000        CB        OA        SING\n",
       "4     000        CB        HB        SING"
      ]
     },
     "execution_count": 5,
     "metadata": {},
     "output_type": "execute_result"
    }
   ],
   "source": [
    "bond_df.head()"
   ]
  },
  {
   "cell_type": "markdown",
   "id": "4131ccac-52e7-4ee6-90a1-2d52dd6437d9",
   "metadata": {},
   "source": [
    "# Data preprocessing: Remove NAN rows / molecules where NAN occurs at least once"
   ]
  },
  {
   "cell_type": "markdown",
   "id": "1ad51770-074d-451e-896b-22662e99c9c5",
   "metadata": {},
   "source": [
    "### remove nan rows from atom_df and bond_df"
   ]
  },
  {
   "cell_type": "code",
   "execution_count": 6,
   "id": "90c227c1-252b-4e00-97d4-b406b0844233",
   "metadata": {},
   "outputs": [
    {
     "name": "stdout",
     "output_type": "stream",
     "text": [
      "Identified 205 unique comp_ids with NaN values.\n",
      "Deleted 15625 rows from atom_df.\n",
      "Deleted 16588 rows from bond_df.\n"
     ]
    }
   ],
   "source": [
    "# Initial row counts\n",
    "initial_atom_row_count = len(atom_df)\n",
    "initial_bond_row_count = len(bond_df)\n",
    "\n",
    "# Step 1: Identify rows with NaN comp_id and collect comp_ids to delete\n",
    "nan_comp_ids = set()\n",
    "\n",
    "# Find NaN comp_ids in atom_df\n",
    "nan_atom_rows = atom_df[atom_df.isna().any(axis=1)]\n",
    "nan_comp_ids.update(nan_atom_rows['comp_id'])\n",
    "\n",
    "# Find NaN comp_ids in bond_df\n",
    "nan_bond_rows = bond_df[bond_df.isna().any(axis=1)]\n",
    "nan_comp_ids.update(nan_bond_rows['comp_id'])\n",
    "\n",
    "# Step 2: Remove rows with NaN comp_ids from both dataframes\n",
    "atom_df = atom_df.dropna(subset=['comp_id'])\n",
    "bond_df = bond_df.dropna(subset=['comp_id'])\n",
    "\n",
    "# Step 3: Convert comp_id to set for efficient lookup\n",
    "nan_comp_ids = set(nan_comp_ids)\n",
    "\n",
    "# Find all unique comp_ids to delete from atom_df and bond_df\n",
    "comp_ids_to_delete = set(atom_df[atom_df['comp_id'].isin(nan_comp_ids)]['comp_id']).union(\n",
    "                     set(bond_df[bond_df['comp_id'].isin(nan_comp_ids)]['comp_id']))\n",
    "\n",
    "# Step 4: Delete rows with identified comp_ids from both dataframes\n",
    "atom_df = atom_df[~atom_df['comp_id'].isin(comp_ids_to_delete)]\n",
    "bond_df = bond_df[~bond_df['comp_id'].isin(comp_ids_to_delete)]\n",
    "\n",
    "# Final row counts\n",
    "final_atom_row_count = len(atom_df)\n",
    "final_bond_row_count = len(bond_df)\n",
    "\n",
    "# Step 5: Print results\n",
    "print(f\"Identified {len(nan_comp_ids)} unique comp_ids with NaN values.\")\n",
    "print(f\"Deleted {initial_atom_row_count - final_atom_row_count} rows from atom_df.\")\n",
    "print(f\"Deleted {initial_bond_row_count - final_bond_row_count} rows from bond_df.\")"
   ]
  },
  {
   "cell_type": "markdown",
   "id": "1c988fce-a527-462f-b980-6e7cb57f29f2",
   "metadata": {},
   "source": [
    "### remove \"?\" values from atom_df and bond_df"
   ]
  },
  {
   "cell_type": "code",
   "execution_count": 7,
   "id": "5b3d6958-1806-4e09-aba7-df65b69ca69f",
   "metadata": {},
   "outputs": [
    {
     "name": "stdout",
     "output_type": "stream",
     "text": [
      "Identified 1625 unique comp_ids with '?' values in atom_df.\n",
      "Deleted 86867 rows from atom_df.\n",
      "Deleted 89122 rows from bond_df.\n"
     ]
    }
   ],
   "source": [
    "def clean_dataframes(atom_df, bond_df):\n",
    "    # Identify rows in atom_df that contain \"?\" in any column\n",
    "    rows_with_question_mark = atom_df.isin([\"?\"]).any(axis=1)\n",
    "    \n",
    "    # Collect the comp_ids from these rows\n",
    "    comp_ids_to_delete = atom_df.loc[rows_with_question_mark, 'comp_id'].unique()\n",
    "    \n",
    "    # Remove all rows with these comp_ids from both dataframes\n",
    "    atom_df_cleaned = atom_df[~atom_df['comp_id'].isin(comp_ids_to_delete)]\n",
    "    bond_df_cleaned = bond_df[~bond_df['comp_id'].isin(comp_ids_to_delete)]\n",
    "    \n",
    "    return atom_df_cleaned, bond_df_cleaned, comp_ids_to_delete\n",
    "\n",
    "# Initial row counts\n",
    "initial_atom_row_count = len(atom_df)\n",
    "initial_bond_row_count = len(bond_df)\n",
    "\n",
    "# Clean dataframes\n",
    "atom_df, bond_df, comp_ids_to_delete = clean_dataframes(atom_df, bond_df)\n",
    "\n",
    "# Final row counts\n",
    "final_atom_row_count = len(atom_df)\n",
    "final_bond_row_count = len(bond_df)\n",
    "\n",
    "# Print results\n",
    "print(f\"Identified {len(comp_ids_to_delete)} unique comp_ids with '?' values in atom_df.\")\n",
    "print(f\"Deleted {initial_atom_row_count - final_atom_row_count} rows from atom_df.\")\n",
    "print(f\"Deleted {initial_bond_row_count - final_bond_row_count} rows from bond_df.\")"
   ]
  },
  {
   "cell_type": "markdown",
   "id": "0c5c32af-8bf7-4e4a-ab82-8979b1eba52f",
   "metadata": {},
   "source": [
    "# Data preprocessing: Modify columns"
   ]
  },
  {
   "cell_type": "code",
   "execution_count": 8,
   "id": "9c39b125-3bb1-4ed5-a63d-564456523634",
   "metadata": {},
   "outputs": [],
   "source": [
    "# make new column atomic number and depending on the type symbol used, give the atomic number\n",
    "# E.g. in the periodic table, the atom C has the atomic number 6\n",
    "atom_df['atomic_number'] = atom_df['type_symbol'].apply(lambda x: gemmi.Element(x).atomic_number)"
   ]
  },
  {
   "cell_type": "code",
   "execution_count": 9,
   "id": "bf5a689e-ff3f-43ef-a8d5-beb46c2b6fc4",
   "metadata": {},
   "outputs": [
    {
     "name": "stderr",
     "output_type": "stream",
     "text": [
      "C:\\Users\\Hasan\\AppData\\Local\\Temp\\ipykernel_6628\\1289298887.py:9: FutureWarning: Downcasting behavior in `replace` is deprecated and will be removed in a future version. To retain the old behavior, explicitly call `result.infer_objects(copy=False)`. To opt-in to the future behavior, set `pd.set_option('future.no_silent_downcasting', True)`\n",
      "  bond_df['value_order'] = bond_df['value_order'].replace(value_order_mapping)\n"
     ]
    }
   ],
   "source": [
    "# Define the mapping from string to integer\n",
    "value_order_mapping = {\n",
    "    'SING': 1,\n",
    "    'DOUB': 2,\n",
    "    'TRIP': 3\n",
    "}\n",
    "\n",
    "# Replace the values in the 'value_order' column\n",
    "bond_df['value_order'] = bond_df['value_order'].replace(value_order_mapping)"
   ]
  },
  {
   "cell_type": "markdown",
   "id": "4f20654d-16f8-4903-85b3-bf5db66e199c",
   "metadata": {},
   "source": [
    "# Restrict dataset to a certain amount of bonded hydrogens (and if wanted to a certain central atom)"
   ]
  },
  {
   "cell_type": "code",
   "execution_count": 10,
   "id": "6897e3a5-0cc8-45a7-a7a5-cd75a309729d",
   "metadata": {},
   "outputs": [],
   "source": [
    "# Number of hydrogen atoms to train a model for and the central atom type\n",
    "num_hydrogen = 1\n",
    "central_atom = 'C'"
   ]
  },
  {
   "cell_type": "markdown",
   "id": "84eb9645-75c1-48ba-a960-afaf6b68dc91",
   "metadata": {},
   "source": [
    "### only for a given central atom and a number of bonded hydrogens"
   ]
  },
  {
   "cell_type": "code",
   "execution_count": 11,
   "id": "7aa96119-74b4-435b-8e0b-9646d3aaeaca",
   "metadata": {},
   "outputs": [
    {
     "data": {
      "text/html": [
       "<div>\n",
       "<style scoped>\n",
       "    .dataframe tbody tr th:only-of-type {\n",
       "        vertical-align: middle;\n",
       "    }\n",
       "\n",
       "    .dataframe tbody tr th {\n",
       "        vertical-align: top;\n",
       "    }\n",
       "\n",
       "    .dataframe thead th {\n",
       "        text-align: right;\n",
       "    }\n",
       "</style>\n",
       "<table border=\"1\" class=\"dataframe\">\n",
       "  <thead>\n",
       "    <tr style=\"text-align: right;\">\n",
       "      <th></th>\n",
       "      <th>comp_id</th>\n",
       "      <th>atom_id</th>\n",
       "      <th>type_symbol</th>\n",
       "      <th>model_Cartn_x</th>\n",
       "      <th>model_Cartn_y</th>\n",
       "      <th>model_Cartn_z</th>\n",
       "      <th>is_hydrogen</th>\n",
       "      <th>bonded_hydrogens</th>\n",
       "      <th>atomic_number</th>\n",
       "    </tr>\n",
       "  </thead>\n",
       "  <tbody>\n",
       "    <tr>\n",
       "      <th>10</th>\n",
       "      <td>001</td>\n",
       "      <td>C02</td>\n",
       "      <td>C</td>\n",
       "      <td>25.498</td>\n",
       "      <td>13.476</td>\n",
       "      <td>26.660</td>\n",
       "      <td>False</td>\n",
       "      <td>1.0</td>\n",
       "      <td>6</td>\n",
       "    </tr>\n",
       "    <tr>\n",
       "      <th>14</th>\n",
       "      <td>001</td>\n",
       "      <td>C06</td>\n",
       "      <td>C</td>\n",
       "      <td>27.300</td>\n",
       "      <td>11.861</td>\n",
       "      <td>26.289</td>\n",
       "      <td>False</td>\n",
       "      <td>1.0</td>\n",
       "      <td>6</td>\n",
       "    </tr>\n",
       "    <tr>\n",
       "      <th>31</th>\n",
       "      <td>001</td>\n",
       "      <td>C16</td>\n",
       "      <td>C</td>\n",
       "      <td>27.938</td>\n",
       "      <td>12.754</td>\n",
       "      <td>21.659</td>\n",
       "      <td>False</td>\n",
       "      <td>1.0</td>\n",
       "      <td>6</td>\n",
       "    </tr>\n",
       "    <tr>\n",
       "      <th>35</th>\n",
       "      <td>001</td>\n",
       "      <td>C18</td>\n",
       "      <td>C</td>\n",
       "      <td>30.921</td>\n",
       "      <td>13.770</td>\n",
       "      <td>23.757</td>\n",
       "      <td>False</td>\n",
       "      <td>1.0</td>\n",
       "      <td>6</td>\n",
       "    </tr>\n",
       "    <tr>\n",
       "      <th>40</th>\n",
       "      <td>001</td>\n",
       "      <td>C23</td>\n",
       "      <td>C</td>\n",
       "      <td>35.552</td>\n",
       "      <td>13.034</td>\n",
       "      <td>23.155</td>\n",
       "      <td>False</td>\n",
       "      <td>1.0</td>\n",
       "      <td>6</td>\n",
       "    </tr>\n",
       "  </tbody>\n",
       "</table>\n",
       "</div>"
      ],
      "text/plain": [
       "   comp_id atom_id type_symbol model_Cartn_x model_Cartn_y model_Cartn_z  \\\n",
       "10     001     C02           C        25.498        13.476        26.660   \n",
       "14     001     C06           C        27.300        11.861        26.289   \n",
       "31     001     C16           C        27.938        12.754        21.659   \n",
       "35     001     C18           C        30.921        13.770        23.757   \n",
       "40     001     C23           C        35.552        13.034        23.155   \n",
       "\n",
       "    is_hydrogen  bonded_hydrogens  atomic_number  \n",
       "10        False               1.0              6  \n",
       "14        False               1.0              6  \n",
       "31        False               1.0              6  \n",
       "35        False               1.0              6  \n",
       "40        False               1.0              6  "
      ]
     },
     "execution_count": 11,
     "metadata": {},
     "output_type": "execute_result"
    }
   ],
   "source": [
    "atom_df_filtered = atom_df.loc[(atom_df['type_symbol'] == central_atom) & (atom_df['bonded_hydrogens'] == num_hydrogen)]\n",
    "atom_df_filtered.head()"
   ]
  },
  {
   "cell_type": "markdown",
   "id": "682a43c7-1c6e-47a3-86e3-c67b453440e8",
   "metadata": {},
   "source": [
    "### for all central atom types and a given number of bonded hydrogen "
   ]
  },
  {
   "cell_type": "code",
   "execution_count": 8,
   "id": "8473c002-bc12-4451-95dc-c854616fab84",
   "metadata": {},
   "outputs": [
    {
     "data": {
      "text/html": [
       "<div>\n",
       "<style scoped>\n",
       "    .dataframe tbody tr th:only-of-type {\n",
       "        vertical-align: middle;\n",
       "    }\n",
       "\n",
       "    .dataframe tbody tr th {\n",
       "        vertical-align: top;\n",
       "    }\n",
       "\n",
       "    .dataframe thead th {\n",
       "        text-align: right;\n",
       "    }\n",
       "</style>\n",
       "<table border=\"1\" class=\"dataframe\">\n",
       "  <thead>\n",
       "    <tr style=\"text-align: right;\">\n",
       "      <th></th>\n",
       "      <th>comp_id</th>\n",
       "      <th>atom_id</th>\n",
       "      <th>type_symbol</th>\n",
       "      <th>model_Cartn_x</th>\n",
       "      <th>model_Cartn_y</th>\n",
       "      <th>model_Cartn_z</th>\n",
       "      <th>is_hydrogen</th>\n",
       "      <th>bonded_hydrogens</th>\n",
       "      <th>atomic_number</th>\n",
       "    </tr>\n",
       "  </thead>\n",
       "  <tbody>\n",
       "    <tr>\n",
       "      <th>4</th>\n",
       "      <td>000</td>\n",
       "      <td>OXT</td>\n",
       "      <td>O</td>\n",
       "      <td>32.419</td>\n",
       "      <td>0.429</td>\n",
       "      <td>52.564</td>\n",
       "      <td>False</td>\n",
       "      <td>1.0</td>\n",
       "      <td>8</td>\n",
       "    </tr>\n",
       "    <tr>\n",
       "      <th>10</th>\n",
       "      <td>001</td>\n",
       "      <td>C02</td>\n",
       "      <td>C</td>\n",
       "      <td>25.498</td>\n",
       "      <td>13.476</td>\n",
       "      <td>26.660</td>\n",
       "      <td>False</td>\n",
       "      <td>1.0</td>\n",
       "      <td>6</td>\n",
       "    </tr>\n",
       "    <tr>\n",
       "      <th>14</th>\n",
       "      <td>001</td>\n",
       "      <td>C06</td>\n",
       "      <td>C</td>\n",
       "      <td>27.300</td>\n",
       "      <td>11.861</td>\n",
       "      <td>26.289</td>\n",
       "      <td>False</td>\n",
       "      <td>1.0</td>\n",
       "      <td>6</td>\n",
       "    </tr>\n",
       "    <tr>\n",
       "      <th>31</th>\n",
       "      <td>001</td>\n",
       "      <td>C16</td>\n",
       "      <td>C</td>\n",
       "      <td>27.938</td>\n",
       "      <td>12.754</td>\n",
       "      <td>21.659</td>\n",
       "      <td>False</td>\n",
       "      <td>1.0</td>\n",
       "      <td>6</td>\n",
       "    </tr>\n",
       "    <tr>\n",
       "      <th>35</th>\n",
       "      <td>001</td>\n",
       "      <td>C18</td>\n",
       "      <td>C</td>\n",
       "      <td>30.921</td>\n",
       "      <td>13.770</td>\n",
       "      <td>23.757</td>\n",
       "      <td>False</td>\n",
       "      <td>1.0</td>\n",
       "      <td>6</td>\n",
       "    </tr>\n",
       "  </tbody>\n",
       "</table>\n",
       "</div>"
      ],
      "text/plain": [
       "   comp_id atom_id type_symbol model_Cartn_x model_Cartn_y model_Cartn_z  \\\n",
       "4      000     OXT           O        32.419         0.429        52.564   \n",
       "10     001     C02           C        25.498        13.476        26.660   \n",
       "14     001     C06           C        27.300        11.861        26.289   \n",
       "31     001     C16           C        27.938        12.754        21.659   \n",
       "35     001     C18           C        30.921        13.770        23.757   \n",
       "\n",
       "    is_hydrogen  bonded_hydrogens  atomic_number  \n",
       "4         False               1.0              8  \n",
       "10        False               1.0              6  \n",
       "14        False               1.0              6  \n",
       "31        False               1.0              6  \n",
       "35        False               1.0              6  "
      ]
     },
     "execution_count": 8,
     "metadata": {},
     "output_type": "execute_result"
    }
   ],
   "source": [
    "atom_df_filtered = atom_df.loc[(atom_df['bonded_hydrogens'] == num_hydrogen)]\n",
    "atom_df_filtered.head()"
   ]
  },
  {
   "cell_type": "markdown",
   "id": "29262423-26fc-467f-884a-cc901332aaeb",
   "metadata": {},
   "source": [
    "# Start making a big table where atoms and bonds are merged"
   ]
  },
  {
   "cell_type": "code",
   "execution_count": 12,
   "id": "db309167-3a18-473d-a34f-30cb2df292ac",
   "metadata": {},
   "outputs": [],
   "source": [
    "# Merge on comp_id and atom_id_1\n",
    "merged_1 = atom_df_filtered.merge(bond_df, left_on=['comp_id', 'atom_id'], right_on=['comp_id', 'atom_id_1'], suffixes=('', '_bond_1'))\n",
    "\n",
    "# Merge on comp_id and atom_id_2\n",
    "merged_2 = atom_df_filtered.merge(bond_df, left_on=['comp_id', 'atom_id'], right_on=['comp_id', 'atom_id_2'], suffixes=('', '_bond_2'))"
   ]
  },
  {
   "cell_type": "code",
   "execution_count": 13,
   "id": "9dfa170c-fa24-41c5-8513-60b737373d46",
   "metadata": {},
   "outputs": [
    {
     "data": {
      "text/html": [
       "<div>\n",
       "<style scoped>\n",
       "    .dataframe tbody tr th:only-of-type {\n",
       "        vertical-align: middle;\n",
       "    }\n",
       "\n",
       "    .dataframe tbody tr th {\n",
       "        vertical-align: top;\n",
       "    }\n",
       "\n",
       "    .dataframe thead th {\n",
       "        text-align: right;\n",
       "    }\n",
       "</style>\n",
       "<table border=\"1\" class=\"dataframe\">\n",
       "  <thead>\n",
       "    <tr style=\"text-align: right;\">\n",
       "      <th></th>\n",
       "      <th>comp_id</th>\n",
       "      <th>atom_id</th>\n",
       "      <th>type_symbol</th>\n",
       "      <th>model_Cartn_x</th>\n",
       "      <th>model_Cartn_y</th>\n",
       "      <th>model_Cartn_z</th>\n",
       "      <th>is_hydrogen</th>\n",
       "      <th>bonded_hydrogens</th>\n",
       "      <th>atomic_number</th>\n",
       "      <th>atom_id_1</th>\n",
       "      <th>atom_id_2</th>\n",
       "      <th>value_order</th>\n",
       "    </tr>\n",
       "  </thead>\n",
       "  <tbody>\n",
       "    <tr>\n",
       "      <th>0</th>\n",
       "      <td>001</td>\n",
       "      <td>C02</td>\n",
       "      <td>C</td>\n",
       "      <td>25.498</td>\n",
       "      <td>13.476</td>\n",
       "      <td>26.660</td>\n",
       "      <td>False</td>\n",
       "      <td>1.0</td>\n",
       "      <td>6</td>\n",
       "      <td>C02</td>\n",
       "      <td>C03</td>\n",
       "      <td>1</td>\n",
       "    </tr>\n",
       "    <tr>\n",
       "      <th>1</th>\n",
       "      <td>001</td>\n",
       "      <td>C02</td>\n",
       "      <td>C</td>\n",
       "      <td>25.498</td>\n",
       "      <td>13.476</td>\n",
       "      <td>26.660</td>\n",
       "      <td>False</td>\n",
       "      <td>1.0</td>\n",
       "      <td>6</td>\n",
       "      <td>C02</td>\n",
       "      <td>H021</td>\n",
       "      <td>1</td>\n",
       "    </tr>\n",
       "    <tr>\n",
       "      <th>2</th>\n",
       "      <td>001</td>\n",
       "      <td>C06</td>\n",
       "      <td>C</td>\n",
       "      <td>27.300</td>\n",
       "      <td>11.861</td>\n",
       "      <td>26.289</td>\n",
       "      <td>False</td>\n",
       "      <td>1.0</td>\n",
       "      <td>6</td>\n",
       "      <td>C06</td>\n",
       "      <td>H061</td>\n",
       "      <td>1</td>\n",
       "    </tr>\n",
       "    <tr>\n",
       "      <th>3</th>\n",
       "      <td>001</td>\n",
       "      <td>C16</td>\n",
       "      <td>C</td>\n",
       "      <td>27.938</td>\n",
       "      <td>12.754</td>\n",
       "      <td>21.659</td>\n",
       "      <td>False</td>\n",
       "      <td>1.0</td>\n",
       "      <td>6</td>\n",
       "      <td>C16</td>\n",
       "      <td>C17</td>\n",
       "      <td>1</td>\n",
       "    </tr>\n",
       "    <tr>\n",
       "      <th>4</th>\n",
       "      <td>001</td>\n",
       "      <td>C16</td>\n",
       "      <td>C</td>\n",
       "      <td>27.938</td>\n",
       "      <td>12.754</td>\n",
       "      <td>21.659</td>\n",
       "      <td>False</td>\n",
       "      <td>1.0</td>\n",
       "      <td>6</td>\n",
       "      <td>C16</td>\n",
       "      <td>H161</td>\n",
       "      <td>1</td>\n",
       "    </tr>\n",
       "  </tbody>\n",
       "</table>\n",
       "</div>"
      ],
      "text/plain": [
       "  comp_id atom_id type_symbol model_Cartn_x model_Cartn_y model_Cartn_z  \\\n",
       "0     001     C02           C        25.498        13.476        26.660   \n",
       "1     001     C02           C        25.498        13.476        26.660   \n",
       "2     001     C06           C        27.300        11.861        26.289   \n",
       "3     001     C16           C        27.938        12.754        21.659   \n",
       "4     001     C16           C        27.938        12.754        21.659   \n",
       "\n",
       "   is_hydrogen  bonded_hydrogens  atomic_number atom_id_1 atom_id_2  \\\n",
       "0        False               1.0              6       C02       C03   \n",
       "1        False               1.0              6       C02      H021   \n",
       "2        False               1.0              6       C06      H061   \n",
       "3        False               1.0              6       C16       C17   \n",
       "4        False               1.0              6       C16      H161   \n",
       "\n",
       "   value_order  \n",
       "0            1  \n",
       "1            1  \n",
       "2            1  \n",
       "3            1  \n",
       "4            1  "
      ]
     },
     "execution_count": 13,
     "metadata": {},
     "output_type": "execute_result"
    }
   ],
   "source": [
    "# Concatenate the two merged DataFrames\n",
    "result_df = pd.concat([merged_1, merged_2], ignore_index=True)\n",
    "result_df.head()"
   ]
  },
  {
   "cell_type": "code",
   "execution_count": 14,
   "id": "1f68e9f0-a400-4842-a27c-d690b168ebd0",
   "metadata": {},
   "outputs": [
    {
     "data": {
      "text/html": [
       "<div>\n",
       "<style scoped>\n",
       "    .dataframe tbody tr th:only-of-type {\n",
       "        vertical-align: middle;\n",
       "    }\n",
       "\n",
       "    .dataframe tbody tr th {\n",
       "        vertical-align: top;\n",
       "    }\n",
       "\n",
       "    .dataframe thead th {\n",
       "        text-align: right;\n",
       "    }\n",
       "</style>\n",
       "<table border=\"1\" class=\"dataframe\">\n",
       "  <thead>\n",
       "    <tr style=\"text-align: right;\">\n",
       "      <th></th>\n",
       "      <th>comp_id</th>\n",
       "      <th>atom_id</th>\n",
       "      <th>type_symbol</th>\n",
       "      <th>model_Cartn_x</th>\n",
       "      <th>model_Cartn_y</th>\n",
       "      <th>model_Cartn_z</th>\n",
       "      <th>is_hydrogen</th>\n",
       "      <th>bonded_hydrogens</th>\n",
       "      <th>atomic_number</th>\n",
       "      <th>atom_id_1</th>\n",
       "      <th>atom_id_2</th>\n",
       "      <th>value_order</th>\n",
       "    </tr>\n",
       "  </thead>\n",
       "  <tbody>\n",
       "    <tr>\n",
       "      <th>0</th>\n",
       "      <td>001</td>\n",
       "      <td>C02</td>\n",
       "      <td>C</td>\n",
       "      <td>25.498</td>\n",
       "      <td>13.476</td>\n",
       "      <td>26.660</td>\n",
       "      <td>False</td>\n",
       "      <td>1.0</td>\n",
       "      <td>6</td>\n",
       "      <td>C02</td>\n",
       "      <td>C03</td>\n",
       "      <td>1</td>\n",
       "    </tr>\n",
       "    <tr>\n",
       "      <th>1</th>\n",
       "      <td>001</td>\n",
       "      <td>C02</td>\n",
       "      <td>C</td>\n",
       "      <td>25.498</td>\n",
       "      <td>13.476</td>\n",
       "      <td>26.660</td>\n",
       "      <td>False</td>\n",
       "      <td>1.0</td>\n",
       "      <td>6</td>\n",
       "      <td>C02</td>\n",
       "      <td>H021</td>\n",
       "      <td>1</td>\n",
       "    </tr>\n",
       "    <tr>\n",
       "      <th>2</th>\n",
       "      <td>001</td>\n",
       "      <td>C02</td>\n",
       "      <td>C</td>\n",
       "      <td>25.498</td>\n",
       "      <td>13.476</td>\n",
       "      <td>26.660</td>\n",
       "      <td>False</td>\n",
       "      <td>1.0</td>\n",
       "      <td>6</td>\n",
       "      <td>C01</td>\n",
       "      <td>C02</td>\n",
       "      <td>2</td>\n",
       "    </tr>\n",
       "    <tr>\n",
       "      <th>3</th>\n",
       "      <td>001</td>\n",
       "      <td>C06</td>\n",
       "      <td>C</td>\n",
       "      <td>27.300</td>\n",
       "      <td>11.861</td>\n",
       "      <td>26.289</td>\n",
       "      <td>False</td>\n",
       "      <td>1.0</td>\n",
       "      <td>6</td>\n",
       "      <td>C06</td>\n",
       "      <td>H061</td>\n",
       "      <td>1</td>\n",
       "    </tr>\n",
       "    <tr>\n",
       "      <th>4</th>\n",
       "      <td>001</td>\n",
       "      <td>C06</td>\n",
       "      <td>C</td>\n",
       "      <td>27.300</td>\n",
       "      <td>11.861</td>\n",
       "      <td>26.289</td>\n",
       "      <td>False</td>\n",
       "      <td>1.0</td>\n",
       "      <td>6</td>\n",
       "      <td>C01</td>\n",
       "      <td>C06</td>\n",
       "      <td>1</td>\n",
       "    </tr>\n",
       "  </tbody>\n",
       "</table>\n",
       "</div>"
      ],
      "text/plain": [
       "  comp_id atom_id type_symbol model_Cartn_x model_Cartn_y model_Cartn_z  \\\n",
       "0     001     C02           C        25.498        13.476        26.660   \n",
       "1     001     C02           C        25.498        13.476        26.660   \n",
       "2     001     C02           C        25.498        13.476        26.660   \n",
       "3     001     C06           C        27.300        11.861        26.289   \n",
       "4     001     C06           C        27.300        11.861        26.289   \n",
       "\n",
       "   is_hydrogen  bonded_hydrogens  atomic_number atom_id_1 atom_id_2  \\\n",
       "0        False               1.0              6       C02       C03   \n",
       "1        False               1.0              6       C02      H021   \n",
       "2        False               1.0              6       C01       C02   \n",
       "3        False               1.0              6       C06      H061   \n",
       "4        False               1.0              6       C01       C06   \n",
       "\n",
       "   value_order  \n",
       "0            1  \n",
       "1            1  \n",
       "2            2  \n",
       "3            1  \n",
       "4            1  "
      ]
     },
     "execution_count": 14,
     "metadata": {},
     "output_type": "execute_result"
    }
   ],
   "source": [
    "# Sort the result_df by comp_id first and then by atom_id\n",
    "result_df_sorted = result_df.sort_values(by=['comp_id', 'atom_id']).reset_index(drop=True)\n",
    "result_df_sorted.head()"
   ]
  },
  {
   "cell_type": "code",
   "execution_count": 15,
   "id": "458f34a2-dc70-443b-8a2c-d58600167c24",
   "metadata": {},
   "outputs": [],
   "source": [
    "# Function to determine the correct join column and perform the join\n",
    "def join_atom_coordinates(atom_df_extended, atom_df):\n",
    "    # Create a copy of the DataFrame to avoid modifying the original one\n",
    "    df = atom_df_extended.copy()\n",
    "\n",
    "    # Determine the correct join column\n",
    "    df['join_on_atom_id'] = df.apply(\n",
    "        lambda row: row['atom_id_2'] if row['atom_id'] == row['atom_id_1'] else row['atom_id_1'], axis=1\n",
    "    )\n",
    "\n",
    "    # Perform the join\n",
    "    merged_df = df.merge(\n",
    "        atom_df[['comp_id', 'atom_id', 'atomic_number', 'model_Cartn_x', 'model_Cartn_y', 'model_Cartn_z']],\n",
    "        left_on=['comp_id', 'join_on_atom_id'],\n",
    "        right_on=['comp_id', 'atom_id'],\n",
    "        suffixes=('', '_joined')\n",
    "    )\n",
    "\n",
    "    # Extract and rename the coordinates columns\n",
    "    merged_df = merged_df.rename(\n",
    "        columns={\n",
    "            'model_Cartn_x_joined': 'model_Cartn_x2',\n",
    "            'model_Cartn_y_joined': 'model_Cartn_y2',\n",
    "            'model_Cartn_z_joined': 'model_Cartn_z2'\n",
    "        }\n",
    "    )\n",
    "\n",
    "    # Keep only the necessary columns\n",
    "    result_df = merged_df[\n",
    "        ['comp_id', 'atom_id', 'type_symbol', 'model_Cartn_x', 'model_Cartn_y', 'model_Cartn_z', 'is_hydrogen', \n",
    "         'bonded_hydrogens', 'atomic_number', 'atom_id_1', 'atom_id_2', 'value_order', 'model_Cartn_x2', 'model_Cartn_y2', 'model_Cartn_z2', 'atomic_number_joined']\n",
    "    ]\n",
    "\n",
    "    return result_df"
   ]
  },
  {
   "cell_type": "code",
   "execution_count": 16,
   "id": "1b70e029-97e1-42a2-bd64-eec52adf1926",
   "metadata": {},
   "outputs": [
    {
     "data": {
      "text/html": [
       "<div>\n",
       "<style scoped>\n",
       "    .dataframe tbody tr th:only-of-type {\n",
       "        vertical-align: middle;\n",
       "    }\n",
       "\n",
       "    .dataframe tbody tr th {\n",
       "        vertical-align: top;\n",
       "    }\n",
       "\n",
       "    .dataframe thead th {\n",
       "        text-align: right;\n",
       "    }\n",
       "</style>\n",
       "<table border=\"1\" class=\"dataframe\">\n",
       "  <thead>\n",
       "    <tr style=\"text-align: right;\">\n",
       "      <th></th>\n",
       "      <th>comp_id</th>\n",
       "      <th>atom_id</th>\n",
       "      <th>type_symbol</th>\n",
       "      <th>model_Cartn_x</th>\n",
       "      <th>model_Cartn_y</th>\n",
       "      <th>model_Cartn_z</th>\n",
       "      <th>is_hydrogen</th>\n",
       "      <th>bonded_hydrogens</th>\n",
       "      <th>atomic_number</th>\n",
       "      <th>atom_id_1</th>\n",
       "      <th>atom_id_2</th>\n",
       "      <th>value_order</th>\n",
       "      <th>model_Cartn_x2</th>\n",
       "      <th>model_Cartn_y2</th>\n",
       "      <th>model_Cartn_z2</th>\n",
       "      <th>atomic_number_joined</th>\n",
       "    </tr>\n",
       "  </thead>\n",
       "  <tbody>\n",
       "    <tr>\n",
       "      <th>0</th>\n",
       "      <td>001</td>\n",
       "      <td>C02</td>\n",
       "      <td>C</td>\n",
       "      <td>25.498</td>\n",
       "      <td>13.476</td>\n",
       "      <td>26.660</td>\n",
       "      <td>False</td>\n",
       "      <td>1.0</td>\n",
       "      <td>6</td>\n",
       "      <td>C02</td>\n",
       "      <td>C03</td>\n",
       "      <td>1</td>\n",
       "      <td>26.077</td>\n",
       "      <td>13.812</td>\n",
       "      <td>27.910</td>\n",
       "      <td>6</td>\n",
       "    </tr>\n",
       "    <tr>\n",
       "      <th>1</th>\n",
       "      <td>001</td>\n",
       "      <td>C02</td>\n",
       "      <td>C</td>\n",
       "      <td>25.498</td>\n",
       "      <td>13.476</td>\n",
       "      <td>26.660</td>\n",
       "      <td>False</td>\n",
       "      <td>1.0</td>\n",
       "      <td>6</td>\n",
       "      <td>C02</td>\n",
       "      <td>H021</td>\n",
       "      <td>1</td>\n",
       "      <td>24.573</td>\n",
       "      <td>13.972</td>\n",
       "      <td>26.319</td>\n",
       "      <td>1</td>\n",
       "    </tr>\n",
       "    <tr>\n",
       "      <th>2</th>\n",
       "      <td>001</td>\n",
       "      <td>C02</td>\n",
       "      <td>C</td>\n",
       "      <td>25.498</td>\n",
       "      <td>13.476</td>\n",
       "      <td>26.660</td>\n",
       "      <td>False</td>\n",
       "      <td>1.0</td>\n",
       "      <td>6</td>\n",
       "      <td>C01</td>\n",
       "      <td>C02</td>\n",
       "      <td>2</td>\n",
       "      <td>26.108</td>\n",
       "      <td>12.501</td>\n",
       "      <td>25.848</td>\n",
       "      <td>6</td>\n",
       "    </tr>\n",
       "    <tr>\n",
       "      <th>3</th>\n",
       "      <td>001</td>\n",
       "      <td>C06</td>\n",
       "      <td>C</td>\n",
       "      <td>27.300</td>\n",
       "      <td>11.861</td>\n",
       "      <td>26.289</td>\n",
       "      <td>False</td>\n",
       "      <td>1.0</td>\n",
       "      <td>6</td>\n",
       "      <td>C06</td>\n",
       "      <td>H061</td>\n",
       "      <td>1</td>\n",
       "      <td>27.782</td>\n",
       "      <td>11.099</td>\n",
       "      <td>25.653</td>\n",
       "      <td>1</td>\n",
       "    </tr>\n",
       "    <tr>\n",
       "      <th>4</th>\n",
       "      <td>001</td>\n",
       "      <td>C06</td>\n",
       "      <td>C</td>\n",
       "      <td>27.300</td>\n",
       "      <td>11.861</td>\n",
       "      <td>26.289</td>\n",
       "      <td>False</td>\n",
       "      <td>1.0</td>\n",
       "      <td>6</td>\n",
       "      <td>C01</td>\n",
       "      <td>C06</td>\n",
       "      <td>1</td>\n",
       "      <td>26.108</td>\n",
       "      <td>12.501</td>\n",
       "      <td>25.848</td>\n",
       "      <td>6</td>\n",
       "    </tr>\n",
       "  </tbody>\n",
       "</table>\n",
       "</div>"
      ],
      "text/plain": [
       "  comp_id atom_id type_symbol model_Cartn_x model_Cartn_y model_Cartn_z  \\\n",
       "0     001     C02           C        25.498        13.476        26.660   \n",
       "1     001     C02           C        25.498        13.476        26.660   \n",
       "2     001     C02           C        25.498        13.476        26.660   \n",
       "3     001     C06           C        27.300        11.861        26.289   \n",
       "4     001     C06           C        27.300        11.861        26.289   \n",
       "\n",
       "   is_hydrogen  bonded_hydrogens  atomic_number atom_id_1 atom_id_2  \\\n",
       "0        False               1.0              6       C02       C03   \n",
       "1        False               1.0              6       C02      H021   \n",
       "2        False               1.0              6       C01       C02   \n",
       "3        False               1.0              6       C06      H061   \n",
       "4        False               1.0              6       C01       C06   \n",
       "\n",
       "   value_order model_Cartn_x2 model_Cartn_y2 model_Cartn_z2  \\\n",
       "0            1         26.077         13.812         27.910   \n",
       "1            1         24.573         13.972         26.319   \n",
       "2            2         26.108         12.501         25.848   \n",
       "3            1         27.782         11.099         25.653   \n",
       "4            1         26.108         12.501         25.848   \n",
       "\n",
       "   atomic_number_joined  \n",
       "0                     6  \n",
       "1                     1  \n",
       "2                     6  \n",
       "3                     1  \n",
       "4                     6  "
      ]
     },
     "execution_count": 16,
     "metadata": {},
     "output_type": "execute_result"
    }
   ],
   "source": [
    "# Apply the function and print the result\n",
    "result_df_final = join_atom_coordinates(result_df_sorted, atom_df)\n",
    "result_df_final.head()"
   ]
  },
  {
   "cell_type": "code",
   "execution_count": 17,
   "id": "0e7eb93a-d3cd-4e03-8538-e173d9528f92",
   "metadata": {},
   "outputs": [],
   "source": [
    "result_df_final.to_csv('../data/centralatom-C_numberhydrogens-1/big-table.csv')"
   ]
  },
  {
   "cell_type": "code",
   "execution_count": 2,
   "id": "5c1d5dad-2f12-4241-82ac-b653e976c2f9",
   "metadata": {},
   "outputs": [
    {
     "data": {
      "text/html": [
       "<div>\n",
       "<style scoped>\n",
       "    .dataframe tbody tr th:only-of-type {\n",
       "        vertical-align: middle;\n",
       "    }\n",
       "\n",
       "    .dataframe tbody tr th {\n",
       "        vertical-align: top;\n",
       "    }\n",
       "\n",
       "    .dataframe thead th {\n",
       "        text-align: right;\n",
       "    }\n",
       "</style>\n",
       "<table border=\"1\" class=\"dataframe\">\n",
       "  <thead>\n",
       "    <tr style=\"text-align: right;\">\n",
       "      <th></th>\n",
       "      <th>comp_id</th>\n",
       "      <th>atom_id</th>\n",
       "      <th>type_symbol</th>\n",
       "      <th>model_Cartn_x</th>\n",
       "      <th>model_Cartn_y</th>\n",
       "      <th>model_Cartn_z</th>\n",
       "      <th>is_hydrogen</th>\n",
       "      <th>bonded_hydrogens</th>\n",
       "      <th>atomic_number</th>\n",
       "      <th>atom_id_1</th>\n",
       "      <th>atom_id_2</th>\n",
       "      <th>value_order</th>\n",
       "      <th>model_Cartn_x2</th>\n",
       "      <th>model_Cartn_y2</th>\n",
       "      <th>model_Cartn_z2</th>\n",
       "      <th>atomic_number_joined</th>\n",
       "    </tr>\n",
       "  </thead>\n",
       "  <tbody>\n",
       "    <tr>\n",
       "      <th>0</th>\n",
       "      <td>001</td>\n",
       "      <td>C02</td>\n",
       "      <td>C</td>\n",
       "      <td>25.498</td>\n",
       "      <td>13.476</td>\n",
       "      <td>26.660</td>\n",
       "      <td>False</td>\n",
       "      <td>1.0</td>\n",
       "      <td>6</td>\n",
       "      <td>C02</td>\n",
       "      <td>C03</td>\n",
       "      <td>1</td>\n",
       "      <td>26.077</td>\n",
       "      <td>13.812</td>\n",
       "      <td>27.910</td>\n",
       "      <td>6</td>\n",
       "    </tr>\n",
       "    <tr>\n",
       "      <th>1</th>\n",
       "      <td>001</td>\n",
       "      <td>C02</td>\n",
       "      <td>C</td>\n",
       "      <td>25.498</td>\n",
       "      <td>13.476</td>\n",
       "      <td>26.660</td>\n",
       "      <td>False</td>\n",
       "      <td>1.0</td>\n",
       "      <td>6</td>\n",
       "      <td>C02</td>\n",
       "      <td>H021</td>\n",
       "      <td>1</td>\n",
       "      <td>24.573</td>\n",
       "      <td>13.972</td>\n",
       "      <td>26.319</td>\n",
       "      <td>1</td>\n",
       "    </tr>\n",
       "    <tr>\n",
       "      <th>2</th>\n",
       "      <td>001</td>\n",
       "      <td>C02</td>\n",
       "      <td>C</td>\n",
       "      <td>25.498</td>\n",
       "      <td>13.476</td>\n",
       "      <td>26.660</td>\n",
       "      <td>False</td>\n",
       "      <td>1.0</td>\n",
       "      <td>6</td>\n",
       "      <td>C01</td>\n",
       "      <td>C02</td>\n",
       "      <td>2</td>\n",
       "      <td>26.108</td>\n",
       "      <td>12.501</td>\n",
       "      <td>25.848</td>\n",
       "      <td>6</td>\n",
       "    </tr>\n",
       "    <tr>\n",
       "      <th>3</th>\n",
       "      <td>001</td>\n",
       "      <td>C06</td>\n",
       "      <td>C</td>\n",
       "      <td>27.300</td>\n",
       "      <td>11.861</td>\n",
       "      <td>26.289</td>\n",
       "      <td>False</td>\n",
       "      <td>1.0</td>\n",
       "      <td>6</td>\n",
       "      <td>C06</td>\n",
       "      <td>H061</td>\n",
       "      <td>1</td>\n",
       "      <td>27.782</td>\n",
       "      <td>11.099</td>\n",
       "      <td>25.653</td>\n",
       "      <td>1</td>\n",
       "    </tr>\n",
       "    <tr>\n",
       "      <th>4</th>\n",
       "      <td>001</td>\n",
       "      <td>C06</td>\n",
       "      <td>C</td>\n",
       "      <td>27.300</td>\n",
       "      <td>11.861</td>\n",
       "      <td>26.289</td>\n",
       "      <td>False</td>\n",
       "      <td>1.0</td>\n",
       "      <td>6</td>\n",
       "      <td>C01</td>\n",
       "      <td>C06</td>\n",
       "      <td>1</td>\n",
       "      <td>26.108</td>\n",
       "      <td>12.501</td>\n",
       "      <td>25.848</td>\n",
       "      <td>6</td>\n",
       "    </tr>\n",
       "  </tbody>\n",
       "</table>\n",
       "</div>"
      ],
      "text/plain": [
       "  comp_id atom_id type_symbol  model_Cartn_x  model_Cartn_y  model_Cartn_z  \\\n",
       "0     001     C02           C         25.498         13.476         26.660   \n",
       "1     001     C02           C         25.498         13.476         26.660   \n",
       "2     001     C02           C         25.498         13.476         26.660   \n",
       "3     001     C06           C         27.300         11.861         26.289   \n",
       "4     001     C06           C         27.300         11.861         26.289   \n",
       "\n",
       "   is_hydrogen  bonded_hydrogens  atomic_number atom_id_1 atom_id_2  \\\n",
       "0        False               1.0              6       C02       C03   \n",
       "1        False               1.0              6       C02      H021   \n",
       "2        False               1.0              6       C01       C02   \n",
       "3        False               1.0              6       C06      H061   \n",
       "4        False               1.0              6       C01       C06   \n",
       "\n",
       "   value_order  model_Cartn_x2  model_Cartn_y2  model_Cartn_z2  \\\n",
       "0            1          26.077          13.812          27.910   \n",
       "1            1          24.573          13.972          26.319   \n",
       "2            2          26.108          12.501          25.848   \n",
       "3            1          27.782          11.099          25.653   \n",
       "4            1          26.108          12.501          25.848   \n",
       "\n",
       "   atomic_number_joined  \n",
       "0                     6  \n",
       "1                     1  \n",
       "2                     6  \n",
       "3                     1  \n",
       "4                     6  "
      ]
     },
     "execution_count": 2,
     "metadata": {},
     "output_type": "execute_result"
    }
   ],
   "source": [
    "# Load the DataFrame from the CSV file\n",
    "file_path = '../data/centralatom-C_numberhydrogens-1/big-table.csv'\n",
    "result_df_final = pd.read_csv(file_path, index_col=0)\n",
    "\n",
    "# Display the loaded DataFrame\n",
    "result_df_final.head()"
   ]
  },
  {
   "cell_type": "markdown",
   "id": "27f525a5-879c-4283-82fb-d4f45ba7a1f8",
   "metadata": {},
   "source": [
    "# Now create the feature vector"
   ]
  },
  {
   "cell_type": "markdown",
   "id": "379bebf3-d463-480d-b70f-53cbff24ea9d",
   "metadata": {},
   "source": [
    "### with central atom for each feature vector and RELATIVE POSITIONS (or we want this)"
   ]
  },
  {
   "cell_type": "code",
   "execution_count": 3,
   "id": "4ed20769-236e-4bba-a832-9c87cb504c7d",
   "metadata": {},
   "outputs": [],
   "source": [
    "# Function to create feature vectors\n",
    "def create_feature_vectors_relative(df):\n",
    "    feature_vectors_dict = {}\n",
    "\n",
    "    for _, row in tqdm(df.iterrows(), total=df.shape[0]):\n",
    "        comp_id = row['comp_id']\n",
    "        atom_id = row['atom_id']\n",
    "        key = (comp_id, atom_id)\n",
    "        \n",
    "        if key not in feature_vectors_dict:\n",
    "            feature_vectors_dict[key] = [\n",
    "                row['atomic_number']\n",
    "            ]\n",
    "\n",
    "        # Append relevant columns\n",
    "        feature_vectors_dict[key].extend([\n",
    "            row['atomic_number_joined'],\n",
    "            row['value_order'],\n",
    "            float(row['model_Cartn_x2']) - float(row['model_Cartn_x']),\n",
    "            float(row['model_Cartn_y2']) - float(row['model_Cartn_y']),\n",
    "            float(row['model_Cartn_z2']) - float(row['model_Cartn_z'])\n",
    "        ])\n",
    "\n",
    "    # Convert the dictionary to a list of feature vectors\n",
    "    feature_vectors = [features for features in feature_vectors_dict.values()]\n",
    "    \n",
    "    return feature_vectors"
   ]
  },
  {
   "cell_type": "code",
   "execution_count": 4,
   "id": "0f67e62a-4fb9-47f0-ae97-579d03977192",
   "metadata": {},
   "outputs": [
    {
     "name": "stderr",
     "output_type": "stream",
     "text": [
      "100%|███████████████████████████████████████████████████████████████████████| 930505/930505 [00:54<00:00, 17200.03it/s]\n"
     ]
    }
   ],
   "source": [
    "# Generate the feature vectors\n",
    "feature_vectors = create_feature_vectors_relative(result_df_final)"
   ]
  },
  {
   "cell_type": "code",
   "execution_count": 7,
   "id": "e31f86f5-276a-4e77-abd8-f22b7151d21e",
   "metadata": {},
   "outputs": [
    {
     "data": {
      "text/plain": [
       "[6,\n",
       " 6,\n",
       " 1,\n",
       " 0.5790000000000006,\n",
       " 0.3359999999999985,\n",
       " 1.25,\n",
       " 1,\n",
       " 1,\n",
       " -0.9250000000000007,\n",
       " 0.49599999999999866,\n",
       " -0.3410000000000011,\n",
       " 6,\n",
       " 2,\n",
       " 0.6099999999999994,\n",
       " -0.9750000000000014,\n",
       " -0.8120000000000012]"
      ]
     },
     "execution_count": 7,
     "metadata": {},
     "output_type": "execute_result"
    }
   ],
   "source": [
    "# with create_feature_vectors_absolute\n",
    "feature_vectors[0]"
   ]
  },
  {
   "cell_type": "markdown",
   "id": "57266c46-53b2-40d2-bb73-38c82574f3f6",
   "metadata": {},
   "source": [
    "# Separate Hydrogens (y) from the feature vector (X)"
   ]
  },
  {
   "cell_type": "code",
   "execution_count": 8,
   "id": "cda2c9a6-fc8d-4360-8eba-26aa379e9f92",
   "metadata": {},
   "outputs": [
    {
     "name": "stderr",
     "output_type": "stream",
     "text": [
      "100%|██████████████████████████████████████████████████████████████████████| 286717/286717 [00:00<00:00, 443937.81it/s]\n"
     ]
    }
   ],
   "source": [
    "X, y = [], []\n",
    "for vec in tqdm(feature_vectors):\n",
    "    assert vec[0] != 1, \"Central atom is hydrogen atom, Aborted program\"\n",
    "    X_auxiliary = []\n",
    "    X_auxiliary.append(vec[0])\n",
    "    found_hydrogen = False\n",
    "    for i in range(1, len(vec), 5):\n",
    "        if vec[i] == 1: # hydrogen case\n",
    "            assert vec[i+1] == 1, \"Hydrogen atom does not have one bonding as it should have\"\n",
    "            assert not found_hydrogen, \"Found more than one bonding to hydrogen\"\n",
    "            y.append(vec[i+2:i+5])\n",
    "            found_hydrogen = True\n",
    "        else:\n",
    "            X_auxiliary.extend(vec[i:i+5])\n",
    "    X.append(X_auxiliary)"
   ]
  },
  {
   "cell_type": "code",
   "execution_count": 13,
   "id": "db017508-0550-4b97-9a77-e8866905a390",
   "metadata": {},
   "outputs": [
    {
     "data": {
      "text/plain": [
       "[6,\n",
       " 6,\n",
       " 1,\n",
       " 1.3820000000000014,\n",
       " 0.4039999999999999,\n",
       " 0.48799999999999955,\n",
       " 7,\n",
       " 1,\n",
       " -0.9800000000000004,\n",
       " 0.18700000000000117,\n",
       " 1.1020000000000003,\n",
       " 6,\n",
       " 1,\n",
       " -0.3739999999999988,\n",
       " 0.8170000000000002,\n",
       " -1.2509999999999977]"
      ]
     },
     "execution_count": 13,
     "metadata": {},
     "output_type": "execute_result"
    }
   ],
   "source": [
    "X[2]"
   ]
  },
  {
   "cell_type": "code",
   "execution_count": 14,
   "id": "500aa282-ae63-43e0-bb5c-6bb82a9b18a1",
   "metadata": {},
   "outputs": [
    {
     "data": {
      "text/plain": [
       "[-0.009000000000000341, -1.077, -0.29199999999999804]"
      ]
     },
     "execution_count": 14,
     "metadata": {},
     "output_type": "execute_result"
    }
   ],
   "source": [
    "y[2]"
   ]
  },
  {
   "cell_type": "markdown",
   "id": "45875e9d-fe11-405f-b194-fe5aacf57831",
   "metadata": {},
   "source": [
    "# Sort input X with respect to the atomic number of the bondings (e.g. first all bondings of 6, then all bondings of 7, ...) \n",
    "- must be done **before zero padding!**\n",
    "- makes the input more permutation invariant"
   ]
  },
  {
   "cell_type": "code",
   "execution_count": 16,
   "id": "9df4c033-fc7f-4cc8-bd83-78011bc4c77c",
   "metadata": {},
   "outputs": [],
   "source": [
    "def sort_bondings(X):\n",
    "    # Extract the central atom\n",
    "    central_atom = X[0]\n",
    "    \n",
    "    # Extract the bondings (each bonding consists of 5 values)\n",
    "    bondings = [X[i:i+5] for i in range(1, len(X), 5)]\n",
    "    \n",
    "    # Sort the bondings based on the atomic number of the bonded atom\n",
    "    sorted_bondings = sorted(bondings, key=lambda b: b[0])\n",
    "    \n",
    "    # Flatten the sorted bondings and reconstruct X\n",
    "    sorted_X = [central_atom] + [item for sublist in sorted_bondings for item in sublist]\n",
    "    \n",
    "    return sorted_X"
   ]
  },
  {
   "cell_type": "code",
   "execution_count": 17,
   "id": "b256da08-0074-43ab-ac9e-0f90cc277729",
   "metadata": {},
   "outputs": [],
   "source": [
    "X_sorted = [sort_bondings(vec) for vec in X]"
   ]
  },
  {
   "cell_type": "code",
   "execution_count": 19,
   "id": "5258b400-91ce-43d3-acd9-f1935ebf64c3",
   "metadata": {},
   "outputs": [
    {
     "data": {
      "text/plain": [
       "[6,\n",
       " 6,\n",
       " 1,\n",
       " 1.3820000000000014,\n",
       " 0.4039999999999999,\n",
       " 0.48799999999999955,\n",
       " 7,\n",
       " 1,\n",
       " -0.9800000000000004,\n",
       " 0.18700000000000117,\n",
       " 1.1020000000000003,\n",
       " 6,\n",
       " 1,\n",
       " -0.3739999999999988,\n",
       " 0.8170000000000002,\n",
       " -1.2509999999999977]"
      ]
     },
     "execution_count": 19,
     "metadata": {},
     "output_type": "execute_result"
    }
   ],
   "source": [
    "X[2]"
   ]
  },
  {
   "cell_type": "code",
   "execution_count": 20,
   "id": "bd678adf-3767-4fd1-a47b-7d4bcf130c63",
   "metadata": {},
   "outputs": [
    {
     "data": {
      "text/plain": [
       "[6,\n",
       " 6,\n",
       " 1,\n",
       " 1.3820000000000014,\n",
       " 0.4039999999999999,\n",
       " 0.48799999999999955,\n",
       " 6,\n",
       " 1,\n",
       " -0.3739999999999988,\n",
       " 0.8170000000000002,\n",
       " -1.2509999999999977,\n",
       " 7,\n",
       " 1,\n",
       " -0.9800000000000004,\n",
       " 0.18700000000000117,\n",
       " 1.1020000000000003]"
      ]
     },
     "execution_count": 20,
     "metadata": {},
     "output_type": "execute_result"
    }
   ],
   "source": [
    "X_sorted[2]"
   ]
  },
  {
   "cell_type": "code",
   "execution_count": 21,
   "id": "79332357-9db7-47dc-8aa5-d547546f9aa1",
   "metadata": {},
   "outputs": [],
   "source": [
    "X = X_sorted"
   ]
  },
  {
   "cell_type": "code",
   "execution_count": 51,
   "id": "232da887-3f36-4041-991f-4eab973c8796",
   "metadata": {},
   "outputs": [],
   "source": [
    "import pickle\n",
    "\n",
    "# Save the training data\n",
    "with open('../data/centralatom-C_numberhydrogens-1/data-for-analysis.pkl', 'wb') as f:\n",
    "    pickle.dump((X_sorted, y), f)"
   ]
  },
  {
   "cell_type": "markdown",
   "id": "2ad40038-fa10-4508-9647-f472a0e1880f",
   "metadata": {},
   "source": [
    "### identify largest feature vector (for zero padding later)\n",
    "- Result:\n",
    "    - for all central atoms: 26 (Interpretation: Each bonding consumes 5 values and we have the atomic number of the central atom in the beginning --> 5 Bondings is max.)\n",
    "    - for central atom C: 21"
   ]
  },
  {
   "cell_type": "markdown",
   "id": "69be7976-ae99-4944-b143-9304a8c7898f",
   "metadata": {},
   "source": [
    "# Zero Padding"
   ]
  },
  {
   "cell_type": "code",
   "execution_count": 22,
   "id": "54bff37b-3741-4438-a24d-14145f9fbbfd",
   "metadata": {},
   "outputs": [
    {
     "name": "stdout",
     "output_type": "stream",
     "text": [
      "Max feature vector length is:  21\n"
     ]
    }
   ],
   "source": [
    "max_length = 0\n",
    "for vec in X:\n",
    "    if len(vec) > max_length:\n",
    "        max_length = len(vec)\n",
    "print(\"Max feature vector length is: \", max_length)"
   ]
  },
  {
   "cell_type": "code",
   "execution_count": 23,
   "id": "1e136613-c1c2-4921-b94f-b54a334163b7",
   "metadata": {},
   "outputs": [],
   "source": [
    "# Pad the lists with zeros to the maximum length\n",
    "X_padded = [lst + [0] * (max_length - len(lst)) for lst in X]"
   ]
  },
  {
   "cell_type": "code",
   "execution_count": 24,
   "id": "531378ac-ea64-4f4b-9e39-d47bd7a3756f",
   "metadata": {},
   "outputs": [],
   "source": [
    "X_padded = np.asarray(X_padded)"
   ]
  },
  {
   "cell_type": "code",
   "execution_count": 25,
   "id": "af9ba310-c6b0-4441-8cba-880b2e449aa8",
   "metadata": {},
   "outputs": [
    {
     "data": {
      "text/plain": [
       "(286717, 21)"
      ]
     },
     "execution_count": 25,
     "metadata": {},
     "output_type": "execute_result"
    }
   ],
   "source": [
    "X_padded.shape"
   ]
  },
  {
   "cell_type": "markdown",
   "id": "f37a11e5-1432-46dc-8807-24699c36a646",
   "metadata": {},
   "source": [
    "# Append descriptor to the vector (code is not for one hot encoded features!)"
   ]
  },
  {
   "cell_type": "code",
   "execution_count": 26,
   "id": "64e71595-f6eb-4fb5-b2c2-bbc6fbbdac86",
   "metadata": {},
   "outputs": [],
   "source": [
    "from dscribe.descriptors import CoulombMatrix\n",
    "from ase import Atoms\n",
    "\n",
    "cm = CoulombMatrix(n_atoms_max=int((max_length-1)/5) + 1, permutation='none')"
   ]
  },
  {
   "cell_type": "code",
   "execution_count": 27,
   "id": "513805c8-26d4-4a12-8a3b-889977fe1584",
   "metadata": {},
   "outputs": [
    {
     "name": "stderr",
     "output_type": "stream",
     "text": [
      "100%|███████████████████████████████████████████████████████████████████████| 286717/286717 [00:21<00:00, 13063.73it/s]\n"
     ]
    }
   ],
   "source": [
    "X_padded_descriptor = []\n",
    "for vec in tqdm(X_padded):\n",
    "    X_auxiliary = []\n",
    "    X_auxiliary.extend(vec)\n",
    "\n",
    "    # collect parameters for the descriptor\n",
    "    symbols = [gemmi.Element(int(vec[0])).name]\n",
    "    positions = [np.array([0, 0, 0])]\n",
    "    for i in range(1, len(vec), 5):\n",
    "        if vec[i] != 0: # check that we are not in the zero padding\n",
    "            symbols.append(gemmi.Element(int(vec[i])).name)\n",
    "            positions.append(vec[i+2:i+5])\n",
    "\n",
    "    # create descriptor\n",
    "    atoms_object = Atoms(symbols=symbols, positions=positions)\n",
    "    atoms_object_descriptor = cm.create(atoms_object)\n",
    "\n",
    "    # append to the current zero padded feature vector\n",
    "    X_auxiliary.extend(atoms_object_descriptor)\n",
    "    X_padded_descriptor.append(X_auxiliary)"
   ]
  },
  {
   "cell_type": "code",
   "execution_count": 28,
   "id": "1f6357ed-b13f-41fe-83ad-e486c3e35578",
   "metadata": {},
   "outputs": [
    {
     "data": {
      "text/plain": [
       "[6,\n",
       " 6,\n",
       " 1,\n",
       " 0.5790000000000006,\n",
       " 0.3359999999999985,\n",
       " 1.25,\n",
       " 6,\n",
       " 2,\n",
       " 0.6099999999999994,\n",
       " -0.9750000000000014,\n",
       " -0.8120000000000012]"
      ]
     },
     "execution_count": 28,
     "metadata": {},
     "output_type": "execute_result"
    }
   ],
   "source": [
    "X[0]"
   ]
  },
  {
   "cell_type": "code",
   "execution_count": 29,
   "id": "aa9e76da-d02c-4a0b-9fbb-9cd30c6a2474",
   "metadata": {},
   "outputs": [
    {
     "data": {
      "text/plain": [
       "array([ 6.   ,  6.   ,  1.   ,  0.579,  0.336,  1.25 ,  6.   ,  2.   ,\n",
       "        0.61 , -0.975, -0.812,  0.   ,  0.   ,  0.   ,  0.   ,  0.   ,\n",
       "        0.   ,  0.   ,  0.   ,  0.   ,  0.   ])"
      ]
     },
     "execution_count": 29,
     "metadata": {},
     "output_type": "execute_result"
    }
   ],
   "source": [
    "X_padded[0]"
   ]
  },
  {
   "cell_type": "code",
   "execution_count": 30,
   "id": "6b56ee0c-72ec-43f4-9226-b4a58fe5edd5",
   "metadata": {
    "scrolled": true
   },
   "outputs": [
    {
     "data": {
      "text/plain": [
       "array([ 6.        ,  6.        ,  1.        ,  0.579     ,  0.336     ,\n",
       "        1.25      ,  6.        ,  2.        ,  0.61      , -0.975     ,\n",
       "       -0.812     ,  0.        ,  0.        ,  0.        ,  0.        ,\n",
       "        0.        ,  0.        ,  0.        ,  0.        ,  0.        ,\n",
       "        0.        , 36.8581052 , 25.3884195 , 25.57072939,  0.        ,\n",
       "        0.        , 25.3884195 , 36.8581052 , 14.73193646,  0.        ,\n",
       "        0.        , 25.57072939, 14.73193646, 36.8581052 ,  0.        ,\n",
       "        0.        ,  0.        ,  0.        ,  0.        ,  0.        ,\n",
       "        0.        ,  0.        ,  0.        ,  0.        ,  0.        ,\n",
       "        0.        ])"
      ]
     },
     "execution_count": 30,
     "metadata": {},
     "output_type": "execute_result"
    }
   ],
   "source": [
    "np.array(X_padded_descriptor[0])"
   ]
  },
  {
   "cell_type": "markdown",
   "id": "df0b2366-f220-40f5-9675-d71a2a171bfd",
   "metadata": {},
   "source": [
    "# Encoding \n",
    "Options:\n",
    "- atomic number\n",
    "    - One hot encoding (because ordinality makes no sense) or\n",
    "    - One hot encoding of most important atoms and leave one encoding for all the other atoms, e.g. 0, 0, 0, ..., 1 is all the other atoms\n",
    "    - leave as it is hoping that it works\n",
    "- value order (bonding)\n",
    "    - One hot encoding for value order of bonding (although ordinality makes sense here)\n",
    "    - leave as it is"
   ]
  },
  {
   "cell_type": "markdown",
   "id": "d7b04719-8565-4b00-a97f-59bd3b55cffc",
   "metadata": {},
   "source": [
    "### prepare for one hot encoding of atomic number value (count distinct values)\n",
    "- Result: 38 different values --> large one hot encoding --> worth it?"
   ]
  },
  {
   "cell_type": "code",
   "execution_count": 28,
   "id": "cc6292ee-1227-4273-996a-4ee6f68eb383",
   "metadata": {},
   "outputs": [
    {
     "name": "stdout",
     "output_type": "stream",
     "text": [
      "{6: 831357, 1: 286717, 7: 54595, 8: 39999, 15: 356, 16: 3011, 5: 109, 17: 109, 34: 36, 44: 97, 9: 719, 76: 9, 53: 4, 77: 3, 26: 54, 35: 31, 14: 8, 27: 1, 46: 1, 78: 2, 75: 4}\n",
      "[1, 5, 6, 7, 8, 9, 14, 15, 16, 17, 26, 27, 34, 35, 44, 46, 53, 75, 76, 77, 78]\n",
      "21\n"
     ]
    }
   ],
   "source": [
    "# Initialize a dictionary to store the count of each atomic number\n",
    "atomic_number_counts = {}\n",
    "\n",
    "# Iterate through each feature vector\n",
    "for vec in feature_vectors:\n",
    "    # Count the atomic number of the central atom\n",
    "    central_atom = vec[0]\n",
    "    if central_atom in atomic_number_counts:\n",
    "        atomic_number_counts[central_atom] += 1\n",
    "    else:\n",
    "        atomic_number_counts[central_atom] = 1\n",
    "    \n",
    "    # Count the atomic numbers of the bonded atoms\n",
    "    for i in range(1, len(vec), 5):\n",
    "        bonded_atom = vec[i]\n",
    "        if bonded_atom in atomic_number_counts:\n",
    "            atomic_number_counts[bonded_atom] += 1\n",
    "        else:\n",
    "            atomic_number_counts[bonded_atom] = 1\n",
    "\n",
    "print(atomic_number_counts)\n",
    "print(sorted(list(atomic_number_counts.keys())))\n",
    "print(len(atomic_number_counts.keys()))"
   ]
  },
  {
   "cell_type": "markdown",
   "id": "2059eedc-54e0-4158-9111-35f1584f03ef",
   "metadata": {},
   "source": [
    "### Variant 1: one hot encoding for atomic number and for value order\n",
    "- 5 one hot encoding for atomic number: 10000 for C, 01000 for N, 00100 for O, 00010 for S, 00001 for the rest\n",
    "- 3 one hot encoding for value order: 100 for 1, 010 for 2, 001 for 3"
   ]
  },
  {
   "cell_type": "code",
   "execution_count": 33,
   "id": "9d079281-e43d-48ea-ae4c-0d4190e04e73",
   "metadata": {},
   "outputs": [],
   "source": [
    "# One-hot encoding functions\n",
    "def one_hot_encode_centralatom(value):\n",
    "    if value == 0:  # for the zero padded values\n",
    "        return [0, 0, 0, 0, 0]\n",
    "    elif value == 6:\n",
    "        return [1, 0, 0, 0, 0]\n",
    "    elif value == 7:\n",
    "        return [0, 1, 0, 0, 0]\n",
    "    elif value == 8:\n",
    "        return [0, 0, 1, 0, 0]\n",
    "    elif value == 16:\n",
    "        return [0, 0, 0, 1, 0]\n",
    "    else:\n",
    "        return [0, 0, 0, 0, 1]\n",
    "\n",
    "def one_hot_encode_valueorder(value):\n",
    "    if value == 0:  # for the zero padded values\n",
    "        return [0, 0, 0]\n",
    "    elif value == 1:\n",
    "        return [1, 0, 0]\n",
    "    elif value == 2:\n",
    "        return [0, 1, 0]\n",
    "    elif value == 3:\n",
    "        return [0, 0, 1]\n",
    "    else:\n",
    "        print(\"Mistake occurred!\")\n",
    "        return"
   ]
  },
  {
   "cell_type": "code",
   "execution_count": 37,
   "id": "0da970f0-bb7c-4429-b06d-a92e6db1be5d",
   "metadata": {},
   "outputs": [
    {
     "name": "stdout",
     "output_type": "stream",
     "text": [
      "Central atom indices:  [1, 6, 11, 16]\n",
      "Value order indices:  [2, 7, 12, 17]\n"
     ]
    }
   ],
   "source": [
    "centralatom_indices_to_encode = list(range(1, max_length, 5))\n",
    "print(\"Central atom indices: \", centralatom_indices_to_encode)\n",
    "\n",
    "valueorder_indices_to_encode = list(range(2, max_length, 5))\n",
    "print(\"Value order indices: \", valueorder_indices_to_encode)"
   ]
  },
  {
   "cell_type": "code",
   "execution_count": 39,
   "id": "d07d20cd-edf4-4fbf-9662-2017ce672887",
   "metadata": {},
   "outputs": [
    {
     "data": {
      "text/plain": [
       "46"
      ]
     },
     "execution_count": 39,
     "metadata": {},
     "output_type": "execute_result"
    }
   ],
   "source": [
    "len(X_padded_descriptor[0])"
   ]
  },
  {
   "cell_type": "code",
   "execution_count": 42,
   "id": "ebcfb64b-b538-44ed-bcf9-c744c42e4c38",
   "metadata": {},
   "outputs": [
    {
     "name": "stderr",
     "output_type": "stream",
     "text": [
      "100%|███████████████████████████████████████████████████████████████████████| 286717/286717 [00:05<00:00, 50231.14it/s]\n"
     ]
    }
   ],
   "source": [
    "# Create the new array with one-hot encoded values\n",
    "X_encoded = []\n",
    "for sample in tqdm(X_padded_descriptor):\n",
    "    new_sample = []\n",
    "    for i, value in enumerate(sample):  # max_length \n",
    "        if i in centralatom_indices_to_encode:\n",
    "            new_sample.extend(one_hot_encode_centralatom(value))\n",
    "        elif i in valueorder_indices_to_encode:\n",
    "            new_sample.extend(one_hot_encode_valueorder(value))\n",
    "        else:\n",
    "            new_sample.append(value)\n",
    "    X_encoded.append(new_sample)"
   ]
  },
  {
   "cell_type": "code",
   "execution_count": 43,
   "id": "f267d789-8fb6-41fc-a615-5cb520973907",
   "metadata": {},
   "outputs": [
    {
     "data": {
      "text/plain": [
       "70"
      ]
     },
     "execution_count": 43,
     "metadata": {},
     "output_type": "execute_result"
    }
   ],
   "source": [
    "len(X_encoded[0])"
   ]
  },
  {
   "cell_type": "code",
   "execution_count": 44,
   "id": "bf546fe6-dce2-4fa7-b453-d2a2f6cead48",
   "metadata": {},
   "outputs": [],
   "source": [
    "# Convert to numpy array\n",
    "X_encoded = np.array(X_encoded)"
   ]
  },
  {
   "cell_type": "code",
   "execution_count": 45,
   "id": "06d607c4-6d51-482b-b765-7b5738a8afed",
   "metadata": {},
   "outputs": [
    {
     "data": {
      "text/plain": [
       "(286717, 70)"
      ]
     },
     "execution_count": 45,
     "metadata": {},
     "output_type": "execute_result"
    }
   ],
   "source": [
    "X_encoded.shape"
   ]
  },
  {
   "cell_type": "code",
   "execution_count": 46,
   "id": "25f3ac97-86e0-445a-8fb0-1a93ec2cbfdb",
   "metadata": {},
   "outputs": [
    {
     "data": {
      "text/plain": [
       "array([ 6.        ,  1.        ,  0.        ,  0.        ,  0.        ,\n",
       "        0.        ,  1.        ,  0.        ,  0.        ,  0.579     ,\n",
       "        0.336     ,  1.25      ,  1.        ,  0.        ,  0.        ,\n",
       "        0.        ,  0.        ,  0.        ,  1.        ,  0.        ,\n",
       "        0.61      , -0.975     , -0.812     ,  0.        ,  0.        ,\n",
       "        0.        ,  0.        ,  0.        ,  0.        ,  0.        ,\n",
       "        0.        ,  0.        ,  0.        ,  0.        ,  0.        ,\n",
       "        0.        ,  0.        ,  0.        ,  0.        ,  0.        ,\n",
       "        0.        ,  0.        ,  0.        ,  0.        ,  0.        ,\n",
       "       36.8581052 , 25.3884195 , 25.57072939,  0.        ,  0.        ,\n",
       "       25.3884195 , 36.8581052 , 14.73193646,  0.        ,  0.        ,\n",
       "       25.57072939, 14.73193646, 36.8581052 ,  0.        ,  0.        ,\n",
       "        0.        ,  0.        ,  0.        ,  0.        ,  0.        ,\n",
       "        0.        ,  0.        ,  0.        ,  0.        ,  0.        ])"
      ]
     },
     "execution_count": 46,
     "metadata": {},
     "output_type": "execute_result"
    }
   ],
   "source": [
    "X_encoded[0]"
   ]
  },
  {
   "cell_type": "markdown",
   "id": "594be9e9-a033-4835-bb7d-92e3652a65ef",
   "metadata": {},
   "source": [
    "# Split to training and testing dataset and save"
   ]
  },
  {
   "cell_type": "code",
   "execution_count": 48,
   "id": "af3eea6e-3f1e-4042-8bd4-0e75f53f543f",
   "metadata": {},
   "outputs": [],
   "source": [
    "from sklearn.model_selection import train_test_split\n",
    "\n",
    "# Split the data\n",
    "X_train, X_test, y_train, y_test = train_test_split(X_encoded, y, test_size=0.1, random_state=42)"
   ]
  },
  {
   "cell_type": "code",
   "execution_count": 49,
   "id": "04286d9e-f8d4-4ca3-98f5-69d12b7c58b1",
   "metadata": {},
   "outputs": [],
   "source": [
    "# Save the training data\n",
    "with open('../data/centralatom-C_numberhydrogens-1/training-validation.pkl', 'wb') as f:\n",
    "    pickle.dump((X_train, y_train), f)\n",
    "\n",
    "# Save the testing data\n",
    "with open('../data/centralatom-C_numberhydrogens-1/testing.pkl', 'wb') as f:\n",
    "    pickle.dump((X_test, y_test), f)"
   ]
  },
  {
   "cell_type": "markdown",
   "id": "16faf8f3-dfa6-420c-8e77-202f685b071e",
   "metadata": {},
   "source": [
    "# Auxiliary"
   ]
  },
  {
   "cell_type": "markdown",
   "id": "f5b1ee67-361c-451e-b2e3-bb7f2f4fa41d",
   "metadata": {},
   "source": [
    "#### know these two inverted functions!"
   ]
  },
  {
   "cell_type": "code",
   "execution_count": 34,
   "id": "0d21d4e0-6330-4f6c-9a93-5c0ca97c560c",
   "metadata": {},
   "outputs": [
    {
     "name": "stdout",
     "output_type": "stream",
     "text": [
      "6\n",
      "C\n"
     ]
    }
   ],
   "source": [
    "print(gemmi.Element('C').atomic_number)\n",
    "print(gemmi.Element(6).name)"
   ]
  },
  {
   "cell_type": "code",
   "execution_count": null,
   "id": "8c070746-a07e-4980-aba5-6b0c679962d4",
   "metadata": {},
   "outputs": [],
   "source": []
  }
 ],
 "metadata": {
  "kernelspec": {
   "display_name": "Python 3 (ipykernel)",
   "language": "python",
   "name": "python3"
  },
  "language_info": {
   "codemirror_mode": {
    "name": "ipython",
    "version": 3
   },
   "file_extension": ".py",
   "mimetype": "text/x-python",
   "name": "python",
   "nbconvert_exporter": "python",
   "pygments_lexer": "ipython3",
   "version": "3.11.9"
  }
 },
 "nbformat": 4,
 "nbformat_minor": 5
}
